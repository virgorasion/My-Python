{
 "cells": [
  {
   "cell_type": "markdown",
   "metadata": {
    "collapsed": false
   },
   "source": [
    "# <font color=blue>Teknik Rekursif</font>\n",
    "\n",
    "\n",
    "Teknik pemrograman Rekursif\n",
    "***"
   ]
  },
  {
   "cell_type": "markdown",
   "metadata": {
    "collapsed": false
   },
   "source": [
    "Beberapa permasalahan tertentu terkadang membutuhkan penyelesaian dengan cara perulangan, misalkan permasalahan pengurutan, perhitungan deret, dan sebagainya.<br>\n",
    "Terdapat dua metode untuk menyelesaikan permasalahan tersebut, yaitu :\n",
    "1. [Iteratif](#Iteratif)\n",
    "2. [Rekursif](#Rekursif)\n",
    "3. [Implementasi Rekursif](#Implementasi-Rekursif)\n",
    "4. [Visualisasi Fraktal](#Visualisasi-Teknik-Pemrograman-Rekursif)"
   ]
  },
  {
   "cell_type": "markdown",
   "metadata": {
    "collapsed": false
   },
   "source": [
    "## Iteratif\n",
    "\n",
    "Iteratif merupakan penyelesaian permasalahan dengan perulangan, menggunakan syntax ```for``` atau ```while``` (pada Python). <br>\n",
    "\n",
    "Misalkan permasalahan perhitungan faktorial suatu bilangan, yaitu : $5!=5 \\times 4 \\times 3 \\times 2 \\times 1$, atau $n!=n \\times (n-1) \\times (n-2) \\times (n-3) \\times ... \\times 1$, <br>\n",
    "maka perhitungan faktorial suatu bilangan dapat dilakukan dengan cara iterasi, yaitu mengmenghitung operasi perkalian mulai dari bilangan tersebut sampai dengan satu.\n",
    "\n",
    "## Code\n",
    "Berikut adalah code untuk perhitungan faktorial suatu bilangan dengan menggunakan cara iteratif.  <br> Pada code ini, terdapat iterasi while, yang menghitung perkalian, mulai dari $n$, sampai dengan 2.\n"
   ]
  },
  {
   "cell_type": "code",
   "execution_count": 1,
   "metadata": {
    "collapsed": false
   },
   "outputs": [
   ],
   "source": [
    "def factorialIteratif(bilangan):\n",
    "    if bilangan <=1:\n",
    "        return(1)\n",
    "    else:\n",
    "        temp=bilangan\n",
    "        hasil=1\n",
    "        while temp>1:\n",
    "            hasil=hasil*temp\n",
    "            temp=temp-1\n",
    "        return(hasil)"
   ]
  },
  {
   "cell_type": "code",
   "execution_count": 2,
   "metadata": {
    "collapsed": false,
    "scrolled": true
   },
   "outputs": [
    {
     "name": "stdout",
     "output_type": "stream",
     "text": [
      "24\n"
     ]
    }
   ],
   "source": [
    "print(factorialIteratif(4))"
   ]
  },
  {
   "cell_type": "markdown",
   "metadata": {
    "collapsed": false
   },
   "source": [
    "[**Kembali ke Menu Awal**](#Teknik-Rekursif)\n",
    "\n",
    "Suatu permasalahan akan lebih mudah dipecahkan jika permasalahan tersebut berukuran kecil.  Misalkan pengurutan data akan lebih mudah dilakukan jika data yang diurutkan hanya terdiri dari dua buah data saja, sehingga pengurutan dapat dilakukan dengan membandingkan dua data tersebut saja. <br>\n",
    "Rekursif merupakan suatu teknik pemrograman yang memecah permasalahan menjadi permasalahan dengan ukuran yang lebih kecil dan lebih kecil lagi, sehingga permasalahan dengan ukuran kecil tersebut dapat dengan mudah dipecahkan.  Teknik ini dapat dilakukan dengan cara memanggil fungsi itu sendiri. \n",
    "\n",
    "Jika pada contoh sebelumnya, untuk menghitung suatu bilangan dapat dilakukan dengan menggunakan cara iterasi, maka berikut ini adalah penyelesaian perhitungan faktorial dengan cara rekursif.\n"
   ]
  },
  {
   "cell_type": "markdown",
   "metadata": {
    "collapsed": false
   },
   "source": [
    "\n",
    "Misalkan hitung 5!, maka dapat dihitung dengan cara sebagai berikut,\n",
    "\\begin{eqnarray}\n",
    "5!&=& 5 \\times 4 \\times 3 \\times 2 \\times 1\\\\\n",
    "&=& 5 \\times 4!\n",
    "\\end{eqnarray}\n",
    "dimana\n",
    "\\begin{eqnarray}\n",
    "4!&=& 4 \\times 3 \\times 2 \\times 1 \\\\\n",
    "&=& 4 \\times 3!\n",
    "\\end{eqnarray}\n",
    "\n",
    "dimana\n",
    "\\begin{eqnarray}\n",
    "3!&=& 3 \\times 2 \\times 1 \\\\\n",
    "&=& 3 \\times 2!\n",
    "\\end{eqnarray}\n",
    "\n",
    "dimana\n",
    "\\begin{eqnarray}\n",
    "2!&=& 2 \\times 1 \\\\\n",
    "&=& 1 \\times 1!\n",
    "\\end{eqnarray}\n",
    "\n",
    "dimana $1!=1$\n",
    "\n",
    "atau jika dibuat pola secara umum, maka $n!=n \\times (n-1)! $"
   ]
  },
  {
   "cell_type": "markdown",
   "metadata": {
    "collapsed": false
   },
   "source": [
    "## Code\n",
    "Berikut adalah code untuk perhitungan faktorial dengan cara rekursif"
   ]
  },
  {
   "cell_type": "code",
   "execution_count": 3,
   "metadata": {
    "collapsed": true
   },
   "outputs": [
   ],
   "source": [
    "def factorialRekursif(bilangan):\n",
    "    if bilangan <=1:\n",
    "        return(1)\n",
    "    else:\n",
    "        return(bilangan * factorialRekursif(bilangan-1))\n",
    "        "
   ]
  },
  {
   "cell_type": "code",
   "execution_count": 5,
   "metadata": {
    "collapsed": false
   },
   "outputs": [
    {
     "name": "stdout",
     "output_type": "stream",
     "text": [
      "24\n"
     ]
    }
   ],
   "source": [
    "data=factorialRekursif(4)\n",
    "print(data)"
   ]
  },
  {
   "cell_type": "markdown",
   "metadata": {
    "collapsed": false
   },
   "source": [
    "Dari fungsi tersebut dapat dilihat bahwa teknik pemrograman rekursif ini melibatkan pemanggilan fungsinya itu sendiri dengan argument atau parameter yang berukuran lebih kecil.\n",
    "Berikut beberapa aturan dalam teknik pemrograman rekursif:\n",
    "- Fungsi rekursif harus memiliki *base case*, *base case* inilah yang berfungsi untuk menghentikan pemanggilan terus menerus fungsi rekursif\n",
    "- fungsi rekursif harus memiliki sintaks yang dapat merubah state dari permasalahan, sehingga semakin lama solusi permasalahan menuju *base case* yang sudah dibuat\n",
    "- Fungsi rekursif harus memanggil dirinya sendiri\n"
   ]
  },
  {
   "cell_type": "markdown",
   "metadata": {
    "collapsed": false
   },
   "source": [
    "[**Kembali ke Menu Awal**](#Teknik-Rekursif)"
   ]
  },
  {
   "cell_type": "markdown",
   "metadata": {
    "collapsed": false
   },
   "source": [
    "## Implementasi Rekursif\n",
    "\n",
    "Banyak permasalahan yang dapat diselesaikan dengan teknik pemrograman rekursif ini.  Berikut contoh-contoh implementasi rekursif.\n",
    "\n",
    "### *Triangular Numbers*\n",
    "\n",
    "Terdapat deret bilangan berikut : 1, 3, 6, 10, 15, 21, 28, 36, ...\n",
    "Bagaimanakah pola bilangan tersebut ? <br>\n",
    "Deret bilangan tersebut dikenal dengan nama **Triangular Numbers**, yang dapat diilustrasikan seperti Gambar 1 berikut. <br>\n",
    "\n",
    "![title](images/triangularNumbers.png)<br>\n",
    "\n",
    "**Gambar 1. Triangular Numbers**\n",
    "\n",
    "Bagaimana menentukan bilangan ke-$n$ dari deret tersebut ? <br>\n",
    "\n",
    "Ilustrasi perhitungan deret keempat dari **triangular numbers** dapat dilihat pada Gambar 2 berikut: <br>\n",
    "![title](images/triangularNumbers2.png) <br>\n",
    "\n",
    "**Gambar 2. Perhitungan Triangular Numbers**\n",
    "\n",
    "Dapat dilihat pada Gambar tersebut bahwa kolom pertama memiliki 4 kotak, kolom kedua memiliki 3 kotak, kolom ketiga memiliki 2 kotak, dan kolom terakhir memiliki 1 kotak, jumlah kotak total adalah 10, oleh karena itu deret ke-empat dari triangular numbers adalah 10. <br>\n",
    "Berikut fungsi iteratif untuk mencari deret ke-$n$ dari triangular numbers"
   ]
  },
  {
   "cell_type": "markdown",
   "metadata": {
    "collapsed": false
   },
   "source": [
    "## Code\n",
    "\n",
    "Berikut adalah code untuk menghitung *triangular numbers* melalui teknik iteratif"
   ]
  },
  {
   "cell_type": "code",
   "execution_count": 6,
   "metadata": {
    "collapsed": true
   },
   "outputs": [
   ],
   "source": [
    "def triangularNumbers1(n):\n",
    "    total=0\n",
    "    temp=n\n",
    "    while temp>=1:\n",
    "        total+=temp\n",
    "        temp-=1\n",
    "    return(total)"
   ]
  },
  {
   "cell_type": "code",
   "execution_count": 7,
   "metadata": {
    "collapsed": false
   },
   "outputs": [
    {
     "name": "stdout",
     "output_type": "stream",
     "text": [
      "3\n"
     ]
    }
   ],
   "source": [
    "print(triangularNumbers1(2))"
   ]
  },
  {
   "cell_type": "markdown",
   "metadata": {
    "collapsed": false
   },
   "source": [
    "## Code\n",
    "\n",
    "Untuk mencari deret ke-$n$ dari triangular numbers, dapat juga digunakan fungsi rekursif seperti permasalahan perhitungan faktorial sebelumnya.  *Base case* dari triangular numbers ini adalah ketika deret ke-1 yang bernilai 1.\n",
    "Berikut fungsi rekursif dari triangular numbers."
   ]
  },
  {
   "cell_type": "code",
   "execution_count": 0,
   "metadata": {
    "collapsed": true
   },
   "outputs": [
   ],
   "source": [
    "def triangularNumbers2(n):\n",
    "    if n==1:\n",
    "        return(1)\n",
    "    else:\n",
    "        return (n + triangularNumbrs2(n-1))"
   ]
  },
  {
   "cell_type": "code",
   "execution_count": 0,
   "metadata": {
    "collapsed": false
   },
   "outputs": [
   ],
   "source": [
    "print(triangularNumbers1(8))"
   ]
  },
  {
   "cell_type": "markdown",
   "metadata": {
    "collapsed": false
   },
   "source": [
    "### Konversi Bilangan\n",
    "\n",
    "Bilangan integer dikenal juga sebagai bilangan dengan *base* 10 (desimal), sehingga memiliki kemungkinan character angka dari 0 s.d 9.  Sedangkan *base* 2 atau yang dikenal nama bilangan biner, hanya memiliki kemungkinan character angka 0 dan 1 saja.  Base 8 atau octal, hanya memiliki character 0 s.d 7, sedangkan base 16 atau hexa, memiliki character angka mulai dari 0 s.d 9 dan 'A','B','C','D','E', dan 'F'.\n",
    "Masing-masing bilangan ini dapat dikonversikan menjadi bilangan base lain, akan tetapi yang sering digunakan adalah konversi bilangan desimal ke bilangan base yang lain, atau dari base 2, 8, 16 ke bilangan desimal.\n",
    "Berikut contoh konversi bilangan desimal ke bilangan base 2, 8, atau 16.\n",
    "\n",
    "Bilangan desimal 8 menjadi bilangan biner '1000'.  Untuk merubah bilangan desimal 8 menjadi biner, diperlukan operasi pembagian dan modulo dari bilangan desimal tersebut.\n",
    "\n",
    "## Code \n",
    "\n",
    "Berikut fungsi rekursif untuk konversi bilangan desimal menjadi bilangan base yang lain."
   ]
  },
  {
   "cell_type": "code",
   "execution_count": 0,
   "metadata": {
    "collapsed": false
   },
   "outputs": [
   ],
   "source": [
    "def konversiDesimal(bilangan,base):\n",
    "    charBilangan='0123456789ABCDEF'\n",
    "    if bilangan<base:\n",
    "        return(charBilangan[bilangan])\n",
    "    else:\n",
    "        temp=bilangan//base\n",
    "        ind=bilangan % base\n",
    "        print(type(temp),temp,type(ind),ind)\n",
    "        return(konversiDesimal(temp,base)+charBilangan[ind])"
   ]
  },
  {
   "cell_type": "code",
   "execution_count": 0,
   "metadata": {
    "collapsed": false
   },
   "outputs": [
   ],
   "source": [
    "konversiDesimal(5,2)"
   ]
  },
  {
   "cell_type": "markdown",
   "metadata": {
    "collapsed": false
   },
   "source": [
    "### Towers of Hanoi\n",
    "\n",
    "Towers of Hanoi ini diinspirasi oleh cerita mitos dari sebuah kuil di India.  Pada saat itu, pendeta memerintahkan para pekerjanya atau pendeta muda untuk memindahkan 64 piringan emas dengan ukuran yang berbeda-beda dari satu tiang ke tiang lainnya.  Syarat memindahkan piringan emas ini adalah :\n",
    "- piringan emas harus dipindahkan satu persatu\n",
    "- piringan emas berukuran kecil harus berada diatas piringan emas berukuran besar.\n",
    "Piringan emas dan tiang, dapat diilustrasikan pada Gambar 3 berikut : <br>\n",
    "![title](images/hanoi1.png) <br>\n",
    "**Gambar 3. Tower of Hanoi**\n",
    "\n",
    "Mitos mengatakan bahwa, ketika tugas ini selesai, maka kuil akan lenyap dan dunia akan hilang.  Tetapi ini hanya mitos saja, dan untuk memindahkan piringan emas satu persatu itu membutuhkan waktu milyaran tahun.\n",
    "Pemindahan piringan emas tersebut akan mudah, jika hanya 1 buah piringan saja yang akan dipindahkan."
   ]
  },
  {
   "cell_type": "markdown",
   "metadata": {
    "collapsed": false
   },
   "source": [
    "Misalkan, terdapat 4 buah piringan terdapat di tiang 'A' dan akan dipindahkan ke tiang 'C', dan ada tiang 'B' sebagai bantuan. Untuk memindahkan 4 piringan tersebut dari tiang A ke tiang C, bukanlah hal yang mudah.  Akan tetapi jika diasumsikan, bahwa 3 buah piringan teratas dapat dipindahkan secara langsung dari tiang A ke tiang B, maka piringan ke-4 dapat dengan mudah dipindahkan dari tiang A ke tiang C.  Permasalahan berikutnya muncul adalah, bagaimana memindahkan 3 buah piringan dari tiang A ke tiang B.  Hal ini dapat dengan mudah dilakukan jika dua buah piringan dapat dipindahkan dari tiang A ke tiang C, sehingga piringan ketiga dapat dipindahkan dari tiang A ke tiang B.  Proses ini dapat dilakukan secara terus menerus hingga, hanya terdapat sebuah piringan saja yang akan dipindahkan dari satu tiang ke tiang lainnya (seperti halnya proses rekursif), seperti pada Gambar 4 berikut <br>\n",
    "![title](images/hanoi_1.png).  <br>\n",
    "![title](images/hanoi_2.png).  <br>\n",
    "![title](images/hanoi_3.png).  <br>\n",
    "**Gambar 4. Proses Pemindahan Piringan - Towers of Hanoi dengan cara Rekursif**"
   ]
  },
  {
   "cell_type": "markdown",
   "metadata": {
    "collapsed": false
   },
   "source": [
    "Berikut algoritma untuk memindahkan piringan sebanyak $n$, dari tiang awal ke tiang tujuan, melalui suatu tiang bantuan:\n",
    "1. pindahkan piringan sebanyak $n-1$ dari tiang awal ke tiang bantuan, melalui tiang tujuan\n",
    "2. pindahkan piringan ke $n$ dari tiang awal ke tiang tujuan\n",
    "3. pindahkan piringan sebanyak $n-1$ dari tiang bantuan ke tiang tujuan, melalui tiang awal"
   ]
  },
  {
   "cell_type": "markdown",
   "metadata": {
    "collapsed": false
   },
   "source": [
    "## Code\n",
    "\n",
    "Berikut code untuk penyelesaian permasalahan towers of hanoi dengan menggunakan teknik rekursif"
   ]
  },
  {
   "cell_type": "code",
   "execution_count": 0,
   "metadata": {
    "collapsed": true
   },
   "outputs": [
   ],
   "source": [
    "def towers(n,awal,bantuan,tujuan):\n",
    "    if n==1:\n",
    "        print(\"Piringan - 1 dari-\", awal,\"ke-\",tujuan)\n",
    "    else:\n",
    "        towers(n-1,awal,tujuan,bantuan)\n",
    "        print(\"Piringan -\",n, \"dari-\",awal,\"ke-\", tujuan)\n",
    "        towers(n-1,bantuan,awal,tujuan)"
   ]
  },
  {
   "cell_type": "code",
   "execution_count": 0,
   "metadata": {
    "collapsed": false
   },
   "outputs": [
   ],
   "source": [
    "towers(4,'A','B','C')"
   ]
  },
  {
   "cell_type": "markdown",
   "metadata": {
    "collapsed": false
   },
   "source": [
    "## Latihan\n",
    "\n",
    "Buatlah visualiasi dengan menggunakan teks, perpindahan piringan dari tower asal sampai dengan tower tujuan.  Visualisasikan perpindahan piringan ini satu persatu.  Contoh visualisai langkah awal, dapat dilihat pada Gambar berikut ini, <br>\n",
    "![soalRekursif](images/soalTowerofHanoi.png)."
   ]
  },
  {
   "cell_type": "markdown",
   "metadata": {
    "collapsed": false
   },
   "source": [
    "[**Kembali ke Menu Awal**](#Teknik-Rekursif)"
   ]
  },
  {
   "cell_type": "markdown",
   "metadata": {
    "collapsed": false
   },
   "source": [
    "## Visualisasi Teknik Pemrograman Rekursif\n",
    "\n",
    "Rekursif juga dapat digunakan untuk kepentingan visualisasi.  Banyak gambar yang dapat dihasilkan dengan cara rekursif ini.\n",
    "Gambar dari pemrograman rekursif dapat dilakukan dengan bantuan modul **Turtle**.\n",
    "Turtle merupakan module yang dapat digunakan oleh bahasa pemrograman Python versi apapun.  Module ini dapat diumpamakan seperti seekor turtle, yang dapat bergerak maju, mundur, ke kanan, ke kiri, dan sebagainya.\n",
    "Turtle dapat mengambar jika ekornya **down**, sehingga ekor ini akan meninggalkan jejak (gambar) ketika turtle bergerak.\n",
    "Turtle tidak dapat menggambar jika ekornya **up**.  Ekor ini dapat diumpamakan sebagai sebuah pena, yang dapat juga diatur warna maupun ukurannya.\n",
    "Untuk menggunakan module turtle ini, maka harus import turtle terlebih dahulu, seperti contoh-contoh berikut."
   ]
  },
  {
   "cell_type": "markdown",
   "metadata": {
    "collapsed": false
   },
   "source": [
    "## Code \n",
    "\n",
    "Berikut adalah pembuatan bentuk spiral secara rekursif dengan menggunakan modul Turtle"
   ]
  },
  {
   "cell_type": "code",
   "execution_count": 0,
   "metadata": {
    "collapsed": false
   },
   "outputs": [
   ],
   "source": [
    "import turtle\n",
    "my_turtle = turtle.Turtle()\n",
    "my_win = turtle.Screen()\n",
    "\n",
    "def draw_spiral(my_turtle, line_len):\n",
    "    if line_len > 0:\n",
    "        my_turtle.forward(line_len)\n",
    "        my_turtle.right(90)\n",
    "        draw_spiral(my_turtle, line_len - 5)\n",
    "\n",
    "draw_spiral(my_turtle, 90)\n",
    "my_win.exitonclick()"
   ]
  },
  {
   "cell_type": "markdown",
   "metadata": {
    "collapsed": false
   },
   "source": [
    "### Fractal\n",
    "Fractal merupakan cabang matematika dan memiliki banyak kesamaan dengan teknik rekursif.  Fraktal memiliki bentuk dasar, dan bentuk dasar ini dikembangkan secara berulang terus menerus. "
   ]
  },
  {
   "cell_type": "markdown",
   "metadata": {
    "collapsed": false
   },
   "source": [
    "## Code \n",
    "\n",
    "Berikut adalah pembuatan bentuk fraktal sederhana, yaitu pohon, secara rekursif dengan menggunakan modul Turtle"
   ]
  },
  {
   "cell_type": "code",
   "execution_count": 1,
   "metadata": {
    "collapsed": false
   },
   "outputs": [
    {
     "ename": "TclError",
     "evalue": "no display name and no $DISPLAY environment variable",
     "output_type": "error",
     "traceback": [
      "\u001b[0;31m---------------------------------------------------------------------------\u001b[0m",
      "\u001b[0;31mTclError\u001b[0m                                  Traceback (most recent call last)",
      "\u001b[0;32m<ipython-input-1-ae34a7335066>\u001b[0m in \u001b[0;36m<module>\u001b[0;34m()\u001b[0m\n\u001b[1;32m     23\u001b[0m     \u001b[0mtree\u001b[0m\u001b[0;34m(\u001b[0m\u001b[0;36m60\u001b[0m\u001b[0;34m,\u001b[0m \u001b[0mt\u001b[0m\u001b[0;34m)\u001b[0m\u001b[0;34m\u001b[0m\u001b[0m\n\u001b[1;32m     24\u001b[0m     \u001b[0mmy_win\u001b[0m\u001b[0;34m.\u001b[0m\u001b[0mexitonclick\u001b[0m\u001b[0;34m(\u001b[0m\u001b[0;34m)\u001b[0m\u001b[0;34m\u001b[0m\u001b[0m\n\u001b[0;32m---> 25\u001b[0;31m \u001b[0mmain\u001b[0m\u001b[0;34m(\u001b[0m\u001b[0;34m)\u001b[0m\u001b[0;34m\u001b[0m\u001b[0m\n\u001b[0m",
      "\u001b[0;32m<ipython-input-1-ae34a7335066>\u001b[0m in \u001b[0;36mmain\u001b[0;34m()\u001b[0m\n\u001b[1;32m     12\u001b[0m \u001b[0;34m\u001b[0m\u001b[0m\n\u001b[1;32m     13\u001b[0m \u001b[0;32mdef\u001b[0m \u001b[0mmain\u001b[0m\u001b[0;34m(\u001b[0m\u001b[0;34m)\u001b[0m\u001b[0;34m:\u001b[0m\u001b[0;34m\u001b[0m\u001b[0m\n\u001b[0;32m---> 14\u001b[0;31m     \u001b[0mmy_win\u001b[0m \u001b[0;34m=\u001b[0m \u001b[0mturtle\u001b[0m\u001b[0;34m.\u001b[0m\u001b[0mScreen\u001b[0m\u001b[0;34m(\u001b[0m\u001b[0;34m)\u001b[0m\u001b[0;34m\u001b[0m\u001b[0m\n\u001b[0m\u001b[1;32m     15\u001b[0m     \u001b[0mt\u001b[0m \u001b[0;34m=\u001b[0m \u001b[0mturtle\u001b[0m\u001b[0;34m.\u001b[0m\u001b[0mTurtle\u001b[0m\u001b[0;34m(\u001b[0m\u001b[0;34m)\u001b[0m\u001b[0;34m\u001b[0m\u001b[0m\n\u001b[1;32m     16\u001b[0m \u001b[0;34m\u001b[0m\u001b[0m\n",
      "\u001b[0;32m/usr/lib/python3.6/turtle.py\u001b[0m in \u001b[0;36mScreen\u001b[0;34m()\u001b[0m\n\u001b[1;32m   3660\u001b[0m     else return the existing one.\"\"\"\n\u001b[1;32m   3661\u001b[0m     \u001b[0;32mif\u001b[0m \u001b[0mTurtle\u001b[0m\u001b[0;34m.\u001b[0m\u001b[0m_screen\u001b[0m \u001b[0;32mis\u001b[0m \u001b[0;32mNone\u001b[0m\u001b[0;34m:\u001b[0m\u001b[0;34m\u001b[0m\u001b[0m\n\u001b[0;32m-> 3662\u001b[0;31m         \u001b[0mTurtle\u001b[0m\u001b[0;34m.\u001b[0m\u001b[0m_screen\u001b[0m \u001b[0;34m=\u001b[0m \u001b[0m_Screen\u001b[0m\u001b[0;34m(\u001b[0m\u001b[0;34m)\u001b[0m\u001b[0;34m\u001b[0m\u001b[0m\n\u001b[0m\u001b[1;32m   3663\u001b[0m     \u001b[0;32mreturn\u001b[0m \u001b[0mTurtle\u001b[0m\u001b[0;34m.\u001b[0m\u001b[0m_screen\u001b[0m\u001b[0;34m\u001b[0m\u001b[0m\n\u001b[1;32m   3664\u001b[0m \u001b[0;34m\u001b[0m\u001b[0m\n",
      "\u001b[0;32m/usr/lib/python3.6/turtle.py\u001b[0m in \u001b[0;36m__init__\u001b[0;34m(self)\u001b[0m\n\u001b[1;32m   3676\u001b[0m         \u001b[0;31m# preserved (perhaps by passing it as an optional parameter)\u001b[0m\u001b[0;34m\u001b[0m\u001b[0;34m\u001b[0m\u001b[0m\n\u001b[1;32m   3677\u001b[0m         \u001b[0;32mif\u001b[0m \u001b[0m_Screen\u001b[0m\u001b[0;34m.\u001b[0m\u001b[0m_root\u001b[0m \u001b[0;32mis\u001b[0m \u001b[0;32mNone\u001b[0m\u001b[0;34m:\u001b[0m\u001b[0;34m\u001b[0m\u001b[0m\n\u001b[0;32m-> 3678\u001b[0;31m             \u001b[0m_Screen\u001b[0m\u001b[0;34m.\u001b[0m\u001b[0m_root\u001b[0m \u001b[0;34m=\u001b[0m \u001b[0mself\u001b[0m\u001b[0;34m.\u001b[0m\u001b[0m_root\u001b[0m \u001b[0;34m=\u001b[0m \u001b[0m_Root\u001b[0m\u001b[0;34m(\u001b[0m\u001b[0;34m)\u001b[0m\u001b[0;34m\u001b[0m\u001b[0m\n\u001b[0m\u001b[1;32m   3679\u001b[0m             \u001b[0mself\u001b[0m\u001b[0;34m.\u001b[0m\u001b[0m_root\u001b[0m\u001b[0;34m.\u001b[0m\u001b[0mtitle\u001b[0m\u001b[0;34m(\u001b[0m\u001b[0m_Screen\u001b[0m\u001b[0;34m.\u001b[0m\u001b[0m_title\u001b[0m\u001b[0;34m)\u001b[0m\u001b[0;34m\u001b[0m\u001b[0m\n\u001b[1;32m   3680\u001b[0m             \u001b[0mself\u001b[0m\u001b[0;34m.\u001b[0m\u001b[0m_root\u001b[0m\u001b[0;34m.\u001b[0m\u001b[0mondestroy\u001b[0m\u001b[0;34m(\u001b[0m\u001b[0mself\u001b[0m\u001b[0;34m.\u001b[0m\u001b[0m_destroy\u001b[0m\u001b[0;34m)\u001b[0m\u001b[0;34m\u001b[0m\u001b[0m\n",
      "\u001b[0;32m/usr/lib/python3.6/turtle.py\u001b[0m in \u001b[0;36m__init__\u001b[0;34m(self)\u001b[0m\n\u001b[1;32m    432\u001b[0m     \u001b[0;34m\"\"\"Root class for Screen based on Tkinter.\"\"\"\u001b[0m\u001b[0;34m\u001b[0m\u001b[0m\n\u001b[1;32m    433\u001b[0m     \u001b[0;32mdef\u001b[0m \u001b[0m__init__\u001b[0m\u001b[0;34m(\u001b[0m\u001b[0mself\u001b[0m\u001b[0;34m)\u001b[0m\u001b[0;34m:\u001b[0m\u001b[0;34m\u001b[0m\u001b[0m\n\u001b[0;32m--> 434\u001b[0;31m         \u001b[0mTK\u001b[0m\u001b[0;34m.\u001b[0m\u001b[0mTk\u001b[0m\u001b[0;34m.\u001b[0m\u001b[0m__init__\u001b[0m\u001b[0;34m(\u001b[0m\u001b[0mself\u001b[0m\u001b[0;34m)\u001b[0m\u001b[0;34m\u001b[0m\u001b[0m\n\u001b[0m\u001b[1;32m    435\u001b[0m \u001b[0;34m\u001b[0m\u001b[0m\n\u001b[1;32m    436\u001b[0m     \u001b[0;32mdef\u001b[0m \u001b[0msetupcanvas\u001b[0m\u001b[0;34m(\u001b[0m\u001b[0mself\u001b[0m\u001b[0;34m,\u001b[0m \u001b[0mwidth\u001b[0m\u001b[0;34m,\u001b[0m \u001b[0mheight\u001b[0m\u001b[0;34m,\u001b[0m \u001b[0mcwidth\u001b[0m\u001b[0;34m,\u001b[0m \u001b[0mcheight\u001b[0m\u001b[0;34m)\u001b[0m\u001b[0;34m:\u001b[0m\u001b[0;34m\u001b[0m\u001b[0m\n",
      "\u001b[0;32m/usr/lib/python3.6/tkinter/__init__.py\u001b[0m in \u001b[0;36m__init__\u001b[0;34m(self, screenName, baseName, className, useTk, sync, use)\u001b[0m\n\u001b[1;32m   2018\u001b[0m                 \u001b[0mbaseName\u001b[0m \u001b[0;34m=\u001b[0m \u001b[0mbaseName\u001b[0m \u001b[0;34m+\u001b[0m \u001b[0mext\u001b[0m\u001b[0;34m\u001b[0m\u001b[0m\n\u001b[1;32m   2019\u001b[0m         \u001b[0minteractive\u001b[0m \u001b[0;34m=\u001b[0m \u001b[0;36m0\u001b[0m\u001b[0;34m\u001b[0m\u001b[0m\n\u001b[0;32m-> 2020\u001b[0;31m         \u001b[0mself\u001b[0m\u001b[0;34m.\u001b[0m\u001b[0mtk\u001b[0m \u001b[0;34m=\u001b[0m \u001b[0m_tkinter\u001b[0m\u001b[0;34m.\u001b[0m\u001b[0mcreate\u001b[0m\u001b[0;34m(\u001b[0m\u001b[0mscreenName\u001b[0m\u001b[0;34m,\u001b[0m \u001b[0mbaseName\u001b[0m\u001b[0;34m,\u001b[0m \u001b[0mclassName\u001b[0m\u001b[0;34m,\u001b[0m \u001b[0minteractive\u001b[0m\u001b[0;34m,\u001b[0m \u001b[0mwantobjects\u001b[0m\u001b[0;34m,\u001b[0m \u001b[0museTk\u001b[0m\u001b[0;34m,\u001b[0m \u001b[0msync\u001b[0m\u001b[0;34m,\u001b[0m \u001b[0muse\u001b[0m\u001b[0;34m)\u001b[0m\u001b[0;34m\u001b[0m\u001b[0m\n\u001b[0m\u001b[1;32m   2021\u001b[0m         \u001b[0;32mif\u001b[0m \u001b[0museTk\u001b[0m\u001b[0;34m:\u001b[0m\u001b[0;34m\u001b[0m\u001b[0m\n\u001b[1;32m   2022\u001b[0m             \u001b[0mself\u001b[0m\u001b[0;34m.\u001b[0m\u001b[0m_loadtk\u001b[0m\u001b[0;34m(\u001b[0m\u001b[0;34m)\u001b[0m\u001b[0;34m\u001b[0m\u001b[0m\n",
      "\u001b[0;31mTclError\u001b[0m: no display name and no $DISPLAY environment variable"
     ]
    }
   ],
   "source": [
    "import turtle\n",
    "def tree(branch_len, t):\n",
    "    t.speed('slowest')\n",
    "    if branch_len > 5:\n",
    "        t.forward(branch_len)\n",
    "        t.right(20)\n",
    "        tree(branch_len - 15, t)\n",
    "        t.left(40)\n",
    "        tree(branch_len - 15, t)\n",
    "        t.right(20)\n",
    "        t.backward(branch_len)\n",
    "\n",
    "def main():\n",
    "    my_win = turtle.Screen()\n",
    "    t = turtle.Turtle()\n",
    "   \n",
    "    t.shape(\"turtle\")\n",
    "    t.left(90)\n",
    "    t.up()\n",
    "    t.backward(100)\n",
    "    t.down()\n",
    "    t.color(\"green\")\n",
    "    tree(60, t)\n",
    "    my_win.exitonclick()\n",
    "main()"
   ]
  },
  {
   "cell_type": "markdown",
   "metadata": {
    "collapsed": false
   },
   "source": [
    "### Segitiga Sierpinski \n",
    "Segitia Sierpinski ini juga merupakan bentuk fraktal.  Segitiga ini memiliki bentuk dasar (yaitu, suatu segitiga dan didalamnya terdapat empat buat segitiga dengan ukuran yang sama), dan bentuk dasar ini terus menerus dibangkitkan sampai derajat tertentu."
   ]
  },
  {
   "cell_type": "markdown",
   "metadata": {
    "collapsed": false
   },
   "source": [
    "## Code\n",
    "\n",
    "Berikut contoh code untuk pembuatan Segitiga Sierpinski"
   ]
  },
  {
   "cell_type": "code",
   "execution_count": 0,
   "metadata": {
    "collapsed": false
   },
   "outputs": [
   ],
   "source": [
    "import turtle\n",
    "def draw_triangle(points, color, my_turtle):   \n",
    "    my_turtle.speed('slowest')\n",
    "    my_turtle.fillcolor(color)\n",
    "    my_turtle.up()\n",
    "    my_turtle.goto(points[0][0],points[0][1])\n",
    "    my_turtle.down()\n",
    "    my_turtle.begin_fill()\n",
    "    my_turtle.goto(points[1][0], points[1][1])\n",
    "    my_turtle.goto(points[2][0], points[2][1])\n",
    "    my_turtle.goto(points[0][0], points[0][1])\n",
    "    my_turtle.end_fill()\n",
    "def get_mid(p1, p2):\n",
    "    return ((p1[0] + p2[0]) / 2, (p1[1] + p2[1]) / 2)\n",
    "def sierpinski(points, degree, my_turtle):\n",
    "    color_map = [\"blue\", \"red\" , \"green\", \"white\" , \"yellow\" ,\"violet\" , \"orange\"]\n",
    "    draw_triangle(points, color_map[degree], my_turtle)\n",
    "    if degree > 0:\n",
    "        sierpinski([points[0],get_mid(points[0], points[1]), get_mid(points[0], points[2])], degree-1, my_turtle)\n",
    "        sierpinski([points[1],get_mid(points[0], points[1]), get_mid(points[1], points[2])], degree-1, my_turtle)\n",
    "        sierpinski([points[2],get_mid(points[2], points[1]), get_mid(points[0], points[2])], degree-1, my_turtle)\n",
    "\n",
    "def main():\n",
    "    my_turtle = turtle.Turtle()\n",
    "    my_win = turtle.Screen()\n",
    "    my_points = [[-100, -50], [0, 100], [100, -50]]\n",
    "    sierpinski(my_points, 2, my_turtle)\n",
    "    my_win.exitonclick()\n",
    "\n",
    "main()"
   ]
  },
  {
   "cell_type": "markdown",
   "metadata": {
    "collapsed": false
   },
   "source": [
    "[**Kembali ke Menu Awal**](#Teknik-Rekursif)"
   ]
  }
 ],
 "metadata": {
  "kernelspec": {
   "display_name": "Python 3 (Ubuntu Linux)",
   "language": "python",
   "name": "python3"
  },
  "language_info": {
   "codemirror_mode": {
    "name": "ipython",
    "version": 3
   },
   "file_extension": ".py",
   "mimetype": "text/x-python",
   "name": "python",
   "nbconvert_exporter": "python",
   "pygments_lexer": "ipython3",
   "version": "3.6.7"
  }
 },
 "nbformat": 4,
 "nbformat_minor": 0
}