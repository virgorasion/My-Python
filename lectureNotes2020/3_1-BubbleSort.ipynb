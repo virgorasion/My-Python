{
 "cells": [
  {
   "cell_type": "markdown",
   "metadata": {
    "collapsed": false
   },
   "source": [
    "# <font color=blue>Pengurutan/Sorting</font>\n",
    "\n",
    "\n",
    "Bubble Sort\n",
    "***"
   ]
  },
  {
   "cell_type": "markdown",
   "metadata": {
    "collapsed": false
   },
   "source": [
    "Data tidak hanya sekedar diinput, tetapi data juga butuh diolah sehingga dapat diambil suatu analisa.  Proses pengurutan merupakan salah satu proses yang sangat penting dalam pengolahan data.  Misalkan terdapat data mahasiswa, terkadang dibutuhkan data yang urut berdasarkan nilai, penghasilan orang tua, sehingga dari data yang urut tersebut dapat diambil keputusan mengenai mahasiswa yang berhak menerima beasiswa.\n",
    "\n",
    "Secara umum, proses pengurutan data ini dilakukan dengan membandingkan antara data yang satu dengan data yang lain. \n",
    "\n",
    "Algoritma sorting yang pertama, adalah Bubble Sort, yang terdiri dari:\n",
    "1. [Algoritma Bubble Sort](#Bubble-Sort)\n",
    "2. [Code](#Code)"
   ]
  },
  {
   "cell_type": "markdown",
   "metadata": {
    "collapsed": false
   },
   "source": [
    "# Bubble Sort\n",
    "\n",
    "Algoritma pengurutan yang pertama adalah *Bubble Sort*.  Algoritma ini dikenal sebagai algoritma pengurutan yang membutuhkan waktu paling lama, hanya saja algoritma ini adalah algoritma pengurutan yang paling sederhana.\n",
    "\n",
    "\n",
    "\n"
   ]
  },
  {
   "cell_type": "markdown",
   "metadata": {
    "collapsed": false
   },
   "source": [
    "*Bubble sort* mengurutkan data dengan cara sebagai berikut :\n",
    "1. data dibaca mulai dari paling kiri atau mulai dari indeks ke 0 (phyton) dari suatu list data\n",
    "2. Bandingkan antara dua buah data yang saling berdekatan (antara data ke *i* dan *i+1*), tukar posisi jika data ke-*i* lebih besar dibandingkan data ke-*i+1* (pengurutan secara *ascending*)\n",
    "3. pindah satu posisi\n",
    "4. lakukan perbandingan seperti langkah ke-2 dan pindah satu posisi kembali seperti langkah ke-3. Lakukan terus menerus sampai indeks data terakhir.\n",
    "5. Setelah langkah ke-4 dilakukan, maka data yang berada di posisi paling kanan (indeks ke-*N*) adalah data terbesar .\n",
    "6. Ulangi lagi langkah 1-4 dimulai dari indeks data ke 0 sampai dengan indeks ke *N-1*, *N-2*, ..., 0"
   ]
  },
  {
   "cell_type": "markdown",
   "metadata": {
    "collapsed": false
   },
   "source": [
    "Setiap iterasi berakhir, data yang terletak di posisi paling kanan adalah data yang paling besar, oleh karena itu algoritma ini disebut dengan 'bubble' karena data terbesar disetiap iterasi berakhir bergerak keatas seperti halnya gelembung.\n",
    "Berikut ilustrasi algoritma bubble sort pada tiap iterasi. <br>\n",
    "Misalkan terdapat data [7, 2.5, 5. 10, 1].<br>\n",
    "**Iterasi Kertama**, bertujuan untuk memindahkan data terbesar, yaitu 10, ke posisi terakhir atau paling kanan dari list (karena proses pengurutan secara ascending (dari kecil-ke besar).  Proses iterasi pertama ini dapat dilihat pada Gambar 1.<br>\n",
    "\n",
    "![title](images/bubbleSort_iterasi1.png)<br>\n",
    "**Gambar 1. Iterasi Pertama Bubble Sort** <br>\n",
    "\n",
    "**Iterasi Kedua**, bertujuan untuk memindahkan data terbesar kedua, yaitu 7, agar menempati posisi tepat sebelum data 10, seperti yang terlihat pada Gambar 2.\n",
    "![title](images/bubbleSort_iterasi2.png) <br>\n",
    "**Gambar 2. Iterasi Kedua Bubble Sort** <br>\n",
    "<br>\n",
    "**Iterasi Ketiga**, bertujuan untuk memindahkan data terbesar ketiga, yaitu 5, untuk menempati posisi tepat sebelum data 7, seperti yang ditunjukkan pada Gambar 3.<br>\n",
    "![title](images/bubbleSort_iterasi3.png) <br>\n",
    "**Gambar 3. Iterasi Ketiga Bubble Sort** <br>\n",
    "\n",
    "Proses ini dilakukan terus menerus sampai tidak ada data lagi yang akan dibandingkan.  Data dalam keadaan terurut, dapat dilihat pada Gambar 4. <br>\n",
    "![title](images/bubbleSortTerakhir.png) <br>\n",
    "**Gambar 4. Iterasi Terakhir Bubble Sort** <br>\n"
   ]
  },
  {
   "cell_type": "markdown",
   "metadata": {
    "collapsed": false
   },
   "source": [
    "[**Kembali ke Menu Awal**](#Pengurutan/Sorting)"
   ]
  },
  {
   "cell_type": "markdown",
   "metadata": {
    "collapsed": false
   },
   "source": [
    "## Code\n",
    "\n",
    "Berikut implementasi algoritma *bubble sort*.  "
   ]
  },
  {
   "cell_type": "code",
   "execution_count": 1,
   "metadata": {
    "collapsed": false
   },
   "outputs": [
   ],
   "source": [
    "def bubbleSort(listData):\n",
    "    print('Data yang akan diurutkan : ', listData)\n",
    "    count=0\n",
    "    for outIter in range(len(listData)-1,-1,-1):\n",
    "        count=count+1\n",
    "        print ('Iterasi ke-', count,':')\n",
    "        for i in range(outIter):\n",
    "            if listData[i]>listData[i+1]:\n",
    "                temp=listData[i]\n",
    "                listData[i]=listData[i+1]\n",
    "                listData[i+1]=temp\n",
    "                #listData[i],listData[i+1]=listData[i+1],listData[i]\n",
    "            print(listData)\n",
    "    print('Data urut-',listData)"
   ]
  },
  {
   "cell_type": "code",
   "execution_count": 2,
   "metadata": {
    "collapsed": false
   },
   "outputs": [
    {
     "name": "stdout",
     "output_type": "stream",
     "text": [
      "Data yang akan diurutkan :  [12, 0, 5, 1, 11, 20, 4, 2]\n",
      "Iterasi ke- 1 :\n",
      "[0, 12, 5, 1, 11, 20, 4, 2]\n",
      "[0, 5, 12, 1, 11, 20, 4, 2]\n",
      "[0, 5, 1, 12, 11, 20, 4, 2]\n",
      "[0, 5, 1, 11, 12, 20, 4, 2]\n",
      "[0, 5, 1, 11, 12, 20, 4, 2]\n",
      "[0, 5, 1, 11, 12, 4, 20, 2]\n",
      "[0, 5, 1, 11, 12, 4, 2, 20]\n",
      "Iterasi ke- 2 :\n",
      "[0, 5, 1, 11, 12, 4, 2, 20]\n",
      "[0, 1, 5, 11, 12, 4, 2, 20]\n",
      "[0, 1, 5, 11, 12, 4, 2, 20]\n",
      "[0, 1, 5, 11, 12, 4, 2, 20]\n",
      "[0, 1, 5, 11, 4, 12, 2, 20]\n",
      "[0, 1, 5, 11, 4, 2, 12, 20]\n",
      "Iterasi ke- 3 :\n",
      "[0, 1, 5, 11, 4, 2, 12, 20]\n",
      "[0, 1, 5, 11, 4, 2, 12, 20]\n",
      "[0, 1, 5, 11, 4, 2, 12, 20]\n",
      "[0, 1, 5, 4, 11, 2, 12, 20]\n",
      "[0, 1, 5, 4, 2, 11, 12, 20]\n",
      "Iterasi ke- 4 :\n",
      "[0, 1, 5, 4, 2, 11, 12, 20]\n",
      "[0, 1, 5, 4, 2, 11, 12, 20]\n",
      "[0, 1, 4, 5, 2, 11, 12, 20]\n",
      "[0, 1, 4, 2, 5, 11, 12, 20]\n",
      "Iterasi ke- 5 :\n",
      "[0, 1, 4, 2, 5, 11, 12, 20]\n",
      "[0, 1, 4, 2, 5, 11, 12, 20]\n",
      "[0, 1, 2, 4, 5, 11, 12, 20]\n",
      "Iterasi ke- 6 :\n",
      "[0, 1, 2, 4, 5, 11, 12, 20]\n",
      "[0, 1, 2, 4, 5, 11, 12, 20]\n",
      "Iterasi ke- 7 :\n",
      "[0, 1, 2, 4, 5, 11, 12, 20]\n",
      "Iterasi ke- 8 :\n",
      "Data urut- [0, 1, 2, 4, 5, 11, 12, 20]\n",
      "--\n",
      "Data yang akan diurutkan :  [12, 11, 5, 1, 0]\n",
      "Iterasi ke- 1 :\n",
      "[11, 12, 5, 1, 0]\n",
      "[11, 5, 12, 1, 0]\n",
      "[11, 5, 1, 12, 0]\n",
      "[11, 5, 1, 0, 12]\n",
      "Iterasi ke- 2 :\n",
      "[5, 11, 1, 0, 12]\n",
      "[5, 1, 11, 0, 12]\n",
      "[5, 1, 0, 11, 12]\n",
      "Iterasi ke- 3 :\n",
      "[1, 5, 0, 11, 12]\n",
      "[1, 0, 5, 11, 12]\n",
      "Iterasi ke- 4 :\n",
      "[0, 1, 5, 11, 12]\n",
      "Iterasi ke- 5 :\n",
      "Data urut- [0, 1, 5, 11, 12]\n"
     ]
    }
   ],
   "source": [
    "a=[12,0,5,1,11,20,4,2]\n",
    "bubbleSort(a)\n",
    "b=[12,11,5,1,0]\n",
    "print('--')\n",
    "bubbleSort(b)"
   ]
  },
  {
   "cell_type": "code",
   "execution_count": 0,
   "metadata": {
    "collapsed": false
   },
   "outputs": [
   ],
   "source": [
    "b=[11,12,1,5,0]\n",
    "bubbleSort(b)"
   ]
  },
  {
   "cell_type": "code",
   "execution_count": 0,
   "metadata": {
    "collapsed": true
   },
   "outputs": [
   ],
   "source": [
    "10,2,5,8,1,20,2,2,4]"
   ]
  },
  {
   "cell_type": "code",
   "execution_count": 0,
   "metadata": {
    "collapsed": false
   },
   "outputs": [
   ],
   "source": [
    "b=[10,2,5,8,1,20,2,2,4]\n",
    "bubbleSort(b)"
   ]
  },
  {
   "cell_type": "markdown",
   "metadata": {
    "collapsed": false
   },
   "source": [
    "## Latihan - 1\n",
    "\n",
    "1. Pada contoh pengurutan diatas (data b), urutan data hasil dari empat iterasi tidak mengalami perubahan apapun (karena data sudah dalam keaadaan terurut pada setelah iterasi ke-4.\n",
    "Modifikasi algoritma bubble sort tersebut agar iterasi terhenti ketika tidak ada lagi data yang akan ditukar posisinya (semua data sudah berada di tempat yang tepat).\n",
    "2. Buat modifikasi algoritma bubble sort.  Jika pada algoritma bubble sort, pointer bergerak dari kiri ke kanan (menuju index terakhir), sedemikian hingga data terbesar berada pada index terakhir.  Modifikasi yang dilakukan adalah, setelah data terbesar terletak pada index terakhir.  Pointer bergerak lagi dengan arah sebaliknya, yaitu dari kanan ke kiri untuk membawa data terkecil ke index paling awal (bidirectional bubble sort)"
   ]
  },
  {
   "cell_type": "code",
   "execution_count": 0,
   "metadata": {
    "collapsed": false
   },
   "outputs": [
   ],
   "source": [
   ]
  }
 ],
 "metadata": {
  "kernelspec": {
   "display_name": "Python 3 (system-wide)",
   "language": "python",
   "metadata": {
    "cocalc": {
     "description": "Python 3 programming language",
     "priority": 100,
     "url": "https://www.python.org/"
    }
   },
   "name": "python3"
  },
  "language_info": {
   "codemirror_mode": {
    "name": "ipython",
    "version": 3
   },
   "file_extension": ".py",
   "mimetype": "text/x-python",
   "name": "python",
   "nbconvert_exporter": "python",
   "pygments_lexer": "ipython3",
   "version": "3.6.9"
  }
 },
 "nbformat": 4,
 "nbformat_minor": 4
}