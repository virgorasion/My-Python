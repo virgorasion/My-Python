{
 "cells": [
  {
   "cell_type": "markdown",
   "metadata": {
    "collapsed": false
   },
   "source": [
    "# <font color=blue>Queues</font>\n",
    "\n",
    "\n",
    "Struktur Data\n",
    "***"
   ]
  },
  {
   "cell_type": "markdown",
   "metadata": {
    "collapsed": false
   },
   "source": [
    "Struktur data kedua adalah *Queues*, yang terdiri dari :\n",
    "1. [Queues](#Definisi-Queues)\n",
    "2. [Operasi Queues](#Operasi-pada-Queues)\n",
    "3. [Contoh Implementasi Queues](#Implementasi-Queues)"
   ]
  },
  {
   "cell_type": "markdown",
   "metadata": {
    "collapsed": true
   },
   "source": [
    "## Definisi Queues\n",
    "\n",
    "Queues atau antrian merupakan struktur data dimana penambahan data baru dan penghapusan data berada di ujung yang berbeda. Hal ini berbeda dengan stacks, dimana penambahan data baru dan penghapusan data, dilakukan pada ujung yang sama.<br>\n",
    "Pada Queues, seperti halnya antrian, penambahan data baru dilakukan di suatu ujung atau yang dikenal dengan nama **rear**, dan penghapusan data dilakukan pada ujung yang dikenal dengan nama **front**, seperti yang terlihat pada Gambar 1 berikut : <br>\n",
    "![title](images/queues1.png)<br>\n",
    "**Gambar 1. Queues atau Antrian**"
   ]
  },
  {
   "cell_type": "markdown",
   "metadata": {
    "collapsed": false
   },
   "source": [
    "Jika konsep penambahan atau penghapusan data pada stacks dikenal dengan nama LIFO (Last In First Out), maka pada Queues menggunakan konsep **FIFO (First In First Out)**"
   ]
  },
  {
   "cell_type": "markdown",
   "metadata": {
    "collapsed": false
   },
   "source": [
    "[**Kembali ke Menu Awal**](#Queues)"
   ]
  },
  {
   "cell_type": "markdown",
   "metadata": {
    "collapsed": false
   },
   "source": [
    "## Operasi pada Queues \n",
    "\n",
    "Terdapat beberapa operasi dasar pada struktur data Queues ini, antara lain :\n",
    "    - queue (),         inisialisasi struktur data queue kosong\n",
    "    - enqueue (data),   penambahan *data* baru pada queue\n",
    "    - dequeue (),        penghapusan data   \n",
    "    - isEmpty(),        pengecekan apakah queue dalam keadaan kosong\n",
    "    - size (),          informasi jumlah data yang terdapat pada queue\n",
    "    "
   ]
  },
  {
   "cell_type": "markdown",
   "metadata": {
    "collapsed": false
   },
   "source": [
    "Ilustrasi penambahan dan penghapusan data dapat dilihat pada Gambar 2 dan Gambar 3 berikut :<br>\n",
    "![title](images/queuesInsert.png)<br>\n",
    "**Gambar 2. Operasi enqueue pada queues** <br>\n",
    "\n",
    "\n",
    "![title](images/enqueue.png)<br>\n",
    "**Gambar 3. Operasi dequeue pada queues** <br>\n",
    "\n",
    "Pada Gambar 2 ditunjukkan bahwa penambahan data baru (enqueue) dilakukan pada ujung data 'rear', sedangkan penghapusan data (dequeque) dilakukan pada ujung data 'front', karena sifat queues yang FIFO. <br>\n",
    "\n",
    "Implementasi queues dapat dilakukan pada tipe data lists.  Data pada **indeks terakhir** pada list adalah merupakan data yang terletak pada ujung **front** pada queues.  Sehingga proses dequeue dilakukan dengan menggunakan method pop pada list. <br>\n",
    "Sedangkan data pada indeks awal, atau indeks ke-0 dari list, menunjukkan data yang terletak pada posisi **rear** dari queues.  Oleh karena itu proses enqueue dilakukan dengan method insert pada posisi 0 dari list. <br>\n",
    "\n",
    "Misalkan terdapat data berbentuk list, sebagai berikut :<br>\n",
    "```\n",
    "data=[8, 3, 9, 2]\n",
    "```\n",
    "Jika dilakukan ```data.insert(0,74)```, atau penambahan data pada posisi **rear**, maka data akan berubah menjadi :<br>\n",
    "```\n",
    "data=[74, 8, 3, 9, 2]\n",
    "```\n",
    "Jika dilakukan ```data.pop()```, atau penghapusan data pada posisi **front**, maka data akan berubah menjadi :<br>\n",
    "```\n",
    "data=[74, 8, 3, 9]\n",
    "```"
   ]
  },
  {
   "cell_type": "markdown",
   "metadata": {
    "collapsed": false
   },
   "source": [
    "## Code\n",
    "\n",
    "Berikut adalah code-code untuk pembentukan queues dan operasi-operasi yang terdapat pada queues"
   ]
  },
  {
   "cell_type": "code",
   "execution_count": 1,
   "metadata": {
    "collapsed": false
   },
   "outputs": [
   ],
   "source": [
    "def createQueue():\n",
    "    q=[]\n",
    "    return (q)\n",
    "def enqueue(q,data):\n",
    "    q.insert(0,data)\n",
    "    return(q)\n",
    "def dequeue(q):\n",
    "    data=q.pop()\n",
    "    return(data)\n",
    "def isEmpty(q):\n",
    "    return (q==[])\n",
    "def size(q):\n",
    "    return (len(q))"
   ]
  },
  {
   "cell_type": "markdown",
   "metadata": {
    "collapsed": false
   },
   "source": [
    "Berikut adalah contoh penggunan struktur queues yang telah dibuat"
   ]
  },
  {
   "cell_type": "code",
   "execution_count": 9,
   "metadata": {
    "collapsed": false
   },
   "outputs": [
   ],
   "source": [
    "q=createQueue()"
   ]
  },
  {
   "cell_type": "code",
   "execution_count": 10,
   "metadata": {
    "collapsed": false
   },
   "outputs": [
    {
     "name": "stdout",
     "output_type": "stream",
     "text": [
      "['pemrograman web', 'bahasa inggris', 'struktur data', 'matematika']\n"
     ]
    }
   ],
   "source": [
    "enqueue(q,'matematika')\n",
    "enqueue(q,'struktur data')\n",
    "enqueue(q,'bahasa inggris')\n",
    "enqueue(q,'pemrograman web')\n",
    "print(q)"
   ]
  },
  {
   "cell_type": "code",
   "execution_count": 11,
   "metadata": {
    "collapsed": false
   },
   "outputs": [
    {
     "name": "stdout",
     "output_type": "stream",
     "text": [
      "['pemrograman web', 'bahasa inggris', 'struktur data']\n",
      "matematika\n"
     ]
    }
   ],
   "source": [
    "temp=dequeue(q)\n",
    "print(q)\n",
    "print(temp)"
   ]
  },
  {
   "cell_type": "code",
   "execution_count": 12,
   "metadata": {
    "collapsed": false
   },
   "outputs": [
    {
     "name": "stdout",
     "output_type": "stream",
     "text": [
      "['struktur data', 'pemrograman web', 'bahasa inggris']\n"
     ]
    }
   ],
   "source": [
    "enqueue(q,dequeue(q))\n",
    "print(q)"
   ]
  },
  {
   "cell_type": "code",
   "execution_count": 13,
   "metadata": {
    "collapsed": false
   },
   "outputs": [
    {
     "name": "stdout",
     "output_type": "stream",
     "text": [
      "bahasa inggris ['struktur data', 'pemrograman web']\n"
     ]
    }
   ],
   "source": [
    "a=dequeue(q)\n",
    "print(a,q)"
   ]
  },
  {
   "cell_type": "code",
   "execution_count": 14,
   "metadata": {
    "collapsed": false
   },
   "outputs": [
    {
     "data": {
      "text/plain": [
       "['new', 'struktur data', 'pemrograman web']"
      ]
     },
     "execution_count": 14,
     "metadata": {
     },
     "output_type": "execute_result"
    }
   ],
   "source": [
    "enqueue(q,'new')"
   ]
  },
  {
   "cell_type": "code",
   "execution_count": 15,
   "metadata": {
    "collapsed": false
   },
   "outputs": [
    {
     "data": {
      "text/plain": [
       "False"
      ]
     },
     "execution_count": 15,
     "metadata": {
     },
     "output_type": "execute_result"
    }
   ],
   "source": [
    "isEmpty(q)"
   ]
  },
  {
   "cell_type": "code",
   "execution_count": 16,
   "metadata": {
    "collapsed": false,
    "scrolled": true
   },
   "outputs": [
    {
     "data": {
      "text/plain": [
       "3"
      ]
     },
     "execution_count": 16,
     "metadata": {
     },
     "output_type": "execute_result"
    }
   ],
   "source": [
    "size(q)"
   ]
  },
  {
   "cell_type": "markdown",
   "metadata": {
    "collapsed": false
   },
   "source": [
    "[**Kembali ke Menu Awal**](#Queues)"
   ]
  },
  {
   "cell_type": "markdown",
   "metadata": {
    "collapsed": false
   },
   "source": [
    "## Implementasi-Queues\n",
    "\n",
    "\n",
    "Contoh implementasi queues ini adalah permainan anak-anak, yaitu permainan ular naga.\n",
    "Pada permainan ini, sekelompok anak berbaris dan dan terdapat dua buah anak sebagai penjaga, yang bertugas untuk 'menangkap anak' seiring dengan lagu 'ular naga' berakhir.  Permainan ini akan berakhir jika hanya terdapat satu anak yang memenangkan permainan, yaitu anak tersebut lolos dari tangkapan penjaga, seperti yang terlihat pada Gambar 4 <br>\n",
    "\n",
    "![title](images/permainanQueue.png) <br>\n",
    "**Gambar 4. Permainan Ular Naga**<br>\n",
    "\n",
    "Berikut code simulasi dari permainan tersebut, dengan sedikit modifikasi, yaitu fungsi penjaga dan lagu 'ular naga' digantikan dengan bilangan tertentu, dan sekolompok anak disusun dalam suatu antrian.\n",
    "Permainan akan terus berjalan, sampai dengan hitungan bilangan tertentu tersebut.  Jika pada hitungan tertentu, terdapat anak yang berada di ujung antrian (*front*), maka anak tersebut harus keluar barisan antrian. \n",
    "Permainan dimenangkan oleh seorang anak yang tersisa di dalam antrian.\n",
    "\n",
    "\n",
    "## Code"
   ]
  },
  {
   "cell_type": "code",
   "execution_count": 25,
   "metadata": {
    "collapsed": true
   },
   "outputs": [
   ],
   "source": [
    "def ularNaga(nama, hitungan):\n",
    "    gameQueue = createQueue()\n",
    "    for namaAnak in nama:\n",
    "        enqueue(gameQueue,namaAnak)\n",
    "    print('Peserta Permainan=',gameQueue)\n",
    "    while size(gameQueue) > 1:\n",
    "        for i in range(hitungan):\n",
    "            enqueue(gameQueue,dequeue(gameQueue))\n",
    "            print('hitungan ke-',i,'=',gameQueue)\n",
    "        dequeue(gameQueue)\n",
    "        print('Peserta Permainan=',gameQueue)\n",
    "    return dequeue(gameQueue)"
   ]
  },
  {
   "cell_type": "code",
   "execution_count": 26,
   "metadata": {
    "collapsed": false
   },
   "outputs": [
    {
     "name": "stdout",
     "output_type": "stream",
     "text": [
      "Peserta Permainan= ['zaki', 'diana', 'rafa', 'anton', 'sari', 'rita', 'andi']\n",
      "hitungan ke- 0 = ['andi', 'zaki', 'diana', 'rafa', 'anton', 'sari', 'rita']\n",
      "hitungan ke- 1 = ['rita', 'andi', 'zaki', 'diana', 'rafa', 'anton', 'sari']\n",
      "Peserta Permainan= ['rita', 'andi', 'zaki', 'diana', 'rafa', 'anton']\n",
      "hitungan ke- 0 = ['anton', 'rita', 'andi', 'zaki', 'diana', 'rafa']\n",
      "hitungan ke- 1 = ['rafa', 'anton', 'rita', 'andi', 'zaki', 'diana']\n",
      "Peserta Permainan= ['rafa', 'anton', 'rita', 'andi', 'zaki']\n",
      "hitungan ke- 0 = ['zaki', 'rafa', 'anton', 'rita', 'andi']\n",
      "hitungan ke- 1 = ['andi', 'zaki', 'rafa', 'anton', 'rita']\n",
      "Peserta Permainan= ['andi', 'zaki', 'rafa', 'anton']\n",
      "hitungan ke- 0 = ['anton', 'andi', 'zaki', 'rafa']\n",
      "hitungan ke- 1 = ['rafa', 'anton', 'andi', 'zaki']\n",
      "Peserta Permainan= ['rafa', 'anton', 'andi']\n",
      "hitungan ke- 0 = ['andi', 'rafa', 'anton']\n",
      "hitungan ke- 1 = ['anton', 'andi', 'rafa']\n",
      "Peserta Permainan= ['anton', 'andi']\n",
      "hitungan ke- 0 = ['andi', 'anton']\n",
      "hitungan ke- 1 = ['anton', 'andi']\n",
      "Peserta Permainan= ['anton']\n"
     ]
    },
    {
     "data": {
      "text/plain": [
       "'anton'"
      ]
     },
     "execution_count": 26,
     "metadata": {
     },
     "output_type": "execute_result"
    }
   ],
   "source": [
    "ularNaga(['andi','rita','sari','anton','rafa','diana','zaki'],2)"
   ]
  },
  {
   "cell_type": "markdown",
   "metadata": {
    "collapsed": true
   },
   "source": [
    "[**Kembali ke Menu Awal**](#Queues)"
   ]
  },
  {
   "cell_type": "code",
   "execution_count": 0,
   "metadata": {
    "collapsed": true
   },
   "outputs": [
   ],
   "source": [
   ]
  }
 ],
 "metadata": {
  "kernelspec": {
   "display_name": "Python 3 (Ubuntu Linux)",
   "language": "python",
   "name": "python3"
  },
  "language_info": {
   "codemirror_mode": {
    "name": "ipython",
    "version": 3
   },
   "file_extension": ".py",
   "mimetype": "text/x-python",
   "name": "python",
   "nbconvert_exporter": "python",
   "pygments_lexer": "ipython3",
   "version": "3.6.7"
  }
 },
 "nbformat": 4,
 "nbformat_minor": 0
}