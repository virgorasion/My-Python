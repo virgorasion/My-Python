{
 "cells": [
  {
   "cell_type": "markdown",
   "metadata": {
    "collapsed": true
   },
   "source": [
    "# <font color=blue>Review Algoritma Pemrograman</font>\n",
    "\n",
    "\n",
    "Review Materi dasar Algoritma Pemrograman\n",
    "***"
   ]
  },
  {
   "cell_type": "markdown",
   "metadata": {
    "collapsed": false
   },
   "source": [
    "Berikut adalah pengulangan kembali materi-materi dasar (termasuk contoh code) yang terdapat pada mata kuliah Algoritma Pemrograman :\n",
    "1. [Variabel dan Tipe Data](#Variabel-dan-Tipe-Data)\n",
    "2. [Jenis Algoritma](#Algoritma)\n",
    "3. [String-List-Tuple](#String,-List,-dan-Tuple)\n",
    "4. [Dictionaries](#Dictionaries)\n",
    "5. [Function](#Function)\n",
    "6. [Module](#Module)\n",
    "\n"
   ]
  },
  {
   "cell_type": "markdown",
   "metadata": {
    "collapsed": false
   },
   "source": [
    "## Variabel dan Tipe Data\n",
    "\n",
    "Variabel adalah sebuah nama atau identitas yang merepresentasikan suatu nilai dengan tipe data tertentu. <br>\n",
    "Berbagai macam tipe data dasar yang dikenal dalam bahasa pemrograman Python, antara lain:\n",
    "    - Integer, merupakan data numerik\n",
    "    - Float, merupakan data numerik yang berbentuk real\n",
    "    - String, merupakan data teks\n",
    "    - Boolean, merupakan data yang hanya memiliki dua nilai saja, yaitu True dan False"
   ]
  },
  {
   "cell_type": "markdown",
   "metadata": {
    "collapsed": false
   },
   "source": [
    "### Code\n",
    "\n",
    "Berikut adalah contoh-contoh code inisialisasi dan informasi type data dengna menggunakan syntax **type** untuk masing-masing tipe data"
   ]
  },
  {
   "cell_type": "code",
   "execution_count": 0,
   "metadata": {
    "collapsed": false
   },
   "outputs": [
   ],
   "source": [
    "num = 100\n",
    "type(num)"
   ]
  },
  {
   "cell_type": "code",
   "execution_count": 0,
   "metadata": {
    "collapsed": false
   },
   "outputs": [
   ],
   "source": [
    "realNum = 0.9999\n",
    "type(realNum)"
   ]
  },
  {
   "cell_type": "code",
   "execution_count": 0,
   "metadata": {
    "collapsed": false
   },
   "outputs": [
   ],
   "source": [
    "data=\"Hello World\"\n",
    "type(data)"
   ]
  },
  {
   "cell_type": "code",
   "execution_count": 0,
   "metadata": {
    "collapsed": false
   },
   "outputs": [
   ],
   "source": [
    "boolDat=True\n",
    "type(boolDat)"
   ]
  },
  {
   "cell_type": "markdown",
   "metadata": {
    "collapsed": false
   },
   "source": [
    "### Operasi Data\n",
    "\n",
    "Setiap variabel dapat dioperasikan dengan menggunakan operasi tertentu, akan tetapi, operasi dapat dilakukan hanya pada variabel-variabel yang memiliki tipe data yang sama atau hampir sama (seperti integer dengan float)"
   ]
  },
  {
   "cell_type": "markdown",
   "metadata": {
    "collapsed": false
   },
   "source": [
    "### Code\n",
    "\n",
    "Berikut adalah contoh code untuk operasi antara variabel dengan tipe data yang sama"
   ]
  },
  {
   "cell_type": "code",
   "execution_count": 0,
   "metadata": {
    "collapsed": false
   },
   "outputs": [
   ],
   "source": [
    "#Operasi antara variabel bertipe integer\n",
    "a=10\n",
    "b=5\n",
    "hasil=a+b\n",
    "print('hasil=',hasil)\n"
   ]
  },
  {
   "cell_type": "code",
   "execution_count": 0,
   "metadata": {
    "collapsed": false
   },
   "outputs": [
   ],
   "source": [
    "#Operasi antara variabel bertipe float\n",
    "a=5.5\n",
    "b=1.2\n",
    "hasil=a+b\n",
    "print('hasil=',hasil)"
   ]
  },
  {
   "cell_type": "code",
   "execution_count": 0,
   "metadata": {
    "collapsed": false
   },
   "outputs": [
   ],
   "source": [
    "#Operasi antara variabel bertipe string\n",
    "a='struktur'\n",
    "b='data'\n",
    "hasil=a+' '+b\n",
    "print('hasil=',hasil)"
   ]
  },
  {
   "cell_type": "markdown",
   "metadata": {
    "collapsed": false
   },
   "source": [
    "### Code\n",
    "\n",
    "Berikut adalah contoh code untuk operasi antara variabel dengan tipe data yang tidak sama"
   ]
  },
  {
   "cell_type": "code",
   "execution_count": 0,
   "metadata": {
    "collapsed": false
   },
   "outputs": [
   ],
   "source": [
    "#Operasi antara variabel bertipe integer dengn variabel bertipe float\n",
    "a=10\n",
    "b=5.5\n",
    "hasil=a+b\n",
    "print('hasil=',hasil)\n"
   ]
  },
  {
   "cell_type": "code",
   "execution_count": 0,
   "metadata": {
    "collapsed": false
   },
   "outputs": [
   ],
   "source": [
    "#Operasi antara variabel bertipe integer dengn variabel bertipe string\n",
    "a='struktur data'\n",
    "b=2\n",
    "hasil=a+b\n",
    "print('hasil=',hasil)"
   ]
  },
  {
   "cell_type": "markdown",
   "metadata": {
    "collapsed": false
   },
   "source": [
    "[**Kembali ke Menu Awal**](#Review-Algoritma-Pemrograman)"
   ]
  },
  {
   "cell_type": "markdown",
   "metadata": {
    "collapsed": false
   },
   "source": [
    "## Algoritma \n",
    "\n",
    "Terdapat beberapa jenis algoritma dasar, yaitu:\n",
    "\n",
    "- *Sequential*\n",
    "- *Branching*\n",
    "- *Iteration*\n",
    "\n",
    "### Sequential\n",
    "\n",
    "Algoritma *sequential* merupakan algoritma yang harus dikerjakan berurutan, mulai dari langkah pertama sampai dengan langkah terakhir. <br>\n",
    "Ilustrasi algoritma *sequential* ini dapat dilihat pada Gambar 1.<br>\n",
    "![Algoritma](images/sequenceFlow.png)<br>\n",
    "**Gambar 1. Algoritma *Sequencial* (Gambar, courtesy:Barry and Griffiths 2009)**"
   ]
  },
  {
   "cell_type": "markdown",
   "metadata": {
    "collapsed": true
   },
   "source": [
    "### Branching / Selection / Pilihan\n",
    "Algoritma *branching* atau *selection* ini merupakan algoritma yang didalamnya terdapat pilihan.  Pada algoritma *branching* terdapat kondisi **True** atau **False**.  Jika memenuhi kondisi **True** maka syntax pada percabangan **True** yang akan diekseskusi, begitu juga sebaliknya. <br>\n",
    "Ilustrasi algoritma ini dapat dilihat pada Gambar 2.\n",
    "\n",
    "![title](images/branches.png)<br>\n",
    "**Gambar 2. Algoritma *Branches*(Gambar, courtesy: Barry and Griffiths 2009)**"
   ]
  },
  {
   "cell_type": "markdown",
   "metadata": {
    "collapsed": false
   },
   "source": [
    "### Iteration / Looping / Perulangan\n",
    "Pada Algoritma ini, syntax akan dieksekusi secara berulang-ulang selama kondisi bernilai **True**.  Jika kondisi bernilai **False** maka proses iterasi akan berhenti. Ilustrasi Algoritma ini dapat dilihat pada Gambar 3. <br>\n",
    "\n",
    "![title](images/iteration.png) <br>\n",
    "\n",
    "**Gambar 3. Algoritma *Iteration* (Gambar, courtesy:Barry and Griffiths 2009)**"
   ]
  },
  {
   "cell_type": "markdown",
   "metadata": {
    "collapsed": false
   },
   "source": [
    "### Code\n",
    "\n",
    "Berikut adalah contoh code untuk masing-masing jenis algoritma"
   ]
  },
  {
   "cell_type": "code",
   "execution_count": 0,
   "metadata": {
    "collapsed": false
   },
   "outputs": [
   ],
   "source": [
    "# Algoritma Sequence - Konversi Kurs Mata Dollar ke Rupiah\n",
    "dollar=int(input('Jumlah Dollar = '))\n",
    "rupiah=dollar*15000\n",
    "print(dollar,'$ = Rp.',rupiah)"
   ]
  },
  {
   "cell_type": "code",
   "execution_count": 0,
   "metadata": {
    "collapsed": false
   },
   "outputs": [
   ],
   "source": [
    "# Algoritma Branching - Penentuan jenis bilangan\n",
    "\n",
    "num=int(input('Masukkan bilangan = '))\n",
    "if num%2==0 :\n",
    "    print(num, ' adalah bilangan genap')\n",
    "else:\n",
    "    print(num, ' adalah bilangan ganjil')\n"
   ]
  },
  {
   "cell_type": "code",
   "execution_count": 0,
   "metadata": {
    "collapsed": false
   },
   "outputs": [
   ],
   "source": [
    "# Algoritma Iteration - Menampilkan sejumlah n bilangan genap\n",
    "\n",
    "num=int(input('Jumlah bilangan genap = '))\n",
    "count=1\n",
    "i=0\n",
    "while count<=num:\n",
    "    if i%2==0:\n",
    "        print(count,'. ',i)\n",
    "        count=count+1 \n",
    "    i=i+1"
   ]
  },
  {
   "cell_type": "markdown",
   "metadata": {
    "collapsed": false
   },
   "source": [
    "### Latihan - 1\n",
    "1. Buat code untuk menghitung factorial suatu bilangan\n",
    "2. Buat code untuk menentukan apakah suatu bilangan adalah bilangan prima"
   ]
  },
  {
   "cell_type": "markdown",
   "metadata": {
    "collapsed": false
   },
   "source": [
    "[**Kembali ke Menu Awal**](#Review-Algoritma-Pemrograman)"
   ]
  },
  {
   "cell_type": "markdown",
   "metadata": {
    "collapsed": false
   },
   "source": [
    "### String, List, dan Tuple\n",
    "\n",
    "### String\n",
    "\n",
    "**String** merupakan salah satu tipe data dalam suatu bahasa pemrograman yang terdiri dari beberapa *character*.\n",
    "Pada tipe data string di python, dikenal **offset**, yang menunjukkan *character* ke- dari posisi awal string (yaitu **offset** 0) .<br>\n",
    "Contoh offset pada suatu variabel dengan nilai 'Where is Waldo' dapat dilihat pada Gambar 3.<br>\n",
    "\n",
    "![title](images/string.png)<br>\n",
    "**Gambar 3. Tipe data String dan offset** <br>\n",
    "\n",
    "Suatu karakter pada string dapat diakses dengan menggunakan syntax namaVariabel[offset], atau jika terdapat beberapa karakter yang harus diakses, dapat menggunakan syntax namaVariabel[offsetAwal:offsetAkhir-1]\n",
    "\n",
    "### Code\n",
    "Berikut adalah contoh inisialisasi variabel dengan tipe data string, dan cara pengaksesan satu dan lebih dari satu karakter"
   ]
  },
  {
   "cell_type": "code",
   "execution_count": 0,
   "metadata": {
    "collapsed": false
   },
   "outputs": [
   ],
   "source": [
    "data=\"Where is Waldo ?\"\n",
    "print(data[12]) # Satu karakter\n",
    "temp=data[9:14] # lima karakter\n",
    "print(temp)"
   ]
  },
  {
   "cell_type": "markdown",
   "metadata": {
    "collapsed": false
   },
   "source": [
    "Elemen atau anggota pada String bersifat **Immutable** atau tidak dapat dirubah dengan melalui operasi *assignment*.  Akan tetapi nilai string dapat dirubah melalui method  *replace* yang terdapat pada string\n",
    "\n",
    "### Code\n",
    "\n",
    "Berikut contoh code untuk proses perubahan nilai melalui operasi assignment, dan melalui method pada string"
   ]
  },
  {
   "cell_type": "code",
   "execution_count": 0,
   "metadata": {
    "collapsed": false
   },
   "outputs": [
   ],
   "source": [
    "#immutable, tidak dapat dirubah melalui assignment operator \n",
    "data=\"Where is Waldo ?\"\n",
    "data[13]='i'\n",
    "print(data)"
   ]
  },
  {
   "cell_type": "code",
   "execution_count": 0,
   "metadata": {
    "collapsed": false
   },
   "outputs": [
   ],
   "source": [
    "#nilai dirubah melalui method 'replace'\n",
    "data=\"Where is Waldo ?\"\n",
    "data.replace('o','i')"
   ]
  },
  {
   "cell_type": "markdown",
   "metadata": {
    "collapsed": false
   },
   "source": [
    "### List\n",
    "\n",
    "**List** adalah struktur data yang terdiri dari beberapa elemen atau anggota list dengan berbagai tipe data.  Masing-masing elemen dipisahkan oleh ','.  Seperti $a=[6, 10, 23]$<br>\n",
    "Didalam list terdapat **index** yang menunjukkan urutan elemen dari suatu list.  Index dari list ini dimulai dari '0'. Untuk mengakses elemen pada suatu list, dilakukan dengan cara yang sama dengan tipe data string.\n",
    "\n",
    "### Code\n",
    "Berikut ini adalah contoh inisialisasi variabel dengan tipe data list, dan cara mengakses satu dan lebih dari satu elemen pada list"
   ]
  },
  {
   "cell_type": "code",
   "execution_count": 0,
   "metadata": {
    "collapsed": false
   },
   "outputs": [
   ],
   "source": [
    "arrData=[1,2,'python',0.8,'numpy']\n",
    "print (arrData)\n",
    "print(arrData[1])\n",
    "print(arrData[1:4])"
   ]
  },
  {
   "cell_type": "markdown",
   "metadata": {
    "collapsed": false
   },
   "source": [
    "Berbeda dengan tipe data string, anggota atau elemen dari list ini bersifat **Mutable**, atau nilai elemen pada list dapat dirubah melalui operasi *assignment*, yaitu menggunakan operator *assignment* '='\n",
    "\n",
    "### Code\n",
    "\n",
    "Berikut adalah contoh code untuk merubah nilai elemen dari suatu list"
   ]
  },
  {
   "cell_type": "code",
   "execution_count": 0,
   "metadata": {
    "collapsed": false
   },
   "outputs": [
   ],
   "source": [
    "arrData=[1,2,'python',0.8,'numpy']\n",
    "print(arrData)\n",
    "arrData[2]='Java'\n",
    "print(arrData)"
   ]
  },
  {
   "cell_type": "markdown",
   "metadata": {
    "collapsed": false
   },
   "source": [
    "**List 2D** adalah list yang berbentuk dua dimensi, yaitu bentuk data seperti halnya matriks dua dimensi, yang memiliki baris dan kolom.  Misalkan terdapat suatu list dua dimensi, dengan 3 baris, dan dua kolom, maka inisialisasi list tersebut dapat dilakukan dengan cara:<br>\n",
    "$namaVariabel=[[a11,a12],[a21,a22],[a31,a32]]$\n",
    "<br>\n",
    "Untuk mengakses data yang terdapat pada list ini, diperlukan dua buah indeks, yaitu indeks yang menyatakan baris, dan indeks yang menyatakan kolom.  Indeks dimulai dari 0.\n",
    "\n",
    "### Code\n",
    "Berikut adalah contoh pembentukan list 2D, dan cara mengakses data yang terdapat pada list tersebut"
   ]
  },
  {
   "cell_type": "code",
   "execution_count": 0,
   "metadata": {
    "collapsed": false
   },
   "outputs": [
   ],
   "source": [
    "#list 2D, dengan 2 baris, 3 kolom\n",
    "arr2=[[1,2,3],[4,5,6]]\n",
    "print(arr2)\n",
    "print(arr2[0][2])"
   ]
  },
  {
   "cell_type": "markdown",
   "metadata": {
    "collapsed": false
   },
   "source": [
    "### Tuple\n",
    "\n",
    "**Tuple**, sama halnya dengan list, tuple ini terdiri dari beberapa elemen, dan elemen tersebut dapat terdiri dari berbagai tipe.  Jika pada list, representasi anggota menggunakan kurung siku atau [a,b,c,...,d], maka pada tuple menggunakan kurung atau (a, b, c, ..., d).  Cara pengaksesan elemen atau anggotanya, dilakukan dengan menuliskan index tuple.\n",
    "\n",
    "### Code\n",
    "\n",
    "Berikut adalah contoh code untuk inisialisasi tuple dan akses elemen pada tuple"
   ]
  },
  {
   "cell_type": "code",
   "execution_count": 0,
   "metadata": {
    "collapsed": false
   },
   "outputs": [
   ],
   "source": [
    "tupData=(1,2,'python',0.8,'numpy')\n",
    "print(tupData)\n",
    "print(tupData[2])\n",
    "print(tupData[1:3])"
   ]
  },
  {
   "cell_type": "markdown",
   "metadata": {
    "collapsed": false
   },
   "source": [
    "Seperti halnya tipe data string, elemen pada tuple bersifat **immutable**, nilai anggota tidak dapat dirubah.  Oleh karena itu tuple biasanya digunakan untuk merepresentasikan kumpulan data konstan, dan untuk index *dictionary* (karena index tidak boleh dirubah).\n",
    "\n",
    "### Code\n",
    "\n",
    "Berikut contoh code untuk menunjukkan sifat immutable pada tuple"
   ]
  },
  {
   "cell_type": "code",
   "execution_count": 0,
   "metadata": {
    "collapsed": false,
    "scrolled": true
   },
   "outputs": [
   ],
   "source": [
    "tupData=(1,2,'python',0.8,'numpy')\n",
    "print(tupData)\n",
    "print(tupData[2])\n",
    "tupData[2]='Java'\n",
    "print(tupData)"
   ]
  },
  {
   "cell_type": "markdown",
   "metadata": {
    "collapsed": false
   },
   "source": [
    "[**Kembali ke Menu Awal**](#Review-Algoritma-Pemrograman)"
   ]
  },
  {
   "cell_type": "markdown",
   "metadata": {
    "collapsed": false
   },
   "source": [
    "### Dictionaries\n",
    "\n",
    "Dictionaries ini hampir sama dengan struktur data **List** hanya saja, jika pada list menggunakan **index berupa integer** untuk menunjukkan posisi elemen di dalam list, maka pada **dictionaries** ini, maka index pada *dictionaries* yang digunakan tidak hanya bertipe **integer**, akan tetapi **string** juga dapat digunakan sebagai index.  Sehingga untuk keperluan tertentu, dictionaries ini akan lebih cocok digunakan untuk merepresentasikan suatu data.  <br>\n",
    "\n",
    "Pada *dictionaries*, index ini disebut juga dengan **keys**.\n",
    "Jika pada list menggunakan '[...]', dan tuple  menggunakan (...), maka dictionaries menggunakan kurung kurawal untuk mendefinisikan anggotanya, yaitu {...}.  Antara satu elemen dengan elemen yang lain, dipisahkan dengan koma ','.\n",
    "<br>\n",
    "Inisialisasi variabel yang berbentuk *dictionaries* ini dapat dilakukan dengan dua cara, yaitu \n",
    "1. Menuliskan semua anggotanya secara langsung, namaVariabel={key1:data1, key2:data2,...}\n",
    "2. Menuliskan satu-persatu anggotanya\n",
    "\n",
    "### Code\n",
    "\n",
    "Berikut adalah contoh inisialisasi *dictionaries* dengan dua cara tersebut"
   ]
  },
  {
   "cell_type": "code",
   "execution_count": 0,
   "metadata": {
    "collapsed": false
   },
   "outputs": [
   ],
   "source": [
    "#Cara-1\n",
    "studData={'001':'Ranti','002':'Diana','003':'Budi','004':'Eri'}\n",
    "print(studData)"
   ]
  },
  {
   "cell_type": "code",
   "execution_count": 0,
   "metadata": {
    "collapsed": false
   },
   "outputs": [
   ],
   "source": [
    "#Cara-2\n",
    "studentData={}\n",
    "studentData['001']='Fatimah'\n",
    "studentData['002']='Sofiah'\n",
    "studentData['003']='Ahmad'\n",
    "studentData['005']='Ali'\n",
    "print(studentData)"
   ]
  },
  {
   "cell_type": "markdown",
   "metadata": {
    "collapsed": false
   },
   "source": [
    "Seperti halnya *list*, *dictionaries* juga dapat berbentuk 2D, yaitu elemen-elemen disusun pada baris dan kolom tertentu, sehingga untuk mengakses suatu data, diperlukan dua buah indeks.  Karena dibutuhkan dua buah index pada dictionaries ini, maka index harus berbentuk tuple (karena sifat index yang tidak boleh dirubah nilainya), sehingga index dictionaries 2D ini ditunjukkan dengan pasangan data atau tuple, '(indeks1,indeks2)'<br>\n",
    "\n",
    "Salah satu implementasi Dictionaries ini adalah **Sparse Matrix**.  Sparse Matrix merupaan matrix yang memiliki banyak nilai nol, sehingga jika menggunakan list, akan banyak memori yang dibutuhkan.  Sedangkan dictionaries, hanya menyimpan yang dibutuhkan saja.\n",
    "Misalkan terdapat sebuah matriks dengan ukuran 4 x 4, yang berarti terdapat 16 elemen pada matriks tersebut.  Hanya saja semua elemen bernilai 'nol' dan hanya indeks tertentu yang bernilai bukan 'nol', seperti :\n",
    "\n",
    "\\begin{equation*}\n",
    "\\mathbf{Mat}=\n",
    "\\begin{vmatrix}\n",
    "0 & 0 & 0 & 1 \\\\\n",
    "0 & 0 & 0 & 0 \\\\\n",
    "0 & 2 & 0 & 0 \\\\\n",
    "0 & 0 & 0 & 3 \n",
    "\\end{vmatrix} \n",
    "\\end{equation*}\n",
    "\n",
    "Jika data matriks tersebut direpresentasikan oleh list, maka syntax pembentukan list, dapat dilakukan sebagai berikut:<br>\n",
    "$Mat=[[0,0,0,1],[0,0,0,0],[0,2,0,0],[0,0,0,3]]$<br>\n",
    "\n",
    "Akan tetapi, jika menggunakan dictionaries (dimana index tidak harus berurutan), maka matriks tersebut dapat disimpan dengan syntax berikut:<br>\n",
    "$Mat = \\{(0,3): 1, (2, 1): 2, (3, 3): 3\\} $\n",
    "\n",
    "<br>\n",
    "Oleh karena itu, dengan representasi dictionaries ini lebih efisien untuk kasus tertentu\n",
    "\n",
    "### Code\n",
    "\n",
    "Berikut contoh code pembuatan *sparse matrix * dengan menggunakan dictionary "
   ]
  },
  {
   "cell_type": "code",
   "execution_count": 1,
   "metadata": {
    "collapsed": false
   },
   "outputs": [
    {
     "name": "stdout",
     "output_type": "stream",
     "text": [
      "{(0, 3): 1, (2, 1): 2, (3, 3): 3}\n",
      "{(0, 3): 1, (2, 1): 2, (3, 3): 3, (0, 2): 4}\n",
      "None\n",
      "(2,1)= 2\n",
      "(1,3)= None\n"
     ]
    }
   ],
   "source": [
    "Mat = {(0,3): 1, (2, 1): 2, (3, 3): 3}\n",
    "print(Mat)\n",
    "Mat[0,2]=4 #penambahan data baru\n",
    "print(Mat)\n",
    "#pengecekan data pada index (ind1,ind2), jika tidak terdapat data, maka return value=None, \n",
    "#jika terdapat data maka return value=adalah data\n",
    "cek=Mat.get((0,1)) \n",
    "print(cek)\n",
    "cek=Mat.get((2,1))\n",
    "print('(2,1)=',cek)\n",
    "cek=Mat.get((1,3))\n",
    "print('(1,3)=',cek)"
   ]
  },
  {
   "cell_type": "markdown",
   "metadata": {
    "collapsed": false
   },
   "source": [
    "[**Kembali ke Menu Awal**](#Review-Algoritma-Pemrograman)"
   ]
  },
  {
   "cell_type": "markdown",
   "metadata": {
    "collapsed": false
   },
   "source": [
    "### Function\n",
    "Semakin rumit permasalahan yang harus dipecahkan dengan menggunakan bahasa pemrograman maka semakin kompleks program yang dibuat.\n",
    "Secara umum, semakin kompleks algoritma, maka semakin sulit untuk dibaca dan diperbaiki jika terdapat kesalahan atau penambahan *syntax* baru <br>\n",
    "Oleh karena itu dibutuhkanlah sebuah **function**, dengan function maka syntax-syntax pada program dikelompokkan berdasarkan fungsinya masing-masing.  Dengan pengelompokan ini, maka program akan lebih mudah untuk dibaca maupun diperbaiki.<br> \n",
    "Selain itu, dengan pembentukan **function** ini maka, jika dibutuhkan eksekusi perinta-perintah yang sama, maka dapat dilakukan hanya dengan cara memanggil *function* tersebut, tanpa perlu menulis kembali syntax-syntax yang sama.<br>\n",
    "\n",
    "Terdapat dua hal penting yang harus diperhatikan, yaitu\n",
    "1. Parameter/argumen : merupakan nilai yang dikirim oleh syntax pemanggil *function* \n",
    "2. Return Value : merupakan nilai yang dihasilkan oleh *function*, dan dikirim kembali ke pemanggil *function*\n",
    "\n",
    "Secara umum sebuah function dapat didefinisikan sebagai berikut:<br>\n",
    "> def NamaFungsi(Argumen,...):\n",
    "> > subcode <br>\n",
    "> > subcode <br>\n",
    "> > return returnValue\n",
    "\n",
    "Untuk memanggil fungsi, dilakukan dengan menuliskan nama fungsi\n",
    "\n",
    "\n",
    "### Code\n",
    "\n",
    "Berikut contoh sederhana *function* tanpa parameter, *function* dengan parameter, dan *function* dengan *return value*\n"
   ]
  },
  {
   "cell_type": "code",
   "execution_count": 0,
   "metadata": {
    "collapsed": false
   },
   "outputs": [
   ],
   "source": [
    "# Function tanpa parameter\n",
    "\n",
    "def addNumbers():\n",
    "    a=int(input('Bilangan pertama = '))\n",
    "    b=int(input('Bilangan kedua = '))\n",
    "    print('Hasil = ',a+b)\n",
    "\n",
    "#Main program\n",
    "addNumbers()#memanggil fungsi addNumbers agar dieksekusi"
   ]
  },
  {
   "cell_type": "code",
   "execution_count": 0,
   "metadata": {
    "collapsed": false
   },
   "outputs": [
   ],
   "source": [
    "# Function dengan parameter\n",
    "\n",
    "def addNumbers(a,b):\n",
    "    print('Hasil = ',a+b)\n",
    "\n",
    "#Main program\n",
    "num1=int(input('Bilangan pertama = '))\n",
    "num2=int(input('Bilangan kedua = '))\n",
    "addNumbers(num1,num2)#memanggil fungsi addNumbers agar dieksekusi"
   ]
  },
  {
   "cell_type": "code",
   "execution_count": 0,
   "metadata": {
    "collapsed": false
   },
   "outputs": [
   ],
   "source": [
    "# Function dengan parameter dan return value\n",
    "def addNumbers(a,b):\n",
    "    hasil=a+b\n",
    "    return hasil\n",
    "\n",
    "def cekGenap(num):\n",
    "    if num%2==0:\n",
    "        return True\n",
    "    else:\n",
    "        return False\n",
    "\n",
    "#Main program\n",
    "num1=int(input('Bilangan pertama = '))\n",
    "num2=int(input('Bilangan kedua = '))\n",
    "result=addNumbers(num1,num2)#memanggil fungsi addNumbers agar dieksekusi\n",
    "print('Hasil Penjumlahan= ', result)\n",
    "if cekGenap(result):\n",
    "    print(result,' adalah Bilangan Genap')\n",
    "else:\n",
    "    print(result,' adalah Bilangan Ganjil')"
   ]
  },
  {
   "cell_type": "markdown",
   "metadata": {
    "collapsed": false
   },
   "source": [
    "### Latihan - 2\n",
    "\n",
    "Buat program untuk menghitung perkalian dua buah matriks yang berukuran 3 x 3 seperti berikut :\n",
    "\n",
    "\\begin{equation*}\n",
    "\\mathbf{A}_1 \\times \\mathbf{A}_2 = \\begin{vmatrix}\n",
    "\\mathbf{a1} & \\mathbf{b1} & \\mathbf{c1} \\\\\n",
    "\\mathbf{d1} & \\mathbf{e1} & \\mathbf{f1} \\\\\n",
    "\\mathbf{g1} & \\mathbf{h1} & \\mathbf{i1}\n",
    "\\end{vmatrix} \\times \\ \\begin{vmatrix}\n",
    "\\mathbf{a2} & \\mathbf{b2} & \\mathbf{c2} \\\\\n",
    "\\mathbf{d2} & \\mathbf{e2} & \\mathbf{f2} \\\\\n",
    "\\mathbf{g2} & \\mathbf{h2} & \\mathbf{i2}\n",
    "\\end{vmatrix}\n",
    "\\end{equation*}\n",
    "Buatlah fungsi-fungsi untuk membuat matriks, menghitung perkalian dua buah matriks\n",
    "\n",
    "\n"
   ]
  },
  {
   "cell_type": "markdown",
   "metadata": {
    "collapsed": false
   },
   "source": [
    "[**Kembali ke Menu Awal**](#Review-Algoritma-Pemrograman)"
   ]
  },
  {
   "cell_type": "markdown",
   "metadata": {
    "collapsed": false
   },
   "source": [
    "### Module\n",
    "\n",
    "Python juga menyediakan fasilitas untuk membuat **Module**.  Module ini merupakan suatu file yang terdiri dari sebuah atau lebih dari satu **function**.  Dengan mengelompokkan function-function dalam suatu file, akan memudahkan programmer untuk membaca program dan merubah atau memperbaharui program.\n",
    "\n",
    "Modul ini dapat dipanggil di file lain dengan menggunakan keyword **import**.\n",
    "Terdapat dua buah pilihan, antara lain :\n",
    "```\n",
    "import filename  \n",
    "from fileName import *\n",
    "```\n",
    "\n",
    "Perbedaan kedua perintah import tersebut adalah pemanggilan function yang terdapat di dalam modul.  \n",
    "Pada pilihan pertama, untuk memanggil fungsi yang ada di modul ini maka menggunakan perintah filename.namaFungsi\n",
    "Sedangkan pada pilihan kedua, untuk memanggil fungsi yang ada di modul ini maka menggunakan perintah namaFungsi\n",
    "\n",
    "Hanya saja untuk memanggil fungsi-fungsi yang terdapat pada modul tersebut, program pemanggil harus berada di directory yang sama.  \n",
    "Oleh karena itu perlu ditambahkan path pada program pemanggil\n",
    "\n",
    "\n",
    "### Code\n",
    "\n",
    "Berikut contoh pemanggilan module yang sudah dibuat yaitu checkPrime.  Module ini dapat dilihat pada folder code"
   ]
  },
  {
   "cell_type": "code",
   "execution_count": 0,
   "metadata": {
    "collapsed": false
   },
   "outputs": [
   ],
   "source": [
    "import checkPrime "
   ]
  },
  {
   "cell_type": "code",
   "execution_count": 0,
   "metadata": {
    "collapsed": false
   },
   "outputs": [
   ],
   "source": [
    "checkPrime.isPrime(2)"
   ]
  },
  {
   "cell_type": "markdown",
   "metadata": {
    "collapsed": false
   },
   "source": [
    "### Latihan - 3\n",
    "\n",
    "Buatlah module yang berisi fungsi-fungsi yang terdapat pada Latihan 2, dan gunakanlah modul tersebut untuk mengalikan dua buah matriks"
   ]
  },
  {
   "cell_type": "markdown",
   "metadata": {
    "collapsed": false
   },
   "source": [
    "[**Kembali ke Menu Awal**](#Review-Algoritma-Pemrograman)"
   ]
  }
 ],
 "metadata": {
  "cite2c": {
   "citations": {
    "4027820/BZDMC639": {
     "URL": "https://www.oreilly.com/library/view/head-first-programming/9780596806682/",
     "accessed": {
      "day": 9,
      "month": 10,
      "year": 2018
     },
     "id": "4027820/BZDMC639",
     "title": "Head First Programming [Book]",
     "type": "webpage"
    },
    "4027820/N6X8PHMT": {
     "ISBN": "978-0-596-80237-0",
     "author": [
      {
       "family": "Barry",
       "given": "Paul"
      },
      {
       "family": "Griffiths",
       "given": "David"
      }
     ],
     "call-number": "QA76.73.P98 B37 2009",
     "collection-title": "Head first",
     "edition": "1st ed",
     "event-place": "Beijing ; Sebastopol, CA",
     "id": "4027820/N6X8PHMT",
     "issued": {
      "year": 2009
     },
     "note": "OCLC: ocn475745770",
     "number-of-pages": "406",
     "publisher": "O'Reilly",
     "publisher-place": "Beijing ; Sebastopol, CA",
     "shortTitle": "Head first programming",
     "title": "Head first programming: a learner's guide to programming using the Python language",
     "title-short": "Head first programming",
     "type": "book"
    }
   }
  },
  "kernelspec": {
   "display_name": "Python 3 (Ubuntu Linux)",
   "language": "python",
   "name": "python3"
  },
  "language_info": {
   "codemirror_mode": {
    "name": "ipython",
    "version": 3
   },
   "file_extension": ".py",
   "mimetype": "text/x-python",
   "name": "python",
   "nbconvert_exporter": "python",
   "pygments_lexer": "ipython3",
   "version": "3.6.7"
  }
 },
 "nbformat": 4,
 "nbformat_minor": 0
}