{
 "cells": [
  {
   "cell_type": "markdown",
   "metadata": {
    "collapsed": false
   },
   "source": [
    "# <font color=blue>Pengurutan/Sorting</font>\n",
    "\n",
    "\n",
    "Insertion Sort\n",
    "***"
   ]
  },
  {
   "cell_type": "markdown",
   "metadata": {
    "collapsed": false
   },
   "source": [
    "Algoritma *sorting* yang ketiga adalah *Insertion Sort*. Penjelasan algoritma ini dibagi menjadi dua bagian yaitu :\n",
    "\n",
    "1. [Algoritma Insertion Sort](#Algoritma-Insertion-Sort)\n",
    "2. [Code](#Code)\n",
    "\n"
   ]
  },
  {
   "cell_type": "markdown",
   "metadata": {
    "collapsed": true
   },
   "source": [
    "## Algoritma Insertion Sort\n",
    "\n",
    "\n",
    "Pada algoritma insertion sort, diasumsikan bahwa sebagian data sudah dalam keadaan terurut (pada posisi sebelah kiri dari data list), sehingga data berikutnya akan dibandingkan dengan data yang sudah dalam keadaan terurut ini, dan **disisipkan (insertion)** pada bagian data yang sudah terurut tersebut.\n",
    "Dengan konsep seperti ini, posisi sebelah kiri dari list data (sebelum ada data baru yang akan disisipkan), selalu dalam keadaan terurut.\n",
    "\n",
    "\n",
    "Berikut algoritma Insertion Sort :\n",
    "1. Asumsi bahwa data ke-1 sampai dengan (*n*/2) sudah dalam keadaan terurut\n",
    "2. Sisipkan data ke (*n*/2)+1 atau *key* ke dalam bagian data yang sudah dalam keadaan terurut, dengan cara:\n",
    "- lakukan perbandingan data antara key dengan data pada indeks sebelumnya, jika *key* bernilai lebih kecil, maka lakukan pergeseran posisi data.\n",
    "- lakukan terus perbandingan data *key* ini dengan data pada indeks sebelumnya, sampai data *key* tidak lebih kecil lagi atau atau sampai dengan data pada posisi pertama.\n",
    "\n",
    "Berikut ilustrasi insertion sort (ascending).  Misalkan terdapat data yang memiliki nilai [7, 2.5, 5, 10, 1].\n",
    "\n",
    "**Iterasi Pertama**.  Pada iterasi pertama, diasumsikan indeks ke-0, adalah data yang sudah dalam keadaan terurut.  Data yang digunakan sebagai **key**, adalah data indeks ke-1. Langkah berikutnya adalah menyisipkan key pada kumpulan data terurut sebelumnya, sehingga data saat ini menjadi [2.5, 7, 5, 10, 1].  Akhir dari iterasi pertama adalah, data pada indeks ke-0 dan indeks ke-1, sudah dalam keadaan terurut.  Ilustrasi ini dapat dilihat pada Gambar 1.<br>\n",
    "![title](images/insertionSort_iterasi1.png)<br>\n",
    "**Gambar 1. Iterasi Pertama Algoritma Insertion Sort**<br>\n",
    " \n",
    "**Iterasi Kedua**.  Pada iterasi kedua menjadikan data pada indeks ke-2, yaitu 5, menjadi **key**.  Sehingga pada iterasi kedua ini, berusaha menyispikan key pada kumpulan data terurut sebelumnya, yaitu [2.5, 7], dengan cara membandingkan satu persatu.  Karena nilai key lebih kecil dari 7, dan lebih besar dari 2.5, maka key disisipkan diantara kedua nilai tersebut, sehingga data setelah iterasi kedua, menjadi [2.5, 5, 7, 10, 1].  Dapat dilihat bahwa data indeks ke-0, sampai dengan indeks ke-2, sudah dalam keadaan terurut.\n",
    "Ilustrasi ini dapat dilihat pada Gambar 2.<br>\n",
    "![title](images/insertionSort_iterasi2.png)<br>\n",
    "**Gambar 2. Iterasi Kedua Algoritma Insertion Sort**<br>\n",
    "\n",
    "**Iterasi Ketiga**.  Key pada iterasi ketiga adalah data pada indeks ke-3, yaitu 10.  Tujuan akhir dari iterasi ketiga adalah mencari lokasi yang tepat untuk data 10 diantara data yang sudah urut sebelumnya, yaitu [2.5, 5, 7].  Karena perbandingan pertama yang dilakukan adalah dengan data 7, dan 10 > 7, maka data 10 berada pada tempat yang sama.  Ilustrasi iterasi ketiga ini, dapat dilihat pada Gambar 3. <br>\n",
    "![title](images/insertionSort_iterasi3.png)<br>\n",
    "**Gambar 3. Iterasi Ketiga Algoritma Insertion Sort**<br>\n",
    "\n",
    "**Iterasi Keempat**.  Key untuk iterasi keempat adalah data pada indeks ke-4, yaitu 1.  Pada iterasi keempat ini bertujuan untuk menyisipkan data 1 pada data yang sudah dalam keaadan urut sebelumnya, yaitu [2.5, 5, 7, 10].  Perbandingan dilakukan sebanyak empat kali untuk mencari posisi yang tepat untuk data 1 ini.  Sehingga data 1 harus disisipkan, sebelum data 2.5.  Ilustrasi ini dapat dilihat pada Gambar 4.<br>\n",
    "![title](images/insertionSort_Iterasi5.png)<br>\n",
    "**Gambar 4. Iterasi Keempat Algoritma Insertion Sort**<br>\n",
    "\n",
    "Akhir dari iterasi keempat ini adalah data sudah dalam keaadan terurut, seperti yang ditunjukkan pada Gambar 5.<br>\n",
    "![title](images/insertionSort_terakhir.png)<br>\n",
    "**Gambar 5. Hasil Pengurutan**<br>\n",
    "\n"
   ]
  },
  {
   "cell_type": "markdown",
   "metadata": {
    "collapsed": false
   },
   "source": [
    "[**Kembali ke Menu Awal**](#Pengurutan/Sorting)"
   ]
  },
  {
   "cell_type": "markdown",
   "metadata": {
    "collapsed": false
   },
   "source": [
    "## Code\n",
    "\n",
    "Berikut code untuk pengurutan dengan menggunakan algoritma Insertion Sort.  Iterasi dalam, menggunakan iterasi while, karena iterasi akan berhenti atau tidak dikerjakan, ketika nilai pada key lebih dari data terakhir yang akan dibandingkan."
   ]
  },
  {
   "cell_type": "code",
   "execution_count": 5,
   "metadata": {
    "collapsed": true
   },
   "outputs": [
   ],
   "source": [
    "def insertionSort(listData):\n",
    "    \n",
    "    for outIter in range(1,len(listData)):\n",
    "        print(listData)\n",
    "        key=listData[outIter]\n",
    "        ind=outIter\n",
    "        while (ind>0 and listData[ind-1]>key):\n",
    "            listData[ind]=listData[ind-1]\n",
    "            ind=ind-1\n",
    "            print('inner=',listData)\n",
    "        listData[ind]=key\n",
    "    \n",
    "    print('sortedData=',listData)    "
   ]
  },
  {
   "cell_type": "code",
   "execution_count": 6,
   "metadata": {
    "collapsed": false,
    "scrolled": true
   },
   "outputs": [
    {
     "name": "stdout",
     "output_type": "stream",
     "text": [
      "[10, 2, 5, 8, 1, 20, 2, 2, 4]\n",
      "inner= [10, 10, 5, 8, 1, 20, 2, 2, 4]\n",
      "[2, 10, 5, 8, 1, 20, 2, 2, 4]\n",
      "inner= [2, 10, 10, 8, 1, 20, 2, 2, 4]\n",
      "[2, 5, 10, 8, 1, 20, 2, 2, 4]\n",
      "inner= [2, 5, 10, 10, 1, 20, 2, 2, 4]\n",
      "[2, 5, 8, 10, 1, 20, 2, 2, 4]\n",
      "inner= [2, 5, 8, 10, 10, 20, 2, 2, 4]\n",
      "inner= [2, 5, 8, 8, 10, 20, 2, 2, 4]\n",
      "inner= [2, 5, 5, 8, 10, 20, 2, 2, 4]\n",
      "inner= [2, 2, 5, 8, 10, 20, 2, 2, 4]\n",
      "[1, 2, 5, 8, 10, 20, 2, 2, 4]\n",
      "[1, 2, 5, 8, 10, 20, 2, 2, 4]\n",
      "inner= [1, 2, 5, 8, 10, 20, 20, 2, 4]\n",
      "inner= [1, 2, 5, 8, 10, 10, 20, 2, 4]\n",
      "inner= [1, 2, 5, 8, 8, 10, 20, 2, 4]\n",
      "inner= [1, 2, 5, 5, 8, 10, 20, 2, 4]\n",
      "[1, 2, 2, 5, 8, 10, 20, 2, 4]\n",
      "inner= [1, 2, 2, 5, 8, 10, 20, 20, 4]\n",
      "inner= [1, 2, 2, 5, 8, 10, 10, 20, 4]\n",
      "inner= [1, 2, 2, 5, 8, 8, 10, 20, 4]\n",
      "inner= [1, 2, 2, 5, 5, 8, 10, 20, 4]\n",
      "[1, 2, 2, 2, 5, 8, 10, 20, 4]\n",
      "inner= [1, 2, 2, 2, 5, 8, 10, 20, 20]\n",
      "inner= [1, 2, 2, 2, 5, 8, 10, 10, 20]\n",
      "inner= [1, 2, 2, 2, 5, 8, 8, 10, 20]\n",
      "inner= [1, 2, 2, 2, 5, 5, 8, 10, 20]\n",
      "sortedData= [1, 2, 2, 2, 4, 5, 8, 10, 20]\n"
     ]
    }
   ],
   "source": [
    "b=[10,2,5,8,1,20,2,2,4]\n",
    "insertionSort(b)"
   ]
  },
  {
   "cell_type": "markdown",
   "metadata": {
    "collapsed": false
   },
   "source": [
    "[**Kembali ke Menu Awal**](#Pengurutan/Sorting)"
   ]
  }
 ],
 "metadata": {
  "kernelspec": {
   "display_name": "Python 3 (Ubuntu Linux)",
   "language": "python",
   "name": "python3"
  },
  "language_info": {
   "codemirror_mode": {
    "name": "ipython",
    "version": 3
   },
   "file_extension": ".py",
   "mimetype": "text/x-python",
   "name": "python",
   "nbconvert_exporter": "python",
   "pygments_lexer": "ipython3",
   "version": "3.6.7"
  }
 },
 "nbformat": 4,
 "nbformat_minor": 0
}