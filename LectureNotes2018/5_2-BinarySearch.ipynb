{
 "cells": [
  {
   "cell_type": "markdown",
   "metadata": {
    "collapsed": false
   },
   "source": [
    "# <font color=blue>Pencarian/*Searching*</font>\n",
    "\n",
    "\n",
    "Binary Searching\n",
    "***"
   ]
  },
  {
   "cell_type": "markdown",
   "metadata": {
    "collapsed": false
   },
   "source": [
    "Pencarian dengan algoritma *sequential search* akan menemukan data dengan cepat jika data yang dicari terletak di indeks pertama dari suatu list data.  Akan tetapi jika data yang dicari berada di posisi terakhir dari suatu list atau posisi lain, maka algoritma sequential search ini akan membutuhkan waktu yang lebih lama, karena algoritma ini akan mencari satu persatu, dimulai dari indeks pertama sampai dengan indeks terakhir.\n"
   ]
  },
  {
   "cell_type": "markdown",
   "metadata": {
    "collapsed": true
   },
   "source": [
    "Pada algoritma **binary search** pencarian tidak dilakukan satu persatu, melainkan memanfaatkan kelebihan pencarian di data yang sudah terurut. <br>\n",
    "Pada *binary search*, pencarian dilakukan pertama kali di indeks list yang berada ditengah. <br>\n",
    "Jika data yang dicari sama dengan data pada indeks tersebut, maka pencarian berakhir. Akan tetapi jika data yang dicari lebih besar dari data yang berada di indeks tengah tersebuh, maka dilakukan pencarian lagi.  Hanya saja pencarian tidak dilakukan pada seluruh data, hanya data yang berada indeks-indeks setelah indeks tengah tadi, karena data sebelum indeks tengah, pasti lebih kecil nilainya, sehingga tidak perlu dilakukan pencarian lagi.  Proses ini dilakukan secara terus menerus sampai data ketemu atau tidak ada lagi data yang dapat dicari di dalam list.  Oleh karena itu, binary search tidak perlu mencari di semua data pada list, sehingga waktu komputasi yang dibutuhkan lebih cepat dibandingkan dengan pencarian sequential search.\n",
    "\n",
    "Ilustrasi pencarian binary search ini dapat dilihat pada Gambar berikut.![title](images/binSearch.png)"
   ]
  },
  {
   "cell_type": "markdown",
   "metadata": {
    "collapsed": false
   },
   "source": [
    "## Code\n",
    "\n",
    "Berikut code untuk binary search dengan metode iteratif"
   ]
  },
  {
   "cell_type": "code",
   "execution_count": 1,
   "metadata": {
    "collapsed": true
   },
   "outputs": [
   ],
   "source": [
    "def binarySearch(listData, data):\n",
    "    first = 0\n",
    "    last = len(listData) - 1\n",
    "    found = False\n",
    "        \n",
    "    while first <= last and not found:\n",
    "        midpoint = (first + last) // 2\n",
    "        if listData[midpoint] == data:\n",
    "            found = True\n",
    "            \n",
    "        else:\n",
    "            if data < listData[midpoint]:\n",
    "                last = midpoint - 1\n",
    "            else:\n",
    "                first = midpoint + 1\n",
    "    \n",
    "    return found"
   ]
  },
  {
   "cell_type": "code",
   "execution_count": 3,
   "metadata": {
    "collapsed": false
   },
   "outputs": [
    {
     "name": "stdout",
     "output_type": "stream",
     "text": [
      "True\n"
     ]
    }
   ],
   "source": [
    "a=[4,6,10,34,56,78,99]\n",
    "print(binarySearch(a,34))"
   ]
  },
  {
   "cell_type": "markdown",
   "metadata": {
    "collapsed": false
   },
   "source": [
    "## Latihan - 2\n",
    "\n",
    "Modifikasi code Binary Search tersebut, sehingga return value dari fungsi tersebut adalah indeks data (jika data ada)"
   ]
  },
  {
   "cell_type": "markdown",
   "metadata": {
    "collapsed": false
   },
   "source": [
    "## Code\n",
    "\n",
    "Selain dengan model iteratif, algoritma binary search juga dapat ditulis secara rekursif, seperti yang ditunjukkan pada program berikut"
   ]
  },
  {
   "cell_type": "code",
   "execution_count": 4,
   "metadata": {
    "collapsed": false
   },
   "outputs": [
   ],
   "source": [
    "def binarySearch2(listData, data):\n",
    "    if len(listData) == 0:\n",
    "        return False\n",
    "    else:\n",
    "        midpoint = len(listData) // 2\n",
    "        \n",
    "        if listData[midpoint] == data:\n",
    "            return True\n",
    "        else:\n",
    "            if data < listData[midpoint]:\n",
    "                \n",
    "                return binarySearch2(listData[first:last+1], data)\n",
    "            else:\n",
    "                \n",
    "                return binarySearch2(listData[midpoint + 1:], data)\n",
    "        "
   ]
  },
  {
   "cell_type": "code",
   "execution_count": 5,
   "metadata": {
    "collapsed": true
   },
   "outputs": [
   ],
   "source": [
    "a=[4,6,10,34,56,78,99]"
   ]
  },
  {
   "cell_type": "code",
   "execution_count": 6,
   "metadata": {
    "collapsed": false,
    "scrolled": true
   },
   "outputs": [
    {
     "data": {
      "text/plain": [
       "True"
      ]
     },
     "execution_count": 6,
     "metadata": {
     },
     "output_type": "execute_result"
    }
   ],
   "source": [
    "binarySearch2(a,78)"
   ]
  },
  {
   "cell_type": "code",
   "execution_count": 0,
   "metadata": {
    "collapsed": true
   },
   "outputs": [
   ],
   "source": [
   ]
  }
 ],
 "metadata": {
  "kernelspec": {
   "display_name": "Python 3 (system-wide)",
   "language": "python",
   "metadata": {
    "cocalc": {
     "description": "Python 3 programming language",
     "priority": 100,
     "url": "https://www.python.org/"
    }
   },
   "name": "python3"
  },
  "language_info": {
   "codemirror_mode": {
    "name": "ipython",
    "version": 3
   },
   "file_extension": ".py",
   "mimetype": "text/x-python",
   "name": "python",
   "nbconvert_exporter": "python",
   "pygments_lexer": "ipython3",
   "version": "3.6.7"
  }
 },
 "nbformat": 4,
 "nbformat_minor": 4
}