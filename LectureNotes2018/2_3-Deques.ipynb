{
 "cells": [
  {
   "cell_type": "markdown",
   "metadata": {
    "collapsed": false
   },
   "source": [
    "# <font color=blue>Deques</font>\n",
    "\n",
    "\n",
    "Struktur Data \n",
    "***"
   ]
  },
  {
   "cell_type": "markdown",
   "metadata": {
    "collapsed": false
   },
   "source": [
    "Struktur data yang ketiga adalah **Deques**.  Jika pada stacks, penambahan data baru dan penghapusan dilakukan pada ujung yang sama, yaitu **top**, sedangkan pada queues, penambahan data baru dan penghapusan dilakukan pada ujung yang berbeda, yaitu **rear**(penambahan data) dan **front**(penghapusan data).  Maka struktur data **deques** dapat dilakukan di kedua ujung, seperti halnya queues, hanya terdapat sedikit perbedaan.  <br>\n",
    "penambahan data dapat dilakukan pada kedua ujung, baik **front** maupun **rear**.  Begitu juga halnya dengan penghapusan data yang dapat dilakukan pada **front** maupun **rear**.<br>\n",
    "\n",
    "Berikut pembahasan pada struktur data **Deques**:\n",
    "1. [Operasi Queues](#Operasi-Deques)\n",
    "2. [Contoh Implementasi Deques](#Implementasi-Deques)\n",
    "\n"
   ]
  },
  {
   "cell_type": "markdown",
   "metadata": {
    "collapsed": true
   },
   "source": [
    "## Operasi Deques\n",
    "\n",
    "Operasi-operasi yang terdapat pada *Deques* antara lain :\n",
    "    - deque (),         inisialisasi struktur data deque kosong\n",
    "    - addFront (data),  penambahan data baru di ujung front pada deque\n",
    "    - addRear (data),   penambahan data baru di ujung rear pada deque\n",
    "    - removeRear (),    penghapusan data pada ujung rear\n",
    "    - removeFront (),   penghapusan data pada ujung front\n",
    "    - isEmpty(),        pengecekan apakah deque dalam keadaan kosong\n",
    "    - size (),          informasi jumlah data yang terdapat pada deque"
   ]
  },
  {
   "cell_type": "markdown",
   "metadata": {
    "collapsed": false
   },
   "source": [
    "Struktur data *Deques* ini direpresentasikan dengan *List*, dimana:\n",
    "- indeks awal list, yaitu indeks ke-0, adalah posisi **front** pada deques\n",
    "- indeks akhir list, yaitu indeks terakhir, adalah posisi **rear** pada deques\n",
    "\n",
    "Oleh karena itu, penambahan data baru pada posisi **front** dapat dilakukan dengan method ```insert()``` pada posisi ke-0.  Sedangkan penambahan data baru pada posisi **rear** dapat dilakukan dengan method ```append```, yang merupakan penambahan data baru pada list di posisi terakhir.<br>\n",
    "\n",
    "Sedangkan penghapusan data pada posisi **front** dapat dilakukan dengan method ```pop()``` pada posisi ke-0, sedangkan penghapusan data pada posisi **rear** dilakukan dengan method ```pop()```."
   ]
  },
  {
   "cell_type": "markdown",
   "metadata": {
    "collapsed": false
   },
   "source": [
    "## Code\n",
    "\n",
    "Berikut adalam implementasi deques dengan menggunakan List :"
   ]
  },
  {
   "cell_type": "code",
   "execution_count": 1,
   "metadata": {
    "collapsed": true
   },
   "outputs": [
   ],
   "source": [
    "def createDeque():\n",
    "    d=[]\n",
    "    return (d)\n",
    "def addFront(d,data):\n",
    "    d.insert(0,data)\n",
    "    return(d)\n",
    "def addRear(d,data):\n",
    "    d.append(data)\n",
    "    return(d)\n",
    "def removeRear(d):\n",
    "    data=d.pop()\n",
    "    return(data)\n",
    "def removeFront(d):\n",
    "    data=d.pop(0)\n",
    "    return(data)\n",
    "def isEmpty(d):\n",
    "    return (d==[])\n",
    "def size(d):\n",
    "    return (len(d))"
   ]
  },
  {
   "cell_type": "markdown",
   "metadata": {
    "collapsed": false
   },
   "source": [
    "Berikut ini adalah contoh penggunan deques"
   ]
  },
  {
   "cell_type": "code",
   "execution_count": 3,
   "metadata": {
    "collapsed": false
   },
   "outputs": [
   ],
   "source": [
    "deq=createDeque()"
   ]
  },
  {
   "cell_type": "code",
   "execution_count": 4,
   "metadata": {
    "collapsed": false
   },
   "outputs": [
    {
     "data": {
      "text/plain": [
       "['data', 'struktur']"
      ]
     },
     "execution_count": 4,
     "metadata": {
     },
     "output_type": "execute_result"
    }
   ],
   "source": [
    "addFront(deq,'struktur')\n",
    "addFront(deq,'data')"
   ]
  },
  {
   "cell_type": "code",
   "execution_count": 5,
   "metadata": {
    "collapsed": false
   },
   "outputs": [
    {
     "data": {
      "text/plain": [
       "['data', 'struktur', '2018', '2019']"
      ]
     },
     "execution_count": 5,
     "metadata": {
     },
     "output_type": "execute_result"
    }
   ],
   "source": [
    "addRear(deq,'2018')\n",
    "addRear(deq,'2019')"
   ]
  },
  {
   "cell_type": "code",
   "execution_count": 6,
   "metadata": {
    "collapsed": false
   },
   "outputs": [
    {
     "data": {
      "text/plain": [
       "['data', 'struktur', '2018', '2019', '100']"
      ]
     },
     "execution_count": 6,
     "metadata": {
     },
     "output_type": "execute_result"
    }
   ],
   "source": [
    "addRear(deq,'100')"
   ]
  },
  {
   "cell_type": "code",
   "execution_count": 7,
   "metadata": {
    "collapsed": false
   },
   "outputs": [
    {
     "name": "stdout",
     "output_type": "stream",
     "text": [
      "data\n",
      "['struktur', '2018', '2019', '100']\n"
     ]
    }
   ],
   "source": [
    "data=removeFront(deq)\n",
    "print(data)\n",
    "print(deq)"
   ]
  },
  {
   "cell_type": "code",
   "execution_count": 8,
   "metadata": {
    "collapsed": false
   },
   "outputs": [
    {
     "name": "stdout",
     "output_type": "stream",
     "text": [
      "100\n",
      "['struktur', '2018', '2019']\n"
     ]
    }
   ],
   "source": [
    "data=removeRear(deq)\n",
    "print(data)\n",
    "print(deq)"
   ]
  },
  {
   "cell_type": "code",
   "execution_count": 9,
   "metadata": {
    "collapsed": false
   },
   "outputs": [
    {
     "data": {
      "text/plain": [
       "3"
      ]
     },
     "execution_count": 9,
     "metadata": {
     },
     "output_type": "execute_result"
    }
   ],
   "source": [
    "size(deq)"
   ]
  },
  {
   "cell_type": "code",
   "execution_count": 10,
   "metadata": {
    "collapsed": false
   },
   "outputs": [
    {
     "data": {
      "text/plain": [
       "False"
      ]
     },
     "execution_count": 10,
     "metadata": {
     },
     "output_type": "execute_result"
    }
   ],
   "source": [
    "isEmpty(deq)"
   ]
  },
  {
   "cell_type": "code",
   "execution_count": 11,
   "metadata": {
    "collapsed": false
   },
   "outputs": [
    {
     "name": "stdout",
     "output_type": "stream",
     "text": [
      "['2018', '2019', 'struktur']\n"
     ]
    }
   ],
   "source": [
    "addRear(deq,removeFront(deq))\n",
    "print(deq)"
   ]
  },
  {
   "cell_type": "markdown",
   "metadata": {
    "collapsed": false
   },
   "source": [
    "[**Kembali ke Menu Awal**](#Deques)"
   ]
  },
  {
   "cell_type": "markdown",
   "metadata": {
    "collapsed": false
   },
   "source": [
    "## Implementasi Deques\n",
    "\n",
    "Contoh implementasi Deques adalah pengecekan apakah suatu kata merupakan palindrom.  Palindrom merupakan rangkaian kata atau bilangan yang terbaca sama baik dari depan maupun dari belakang. <br>\n",
    "Struktur data **deques** paling tepat digunakan untuk memeriksa apakah suatu kata maupun bilangan adalah palindrom.  Untuk memeriksa apakah suatu kata adalah palindrome, dapat dilakukan dengan memeriksa apakah ujung yang terletak pada front dan ujung yang terletak pada rear, merupakan karakter yang sama."
   ]
  },
  {
   "cell_type": "markdown",
   "metadata": {
    "collapsed": false
   },
   "source": [
    "## Code\n",
    "\n",
    "Berikut adalah code untuk pengecekan palindrom dari suatu kata"
   ]
  },
  {
   "cell_type": "code",
   "execution_count": 16,
   "metadata": {
    "collapsed": false,
    "scrolled": true
   },
   "outputs": [
   ],
   "source": [
    "def cekPalindrom(string):\n",
    "    palindrom=createDeque()\n",
    "    for huruf in string:\n",
    "        addRear(palindrom,huruf)\n",
    "    cek=True\n",
    "    while size(palindrom)>1:\n",
    "        a=removeRear(palindrom)\n",
    "        b=removeFront(palindrom)\n",
    "        if (a==b):\n",
    "            cek=cek and True\n",
    "        else:\n",
    "            cek=cek and False\n",
    "    return cek\n",
    "\n",
    "\n"
   ]
  },
  {
   "cell_type": "code",
   "execution_count": 19,
   "metadata": {
    "collapsed": false
   },
   "outputs": [
    {
     "name": "stdout",
     "output_type": "stream",
     "text": [
      "True\n",
      "False\n",
      "True\n",
      "True\n",
      "True\n",
      "False\n"
     ]
    }
   ],
   "source": [
    "print(cekPalindrom('hannah'))\n",
    "print(cekPalindrom('surabaya'))\n",
    "print(cekPalindrom('abcdcba'))\n",
    "print(cekPalindrom('katak'))\n",
    "print(cekPalindrom('taat'))\n",
    "print(cekPalindrom('dia'))"
   ]
  },
  {
   "cell_type": "markdown",
   "metadata": {
    "collapsed": false
   },
   "source": [
    "[**Kembali ke Menu Awal**](#Deques)"
   ]
  }
 ],
 "metadata": {
  "kernelspec": {
   "display_name": "Python 3 (Ubuntu Linux)",
   "language": "python",
   "name": "python3"
  },
  "language_info": {
   "codemirror_mode": {
    "name": "ipython",
    "version": 3
   },
   "file_extension": ".py",
   "mimetype": "text/x-python",
   "name": "python",
   "nbconvert_exporter": "python",
   "pygments_lexer": "ipython3",
   "version": "3.6.7"
  }
 },
 "nbformat": 4,
 "nbformat_minor": 0
}