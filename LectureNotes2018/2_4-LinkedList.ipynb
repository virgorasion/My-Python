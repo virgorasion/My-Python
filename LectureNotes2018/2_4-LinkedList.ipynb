{
 "cells": [
  {
   "cell_type": "markdown",
   "metadata": {
    "collapsed": false
   },
   "source": [
    "# <font color=blue>Linked List</font>\n",
    "\n",
    "\n",
    "Struktur Data\n",
    "***"
   ]
  },
  {
   "cell_type": "markdown",
   "metadata": {
    "collapsed": false
   },
   "source": [
    "Bahasa pemrograman python telah menyediakan type data yang dinamis, yaitu **List**.  Ukuran dari variabel yang bertipe data **list** dapat diatur sesuai dengan keinginan programmer selama program dijalankan, tidak harus mempunyai ukuran tetap di awal.  Tipe data ini juga menyediakan method menambah data pada saat diperlukan, sehingga tipe data ini bersifat dinamis.\n",
    "\n",
    "Akan tetapi tidak semua pemrograman menyediakan type data seperti ini, oleh karena itu terdapat suatu struktur data yang dapat dibuat oleh programmer yang bersifat dinamis, yaitu **Linked List**. <br>\n",
    "<br>\n",
    "\n",
    "Lima hal utama yang terdapat pada struktur data linked list:\n",
    "1. [Node](#Node)\n",
    "2. [Linked List](#Linked-List-Class)\n",
    "3. [Penambahan Data pada Linked List](#Penambahan-Data-pada-Linked-List)\n",
    "4. [Traversal Linked List](#Traversal-Linked-List)\n",
    "5. [Ordered List](#Ordered-List)\n",
    "\n"
   ]
  },
  {
   "cell_type": "markdown",
   "metadata": {
    "collapsed": false
   },
   "source": [
    "## Node\n",
    "\n",
    "Data di dalam memory berada di alamat yang berbeda-beda, jika dibutuhkan agar data-data tersebut dapat terhubung satu sama lain, maka informasi tambahan yang menunjukkan alamat data berikutnya sangatlah diperlukan, seperti yang terlihat pada Gambar 1 berikut. <br>\n",
    "![title](images/linkedList1.png)<br>\n",
    "**Gambar1. Data-data yang terhubung di dalam memory**"
   ]
  },
  {
   "cell_type": "markdown",
   "metadata": {
    "collapsed": false
   },
   "source": [
    "\n",
    "Oleh karena itu data berikutnya dapat diketahui dengan cari mengikuti informasi *link* yang terdapat pada informasi tambahan tersebut.  Lokasi data pertama dari **linked list** haruslah diketahui secara eksplisit, sehingga dari data pertama tersebut, data kedua data ditemukan, data ketiga, dan seterusnya.  Informasi yang menunjuk pada lokasi data pertama atau **head of the list** tersebut disebut dengan **external reference**. Begitu juga dengan data terakhir, harus ada informasi yang menunjukkan bahwa data tersebut adalah data terakhir di dalam linked list, tidak ada lagi data berikutnya.\n",
    "\n",
    "Untuk membuat struktur data linked list, terlebih dahulu dibuat **node-node** penyusun linked list tersebut.  **Node** ini harus memiliki setidaknya dua informasi, yaitu informasi mengenai data atau nilai, dan informasi mengenai node berikutnya.  Oleh karena itu **node** dibuat menjadi sebuah tipe data baru yang bertipe **class**, dengan dua informasi yaitu *data* dan *next*.\n",
    "\n",
    "Terdapat beberapa method penting pada class **node** ini, antara lain:\n",
    "- *constructor*, yang akan dijalankan setiap instansiasi class\n",
    "- *getData*, untuk mengetahui informasi data yang terdapat pada node tersebut\n",
    "- *getNext*, untuk mengetahui informasi node berikutnya, jika tidak ada node berikutnya maka nilai balik berupa *None*\n",
    "- *setData*, untuk merubah informasi data yang terdapat pada node tersebut\n",
    "- *setNext*, untuk menentukan node berikutnya yang ditunjukan oleh informasi *next* dari node tersebut"
   ]
  },
  {
   "cell_type": "markdown",
   "metadata": {
    "collapsed": false
   },
   "source": [
    "Contoh Node dapat dilihat pada Gambar 2. <br>\n",
    "![title](images/node.png)<br>\n",
    "**Gambar 2. Node dengan nilai '93'**<br>\n",
    "\n",
    "Pada Gambar 2 tersebut, terdapat dua informasi yang terkandung di dalam node, yaitu data dari node adalah 93, dan node tersebut menunjuk ke *Nil* atau *Ground* atau tidak ada node yang ditunjuk.\n"
   ]
  },
  {
   "cell_type": "markdown",
   "metadata": {
    "collapsed": false
   },
   "source": [
    "## Code\n",
    "\n",
    "Berikut adalah pembuatan class Node yang merupakan representasi dari sebuah node. *Property* atau *state* yang terdapat pada class Node ini :\n",
    "1. data : berisi nilai dari node\n",
    "2. next : berisi informasi berikutnya yang ditunjuk oleh node.  Proses intansiasi, property next ini diset ```None``` yang merupakan representasi Nil atau Ground, berarti tidak ada node yang ditunjuk oleh node ini\n",
    "\n"
   ]
  },
  {
   "cell_type": "code",
   "execution_count": 5,
   "metadata": {
    "collapsed": false
   },
   "outputs": [],
   "source": [
    "class Node:\n",
    "    def __init__(self, init_data):\n",
    "        self.data = init_data\n",
    "        self.next = None\n",
    "    def getData(self):\n",
    "        return self.data\n",
    "    def getNext(self):\n",
    "        return self.next\n",
    "    def setData(self, newdata):\n",
    "        self.data = newdata\n",
    "    def setNext(self, new_next):\n",
    "        self.next = new_next"
   ]
  },
  {
   "cell_type": "markdown",
   "metadata": {
    "collapsed": false
   },
   "source": [
    "Berikut adalah contoh penggunaan class Node."
   ]
  },
  {
   "cell_type": "code",
   "execution_count": 2,
   "metadata": {
    "collapsed": false,
    "scrolled": true
   },
   "outputs": [
    {
     "name": "stdout",
     "output_type": "stream",
     "text": [
      "None\n",
      "None\n",
      "<__main__.Node object at 0x7f63af675f60>\n"
     ]
    }
   ],
   "source": [
    "a=Node(93)\n",
    "b=Node(20)\n",
    "print(a.getNext())\n",
    "print(b.getNext())\n",
    "a.setNext(b)\n",
    "print(a.getNext())"
   ]
  },
  {
   "cell_type": "markdown",
   "metadata": {
    "collapsed": false
   },
   "source": [
    "Pada code diatas, terdapat obyek ```a``` dan obyek ```b``` yang memiliki tipe data class ```Node```.  Pada saat instansiasi, property data kedua obyek ini bernilai ```93``` dan ```20```, serta property ```next``` bernilai **None**.<br>\n",
    "Pada baris kelima, terdapat perintah ```a.setNext(b)```, yang berarti property ```next``` dari obyek ```a``` akan menunjuk ke obyek ```b```.  Sehingga ketika dilakukan perintah ```print(a.getNext())``` akan menunjukkan ke suatu class Node."
   ]
  },
  {
   "cell_type": "markdown",
   "metadata": {
    "collapsed": false
   },
   "source": [
    "[**Kembali ke Menu Awal**](#Linked-List)"
   ]
  },
  {
   "cell_type": "markdown",
   "metadata": {
    "collapsed": false
   },
   "source": [
    "## Linked List Class\n",
    "\n"
   ]
  },
  {
   "cell_type": "markdown",
   "metadata": {
    "collapsed": false
   },
   "source": [
    "Linked list merupakan kumpulan dari node-node yang terhubung satu sama lain.  Untuk mengakses node-node yang terdapat pada linked list tersebut, haruslah diketahui terlebih dahulu lokasi node pertama dari suatu linked list, sehingga diperlukan pointer tambahan untuk menunjukkan keberadaan node pertama.\n",
    "\n",
    "## Code\n",
    "Berikut adalah class untuk linked list, dimana pada class tersebut terdapat pointer yang menunjukkan node pertama dari suatu linked list (*head*).  Terdapat dua buah method utama pada class LinkedList ini, antara lain:\n",
    "1. *constructor*, ```__init__```, yang merupakan method yang dijalankan pada saat pembuatan obyek.  Karena obyek baru pertama kali dibuat, maka linked list masih kosong, sehingga pointer *head* masih bernilai *None*.\n",
    "2. Method ```isEmpty```, untuk pengecekan apakah linked list memiliki node ataukah tidak.  Jika pointer *head* masih menunjuk pada *None*, maka linked list masih tidak memiliki node, sehingga return value adalah True.\n",
    "\n"
   ]
  },
  {
   "cell_type": "code",
   "execution_count": 3,
   "metadata": {
    "collapsed": false
   },
   "outputs": [],
   "source": [
    "class LinkedList:\n",
    "    def __init__(self):\n",
    "        self.head = None\n",
    "    def isEmpty(self):\n",
    "        return self.head==None"
   ]
  },
  {
   "cell_type": "markdown",
   "metadata": {
    "collapsed": false
   },
   "source": [
    "Berikut ini adalah cara penggunaan class LinkedList yang telah dibuat"
   ]
  },
  {
   "cell_type": "code",
   "execution_count": 4,
   "metadata": {
    "collapsed": false
   },
   "outputs": [],
   "source": [
    "mylist=LinkedList()"
   ]
  },
  {
   "cell_type": "code",
   "execution_count": 5,
   "metadata": {
    "collapsed": false
   },
   "outputs": [
    {
     "name": "stdout",
     "output_type": "stream",
     "text": [
      "None\n"
     ]
    },
    {
     "data": {
      "text/plain": [
       "True"
      ]
     },
     "execution_count": 5,
     "metadata": {},
     "output_type": "execute_result"
    }
   ],
   "source": [
    "print(mylist.head)\n",
    "mylist.isEmpty()"
   ]
  },
  {
   "cell_type": "code",
   "execution_count": 6,
   "metadata": {
    "collapsed": false
   },
   "outputs": [
    {
     "name": "stdout",
     "output_type": "stream",
     "text": [
      "None\n"
     ]
    }
   ],
   "source": [
    "print(mylist.head)"
   ]
  },
  {
   "cell_type": "code",
   "execution_count": 7,
   "metadata": {
    "collapsed": false
   },
   "outputs": [
    {
     "data": {
      "text/plain": [
       "True"
      ]
     },
     "execution_count": 7,
     "metadata": {},
     "output_type": "execute_result"
    }
   ],
   "source": [
    "mylist.isEmpty()"
   ]
  },
  {
   "cell_type": "markdown",
   "metadata": {
    "collapsed": false
   },
   "source": [
    "Obyek mylist yang telah dibuat pada code diatas yang bertipe *linked list*, adalah linked list yang masih kosong, belum ada node dalam list tersebut, seperti yang ditunjukkan pada Gambar 3. <br>\n",
    "![title](images/mylist.png)<br>\n",
    "**Gambar 3. Obyek mylist berbentuk Linked List yang belum memiliki Node** <br>"
   ]
  },
  {
   "cell_type": "markdown",
   "metadata": {
    "collapsed": false
   },
   "source": [
    "[**Kembali ke Menu Awal**](#Linked-List)"
   ]
  },
  {
   "cell_type": "markdown",
   "metadata": {
    "collapsed": false
   },
   "source": [
    "## Penambahan Data pada Linked List\n",
    "\n",
    "Secara default, penambahan data baru diletakkan pada awal linked list atau yang terdapat pada pointer *head*.   Penambahan data baru ini, dilakukan dengan dua tahapan :\n",
    "- Tautkan node baru ini ke node awal dari linked list\n",
    "- modifikasi head dari linked list agar menunjuk pada node baru ini, seperti yang ditunjukkan pada Gambar 4 berikut : <br>\n",
    "![title](images/addList1.png)<br>\n",
    "**Gambar 4. Penambahan node baru secara benar pada linked list**\n",
    "\n",
    "Urutan tahapan ini **tidak boleh dibalik**, karena jika dibalik maka linked list yang awal tidak lagi dapat ditemukan seperti yang terdapat pada Gambar 5 berikut :<br>\n",
    "![title](images/addList2.png)<br>\n",
    "**Gambar 5. Penambahan node baru secara tidak tepat pada linked list**"
   ]
  },
  {
   "cell_type": "markdown",
   "metadata": {
    "collapsed": false
   },
   "source": [
    "## Code\n",
    "\n",
    "Berikut adalah penambahan method ```add()``` pada class LinkedList.  Seperti yang dijelaskan sebelumnya, penambahan node baru harus dilakukan dengan urutan yang tepat, yaitu:<br>\n",
    "```\n",
    "temp=Node(item) #temp adalah node baru yang akan ditambahkan\n",
    "temp.setNext(self.head) #pointer Next dari node temp menunjuk pada node yang ditunjuk oleh pointer head\n",
    "self.head=temp #pointer head menunjuk pada node temp yang sudah tersambung dengan linked list\n",
    "```"
   ]
  },
  {
   "cell_type": "code",
   "execution_count": 8,
   "metadata": {
    "collapsed": false
   },
   "outputs": [],
   "source": [
    "class LinkedList:\n",
    "    def __init__(self):\n",
    "        self.head = None\n",
    "    def isEmpty(self):\n",
    "        return self.head==None\n",
    "    def add(self, item):\n",
    "        temp = Node(item)\n",
    "        temp.setNext(self.head)\n",
    "        self.head = temp"
   ]
  },
  {
   "cell_type": "markdown",
   "metadata": {
    "collapsed": false
   },
   "source": [
    "Berikut adalah contoh penggunaan class LinkedList yang sudah dibuat"
   ]
  },
  {
   "cell_type": "code",
   "execution_count": 9,
   "metadata": {
    "collapsed": false
   },
   "outputs": [],
   "source": [
    "mylist=LinkedList()"
   ]
  },
  {
   "cell_type": "code",
   "execution_count": 10,
   "metadata": {
    "collapsed": false
   },
   "outputs": [
    {
     "name": "stdout",
     "output_type": "stream",
     "text": [
      "None\n"
     ]
    },
    {
     "data": {
      "text/plain": [
       "True"
      ]
     },
     "execution_count": 10,
     "metadata": {},
     "output_type": "execute_result"
    }
   ],
   "source": [
    "print(mylist.head)\n",
    "mylist.isEmpty()"
   ]
  },
  {
   "cell_type": "code",
   "execution_count": 11,
   "metadata": {
    "collapsed": false
   },
   "outputs": [
    {
     "name": "stdout",
     "output_type": "stream",
     "text": [
      "<__main__.Node object at 0x7f63af6bd208>\n"
     ]
    }
   ],
   "source": [
    "mylist.add(34)\n",
    "print(mylist.head)"
   ]
  },
  {
   "cell_type": "code",
   "execution_count": 12,
   "metadata": {
    "collapsed": false
   },
   "outputs": [
    {
     "name": "stdout",
     "output_type": "stream",
     "text": [
      "<__main__.Node object at 0x7f63af67e0f0>\n",
      "45\n"
     ]
    }
   ],
   "source": [
    "mylist.add(45)\n",
    "print(mylist.head)\n",
    "print(mylist.head.data)"
   ]
  },
  {
   "cell_type": "code",
   "execution_count": 13,
   "metadata": {
    "collapsed": false
   },
   "outputs": [],
   "source": [
    "mylist.add(21)"
   ]
  },
  {
   "cell_type": "markdown",
   "metadata": {
    "collapsed": false
   },
   "source": [
    "Setelah penambahan node terakhir diatas, maka mylist akan berisi = [21, 45, 34]"
   ]
  },
  {
   "cell_type": "markdown",
   "metadata": {
    "collapsed": false
   },
   "source": [
    "[**Kembali ke Menu Awal**](#Linked-List)"
   ]
  },
  {
   "cell_type": "markdown",
   "metadata": {
    "collapsed": false
   },
   "source": [
    "## Traversal Linked List\n",
    "\n",
    "Untuk mengetahui ukuran dari list, diperlukan tahapan **traverse**, yaitu menelusuri setiap node yang terdapat pada linked list, seperti pada Gambar 6 sebagai berikut :<br>\n",
    "![title](images/sizeList.png)<br>\n",
    "**Gambar 6. Traversal Linked List**\n",
    "\n",
    "Pada proses penelusuran atau *traversal* dibutuhkan pointer bantuan. Pointer bantuan yang ditunjukkan pada Gambar 6 tersebut,  adalah pointer curent yang bergerak dari node awal sampai dengan node akhir. <br>\n",
    "Proses traversal ini dibutuhkan untuk beberapa hal, seperti untuk menghitung jumlah node yang terdapat pada Linked List, untuk mencari node pada linked list, untuk menampilkan seluruh node dari linked list, untuk menyisipkan node setelah atau sebelum node yang sudah terdapat pada linked list, dan untuk menghapus suatu node.\n",
    "\n",
    "## Code\n",
    "\n",
    "Implementasi pertama yang dibuat adalah pembuatan method size(), untuk menghitung jumlah node.  Pada method size terdapat beberapa tahapan :\n",
    "1. pointer bantuan curent berada pada node yang ditunjuk oleh head (yaitu node pertama)\n",
    "2. pointer curent bergerak, dengan perintah ```curent=curent.getNext()```, sekaligus dilakukan increment variabel count, yang merepresentasikan jumlah node\n",
    "3. pergerakan atau traversal ini akan berakhir ketika pointer curent menunjuk pada None, yang merepresentasikan, tidak ada lagi node yang terdapat pada Linked list"
   ]
  },
  {
   "cell_type": "code",
   "execution_count": 14,
   "metadata": {
    "collapsed": false
   },
   "outputs": [],
   "source": [
    "class LinkedList:\n",
    "    def __init__(self):\n",
    "        self.head = None\n",
    "    def isEmpty(self):\n",
    "        return self.head==None\n",
    "    def add(self, item):\n",
    "        temp = Node(item)\n",
    "        temp.setNext(self.head)\n",
    "        self.head = temp\n",
    "    def size(self):\n",
    "        curent = self.head\n",
    "        count = 0\n",
    "        while curent != None:\n",
    "            count = count + 1\n",
    "            \n",
    "            curent = curent.getNext()           \n",
    "        return count"
   ]
  },
  {
   "cell_type": "markdown",
   "metadata": {
    "collapsed": false
   },
   "source": [
    "Berikut contoh penggunaan method ```size()``` pada class LinkedList"
   ]
  },
  {
   "cell_type": "code",
   "execution_count": 15,
   "metadata": {
    "collapsed": false
   },
   "outputs": [
    {
     "name": "stdout",
     "output_type": "stream",
     "text": [
      "3\n"
     ]
    }
   ],
   "source": [
    "mylist=LinkedList()\n",
    "mylist.add(45)\n",
    "mylist.add(34)\n",
    "mylist.add(70)\n",
    "print(mylist.size())"
   ]
  },
  {
   "cell_type": "markdown",
   "metadata": {
    "collapsed": false
   },
   "source": [
    "### Pencarian Node pada Linked List\n",
    "\n",
    "Untuk pencarian node di dalam linked list juga perlu dilakukan *traverse* linked list seperti sebelumnya, hanya saja setiap berada pada suatu node, maka dilakukan pencocokan apakah node tersebut adalah node yang dicari, seperti Gambar 7 berikut:<br>\n",
    "![title](images/searchList.png)<br>\n",
    "**Gambar 7. Pencarian Node pada Linked List**<br>\n",
    "\n",
    "\n",
    "Seperti halnya pada method sebelumnya, terdapat pointer curent yang bergerak dari awal sampai akhir, hanya saja diperlukan pencocokan antara data yang terdapat pada curent dengan data yang dicari.  Implementasi pencarian dapat dilihat pada method berikut\n",
    "\n",
    "\n",
    "## Code\n",
    "Berikut penambahan method ```search()``` pada class LinkedList.  Method ```search()``` ini hampir sama dengan method ```size```, hanya saja jika ditambahkan apakah node yang ditunjukkan oleh pointer curent adalah node yang dicari, dengan perintah:\n",
    "```\n",
    "if curent.getData() == item: #dimana item adalah node yang dicari\n",
    "```\n",
    "maka method ini akan menghasilkan nilai True."
   ]
  },
  {
   "cell_type": "code",
   "execution_count": 16,
   "metadata": {
    "collapsed": false
   },
   "outputs": [],
   "source": [
    "class LinkedList:\n",
    "    def __init__(self):\n",
    "        self.head = None\n",
    "    def isEmpty(self):\n",
    "        return self.head==None\n",
    "    def add(self, item):\n",
    "        temp = Node(item)\n",
    "        temp.setNext(self.head)\n",
    "        self.head = temp\n",
    "    def size(self):\n",
    "        curent = self.head\n",
    "        count = 0\n",
    "        while curent != None:\n",
    "            count = count + 1\n",
    "            curent = curent.getNext()\n",
    "        return count\n",
    "    def search(self,item):\n",
    "        curent = self.head\n",
    "        found = False\n",
    "        while curent != None and not found:\n",
    "            if curent.getData() == item:\n",
    "                found = True\n",
    "            else:\n",
    "                curent = curent.getNext()\n",
    "        return found"
   ]
  },
  {
   "cell_type": "markdown",
   "metadata": {
    "collapsed": false
   },
   "source": [
    "Berikut adalah contoh penggunaan method ```search()```"
   ]
  },
  {
   "cell_type": "code",
   "execution_count": 17,
   "metadata": {
    "collapsed": false
   },
   "outputs": [
    {
     "data": {
      "text/plain": [
       "True"
      ]
     },
     "execution_count": 17,
     "metadata": {},
     "output_type": "execute_result"
    }
   ],
   "source": [
    "mylist=LinkedList()\n",
    "mylist.add(45)\n",
    "mylist.add(34)\n",
    "mylist.add(70)\n",
    "mylist.add(84)\n",
    "mylist.size()\n",
    "mylist.search(34)"
   ]
  },
  {
   "cell_type": "markdown",
   "metadata": {
    "collapsed": false
   },
   "source": [
    "### Menampilkan seluruh data pada Linked list\n",
    "\n",
    "Proses traversal juga dapat digunakan untuk menampilkan data pada seluruh node yang terdapat pada Linked List.\n",
    "\n",
    "## Code\n",
    "Berikut method ```display()``` untuk menampilkan data dari seluruh node pada linked list"
   ]
  },
  {
   "cell_type": "code",
   "execution_count": 18,
   "metadata": {
    "collapsed": false
   },
   "outputs": [],
   "source": [
    "class LinkedList:\n",
    "    def __init__(self):\n",
    "        self.head = None\n",
    "    def isEmpty(self):\n",
    "        return self.head==None\n",
    "    def add(self, item):\n",
    "        temp = Node(item)\n",
    "        temp.setNext(self.head)\n",
    "        self.head = temp\n",
    "    def size(self):\n",
    "        curent = self.head\n",
    "        count = 0\n",
    "        while curent != None:\n",
    "            count = count + 1\n",
    "            curent = curent.getNext()\n",
    "        return count\n",
    "    def search(self,item):\n",
    "        curent = self.head\n",
    "        found = False\n",
    "        while curent != None and not found:\n",
    "            if curent.getData() == item:\n",
    "                found = True\n",
    "            else:\n",
    "                curent = curent.getNext()\n",
    "        return found\n",
    "    def display(self):\n",
    "        curent = self.head\n",
    "        while curent != None:\n",
    "            print(curent.getData())\n",
    "            curent = curent.getNext()\n",
    "        "
   ]
  },
  {
   "cell_type": "markdown",
   "metadata": {
    "collapsed": false
   },
   "source": [
    "Berikut adalah contoh penggunaan method ```display()```"
   ]
  },
  {
   "cell_type": "code",
   "execution_count": 19,
   "metadata": {
    "collapsed": false
   },
   "outputs": [],
   "source": [
    "mylist=LinkedList()\n",
    "mylist.add(45)\n",
    "mylist.add(34)\n",
    "mylist.add(70)\n",
    "mylist.add(84)\n"
   ]
  },
  {
   "cell_type": "code",
   "execution_count": 20,
   "metadata": {
    "collapsed": false
   },
   "outputs": [
    {
     "name": "stdout",
     "output_type": "stream",
     "text": [
      "84\n",
      "70\n",
      "34\n",
      "45\n"
     ]
    }
   ],
   "source": [
    "mylist.display()"
   ]
  },
  {
   "cell_type": "markdown",
   "metadata": {
    "collapsed": false
   },
   "source": [
    "### Penghapusan Node pada Linked List\n",
    "\n",
    "Penghapusan data (remove data) dilakukan dengan dua tahapan yaitu :\n",
    "- traverse linked list, untuk mencari node mana yang akan dihapus\n",
    "- remove data, menghapus node dari linked list"
   ]
  },
  {
   "cell_type": "markdown",
   "metadata": {
    "collapsed": false
   },
   "source": [
    "Untuk traverse linked list sama hal nya dengan method sebelumnya, yaitu terdapat pointer **curent** yang menelusuri node awal sampai dengan node akhir untuk mencari node yang akan dihapus.  Ketika node sudah ditemukan, penghapusan tidak dapat dilakukan langsung begitu saja, karena di dalam node terdapat informasi lain, yaitu next yang menunjukkan lokasi node berikutnya.  Sebelum dilakukan penghapusan perlu dilakukan terlebih dahulu pentautan antara node sebelum node yang dicari dengan node sesudah node yang dicari, sehingga node yang dicari dapat dihapus.  <br>\n",
    "Oleh karena itu diperlukan pointer tambahan selain **curent**, yaitu pointer **previous**.  Pointer ini bergerak satu langkah sebelum pointer curent, sehingga ketika pointer **curent** sudah menemukan data yang dicari, maka pointer **previous** ini dapat ditautkan dengan node sesudah **curent**.<br> \n",
    "Ilustrasi ketika data yang akan dihapus berada di tengah *linked list* ditunjukkan pada Gambar 8. <br>\n",
    "\n",
    "![title](images/remove1.png)<br>\n",
    "**Gambar 8. Penghapusan Node pada Linked List** <br>\n",
    "\n",
    "Jika data yang dihapus berada di node awal dari linked list (yang ditunjukkan dengan nilai previous masih *None*, maka yang dilakukan pointer *head* langsung menunjuk pada node setelah node yang akan dihapus tersebut, seperti Gambar 9 berikut:<br>\n",
    "![title](images/remove2.png)<br>\n",
    "**Gambar 9. Penghapusan Node awal pada Linked List** <br>"
   ]
  },
  {
   "cell_type": "markdown",
   "metadata": {
    "collapsed": false
   },
   "source": [
    "## Code\n",
    "\n",
    "Berikut adalah penambahan method ```remove()``` untuk menghapus node yang diinginkan pada linked list"
   ]
  },
  {
   "cell_type": "code",
   "execution_count": 21,
   "metadata": {
    "collapsed": false
   },
   "outputs": [],
   "source": [
    "class LinkedList:\n",
    "    def __init__(self):\n",
    "        self.head = None\n",
    "    def isEmpty(self):\n",
    "        return self.head==None\n",
    "    def add(self, item):\n",
    "        temp = Node(item)\n",
    "        temp.setNext(self.head)\n",
    "        self.head = temp\n",
    "    def size(self):\n",
    "        curent = self.head\n",
    "        count = 0\n",
    "        while curent != None:\n",
    "            count = count + 1\n",
    "            curent = curent.getNext()\n",
    "        return count\n",
    "    def search(self,item):\n",
    "        curent = self.head\n",
    "        found = False\n",
    "        while curent != None and not found:\n",
    "            if curent.getData() == item:\n",
    "                found = True\n",
    "            else:\n",
    "                curent = curent.getNext()\n",
    "        return found\n",
    "    def display(self):\n",
    "        curent = self.head\n",
    "        while curent != None:\n",
    "            print(curent.getData())\n",
    "            curent = curent.getNext()\n",
    "    def remove(self, item):\n",
    "        curent = self.head\n",
    "        previous = None\n",
    "        found = False\n",
    "        while not found:\n",
    "            if curent.getData() == item:\n",
    "                found = True\n",
    "            else:\n",
    "                previous = curent\n",
    "                curent = curent.getNext()\n",
    "        if previous == None:\n",
    "            self.head = curent.getNext()\n",
    "        else:\n",
    "            previous.setNext(curent.getNext())\n",
    "            "
   ]
  },
  {
   "cell_type": "markdown",
   "metadata": {
    "collapsed": false
   },
   "source": [
    "Berikut adalah contoh penggunaan method ```remove()```"
   ]
  },
  {
   "cell_type": "code",
   "execution_count": 22,
   "metadata": {
    "collapsed": false
   },
   "outputs": [
    {
     "name": "stdout",
     "output_type": "stream",
     "text": [
      "97\n",
      "84\n",
      "70\n",
      "34\n",
      "45\n"
     ]
    }
   ],
   "source": [
    "mylist=LinkedList()\n",
    "mylist.add(45)\n",
    "mylist.add(34)\n",
    "mylist.add(70)\n",
    "mylist.add(84)\n",
    "mylist.add(97)\n",
    "mylist.display()"
   ]
  },
  {
   "cell_type": "code",
   "execution_count": 23,
   "metadata": {
    "collapsed": false
   },
   "outputs": [],
   "source": [
    "mylist.remove(34)"
   ]
  },
  {
   "cell_type": "code",
   "execution_count": 24,
   "metadata": {
    "collapsed": false
   },
   "outputs": [
    {
     "name": "stdout",
     "output_type": "stream",
     "text": [
      "97\n",
      "84\n",
      "70\n",
      "45\n"
     ]
    }
   ],
   "source": [
    "mylist.display()"
   ]
  },
  {
   "cell_type": "markdown",
   "metadata": {
    "collapsed": false
   },
   "source": [
    "## Latihan\n",
    "\n",
    "Tambahkan dua buah method sebagai berikut:\n",
    "- insertPrevious, yaitu menambahkan node baru sebelum node tertentu\n",
    "- insertNext, yaitu menambahkan node baru setelah node tertentu"
   ]
  },
  {
   "cell_type": "markdown",
   "metadata": {
    "collapsed": false
   },
   "source": [
    "[**Kembali ke Menu Awal**](#Linked-List)"
   ]
  },
  {
   "cell_type": "markdown",
   "metadata": {
    "collapsed": false
   },
   "source": [
    "## Ordered List"
   ]
  },
  {
   "cell_type": "markdown",
   "metadata": {
    "collapsed": false
   },
   "source": [
    "Proses pencarian pada linked list sebelumnya dilakukan dengan cara mencari node satu persatu sampai node terakhir.  Proses pencarian ini akan menjadi lebih cepat jika data sudah dalam keadaan terurut, sehingga pencarian dapat dihentikan ketika ditemukan node dengan data lebih rendah atau lebih tinggi.  Class Ordered List akan memudahkan pencarian suatu node, karena data yang terdapat pada class ini sudah dalam keadaan terurut.\n",
    "\n",
    "Method yang terdapat pada ordered list, sama halnya dengan class linkedlist, hanya saja terdapat perbedaan pada method untuk **add data** (karena node yang terbentuk harus dalam keadaan terurut), dan method search data.\n",
    "\n",
    "## Code\n",
    "\n",
    "Berikut method untuk class ordered list"
   ]
  },
  {
   "cell_type": "code",
   "execution_count": 6,
   "metadata": {
    "collapsed": false
   },
   "outputs": [],
   "source": [
    "class OrderedLinkedList:\n",
    "    def __init__(self):\n",
    "        self.head = None\n",
    "    def isEmpty(self):\n",
    "        return self.head==None\n",
    "    \n",
    "    def size(self):\n",
    "        curent = self.head\n",
    "        count = 0\n",
    "        while curent != None:\n",
    "            count = count + 1\n",
    "            curent = curent.getNext()\n",
    "        return count\n",
    "    \n",
    "    def display(self):\n",
    "        curent = self.head\n",
    "        while curent != None:\n",
    "            print(curent.getData())\n",
    "            curent = curent.getNext()\n",
    "    def remove(self, item):\n",
    "        curent = self.head\n",
    "        previous = None\n",
    "        found = False\n",
    "        while not found:\n",
    "            if curent.getData() == item:\n",
    "                found = True\n",
    "            else:\n",
    "                previous = curent\n",
    "                curent = curent.getNext()\n",
    "        if previous == None:\n",
    "            self.head = curent.getNext()\n",
    "        else:\n",
    "            previous.setNext(curent.getNext())       \n",
    "    def search(self,item):\n",
    "        curent = self.head\n",
    "        found = False\n",
    "        stop=False\n",
    "        while curent != None and not found and not stop:\n",
    "            if curent.getData() == item:\n",
    "                found = True\n",
    "            else:\n",
    "                if curent.getData() > item:\n",
    "                    stop = True\n",
    "                else:\n",
    "                    curent = curent.getNext()\n",
    "        return found\n",
    "    def add(self, item):\n",
    "        curent=self.head\n",
    "        previous = None\n",
    "        stop = False\n",
    "        while curent != None and not stop:\n",
    "            if curent.getData() == item:\n",
    "                stop = True\n",
    "            else:\n",
    "                previous = curent\n",
    "                curent = curent.getNext()\n",
    "        \n",
    "        temp = Node(item)\n",
    "        if previous == None:\n",
    "            temp.setNext(self.head)\n",
    "            self.head = temp\n",
    "        else: # ditautkan antara previous dengan curent\n",
    "            temp.setNext(curent)\n",
    "            previous.setNext(temp)\n"
   ]
  },
  {
   "cell_type": "markdown",
   "metadata": {
    "collapsed": false
   },
   "source": [
    "Berikut adalah contoh penggunaan class ordered Linked List"
   ]
  },
  {
   "cell_type": "code",
   "execution_count": 7,
   "metadata": {
    "collapsed": false
   },
   "outputs": [],
   "source": [
    "myList=OrderedLinkedList()"
   ]
  },
  {
   "cell_type": "code",
   "execution_count": 8,
   "metadata": {
    "collapsed": false
   },
   "outputs": [],
   "source": [
    "myList.add(9)"
   ]
  },
  {
   "cell_type": "code",
   "execution_count": 9,
   "metadata": {
    "collapsed": false
   },
   "outputs": [],
   "source": [
    "myList.add(14)"
   ]
  },
  {
   "cell_type": "code",
   "execution_count": 11,
   "metadata": {
    "collapsed": false,
    "tags": []
   },
   "outputs": [
    {
     "output_type": "stream",
     "name": "stdout",
     "text": "9\n14\n"
    }
   ],
   "source": [
    "myList.display()"
   ]
  },
  {
   "cell_type": "code",
   "execution_count": 12,
   "metadata": {
    "collapsed": false,
    "tags": []
   },
   "outputs": [
    {
     "output_type": "stream",
     "name": "stdout",
     "text": "9\n14\n100\n"
    }
   ],
   "source": [
    "myList.add(100)\n",
    "myList.display()"
   ]
  },
  {
   "cell_type": "markdown",
   "metadata": {
    "collapsed": false
   },
   "source": [
    "[**Kembali ke Menu Awal**](#Linked-List)"
   ]
  }
 ],
 "metadata": {
  "kernelspec": {
   "display_name": "Python 3.7.3 32-bit",
   "language": "python",
   "metadata": {
    "cocalc": {
     "description": "Python 3 programming language",
     "priority": 100,
     "url": "https://www.python.org/"
    }
   },
   "name": "python37332bit891ed9498f1e46d8943d8a133074ebe5"
  },
  "language_info": {
   "codemirror_mode": {
    "name": "ipython",
    "version": 3
   },
   "file_extension": ".py",
   "mimetype": "text/x-python",
   "name": "python",
   "nbconvert_exporter": "python",
   "pygments_lexer": "ipython3",
   "version": "3.7.3-final"
  }
 },
 "nbformat": 4,
 "nbformat_minor": 4
}