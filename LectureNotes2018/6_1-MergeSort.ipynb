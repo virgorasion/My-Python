{
 "cells": [
  {
   "cell_type": "markdown",
   "metadata": {
    "collapsed": false
   },
   "source": [
    "# <font color=blue>Pengurutan/Sorting-2</font>\n",
    "\n",
    "\n",
    "Merge Sort\n",
    "***"
   ]
  },
  {
   "cell_type": "markdown",
   "metadata": {
    "collapsed": false
   },
   "source": [
    "Permasalahan *sorting* akan lebih mudah dilaksanakan jika hanya terdapat satu elemen saja yang akan diurutkan.  \n",
    "Jika hanya terdapat satu elemen dalam sebuah *list* data, maka data tersebut otomatis sudah dalam keadaan terurut. <br>\n",
    "\n",
    "Merge Sort merupakan algoritma pengurutan dengan konsep rekursif, yang terdiri dari dua tahapan utama, yaitu\n",
    "1. [*Splitting* atau proses *divide*](#Divide)\n",
    "2. [*Merging*](#Merge)\n",
    "\n",
    "\n",
    "\n"
   ]
  },
  {
   "cell_type": "markdown",
   "metadata": {
    "collapsed": false
   },
   "source": [
    "## Divide\n",
    "\n",
    "Proses *Splitting* atau *Divide* adalah proses yang membagi *list* data menjadi dua buah bagian.  Proses *splitting* data *list* ini dilakukan secara terus menerus, sampai hanya tersisa satu elemen saja didalam *list*.  **Top-Down Process** <br>\n",
    "Contoh proses ini dapat dilihat pada Gambar 1 berikut : <br>\n",
    "\n",
    "![title](images/mergeSplit.png)<br>\n",
    "**Gambar 1. Proses Divide pada Merge Sort** <br>\n",
    "\n",
    "Pada Gambar 1 tersebut ditunjukkan bahwa data yang terdiri dari sembilan elemen, yaitu [38, 12, 65, 22, 78, 25, 83, 21, 90].  Pada proses *divide* ini, data dibagi menjadi dua bagian kiri (warna biru) dan kanan (warna hijau), sehingga data bagian kiri terdiri dari empat elemen, yaitu [38, 12, 65, 22], sedangkan bagian kanan menjadi [78, 25, 83, 21, 90].  Proses ini dilakukan terus menerus, sehingga terdapat data yang hanya memiliki satu elemen saja, yaitu [38], [12], [65], [22], [78], [25], [83], [21], dan [90]."
   ]
  },
  {
   "cell_type": "markdown",
   "metadata": {
    "collapsed": false
   },
   "source": [
    "Berikut algoritma untuk membagi data menjadi dua bagian, kiri dan kanan.\n",
    "\n",
    "```\n",
    "mid = len(data) // 2 \n",
    "leftData = data[:mid] \n",
    "rightData = data[mid:]\n",
    "```"
   ]
  },
  {
   "cell_type": "markdown",
   "metadata": {
    "collapsed": false
   },
   "source": [
    "[**Kembali ke Menu Awal**](#Pengurutan/Sorting-2)"
   ]
  },
  {
   "cell_type": "markdown",
   "metadata": {
    "collapsed": false
   },
   "source": [
    "# Merge"
   ]
  },
  {
   "cell_type": "markdown",
   "metadata": {
    "collapsed": false
   },
   "source": [
    "Proses Merge ini menggabungkan data-data yang sudah terbagi pada Tahap pertama (divide/split).  Proses *merge* ini juga melibatkan proses membandingkan data antara *list* yang akan digabung.  Sehingga, setelah proses *merge*, data pada *list* akan terurut.  Proses ini akan dilakukan terus menerus, sehingga tidak ada lagi *list* yang akan digabungkan. Tahapan *merge* ini adalah  **Bottom - up process** <br>\n",
    "Contoh proses merge dapat dilihat pada Gambar 2 berikut <br>\n",
    "\n",
    "\n",
    "![title](images/mergeMerge.png) <br>\n",
    "**Gambar 2. Proses Merge pada Merge Sort**\n",
    "\n",
    "Pada Gambar tersebut ditunjukka, pada proses **merging**, data yang terdapat pada *list* yang akan digabung, dibandingkan terlebih dahulu, jika data lebih kecil, maka data tersebut akan diletakkan pada indeks yang lebih rendah, sehingga setelah proses *merging* selesai, data sudah dalam keadaan terurut."
   ]
  },
  {
   "cell_type": "markdown",
   "metadata": {
    "collapsed": false
   },
   "source": [
    "## Code \n",
    "\n",
    "Berikut adalah code untuk algoritma pengurutan Merge Sort, dan contoh pemanggilan fungsi *merge sort* ini."
   ]
  },
  {
   "cell_type": "code",
   "execution_count": 3,
   "metadata": {
    "collapsed": false
   },
   "outputs": [
   ],
   "source": [
    "def merge_sort(a_list):\n",
    "    print(\"Splitting \", a_list)\n",
    "    if len(a_list) > 1:\n",
    "        mid = len(a_list) // 2\n",
    "        left_half = a_list[:mid]\n",
    "        right_half = a_list[mid:]\n",
    "        merge_sort(left_half)\n",
    "        merge_sort(right_half)\n",
    "        i = 0 #indeks left half\n",
    "        j = 0 #indeks right half\n",
    "        k = 0 # indeks hasil merging/sorting\n",
    "        while i < len(left_half) and j < len(right_half):\n",
    "            if left_half[i] < right_half[j]:\n",
    "                a_list[k] = left_half[i]\n",
    "                i = i + 1\n",
    "            else:\n",
    "                a_list[k] = right_half[j]\n",
    "                j = j + 1\n",
    "            k = k + 1\n",
    "        while i < len(left_half):\n",
    "            a_list[k] = left_half[i]\n",
    "            i = i + 1\n",
    "            k = k + 1\n",
    "        while j < len(right_half):\n",
    "            a_list[k] = right_half[j]\n",
    "            j = j + 1\n",
    "            k = k + 1\n",
    "    print(\"Merging \", a_list)"
   ]
  },
  {
   "cell_type": "code",
   "execution_count": 5,
   "metadata": {
    "collapsed": false,
    "scrolled": true
   },
   "outputs": [
    {
     "name": "stdout",
     "output_type": "stream",
     "text": [
      "Splitting  [38, 12, 65, 22, 78, 25, 83, 21, 90]\n",
      "Splitting  [38, 12, 65, 22]\n",
      "Splitting  [38, 12]\n",
      "Splitting  [38]\n",
      "Merging  [38]\n",
      "Splitting  [12]\n",
      "Merging  [12]\n",
      "Merging  [12, 38]\n",
      "Splitting  [65, 22]\n",
      "Splitting  [65]\n",
      "Merging  [65]\n",
      "Splitting  [22]\n",
      "Merging  [22]\n",
      "Merging  [22, 65]\n",
      "Merging  [12, 22, 38, 65]\n",
      "Splitting  [78, 25, 83, 21, 90]\n",
      "Splitting  [78, 25]\n",
      "Splitting  [78]\n",
      "Merging  [78]\n",
      "Splitting  [25]\n",
      "Merging  [25]\n",
      "Merging  [25, 78]\n",
      "Splitting  [83, 21, 90]\n",
      "Splitting  [83]\n",
      "Merging  [83]\n",
      "Splitting  [21, 90]\n",
      "Splitting  [21]\n",
      "Merging  [21]\n",
      "Splitting  [90]\n",
      "Merging  [90]\n",
      "Merging  [21, 90]\n",
      "Merging  [21, 83, 90]\n",
      "Merging  [21, 25, 78, 83, 90]\n",
      "Merging  [12, 21, 22, 25, 38, 65, 78, 83, 90]\n"
     ]
    }
   ],
   "source": [
    "a = [38,12,65,22,78,25,83,21,90]\n",
    "merge_sort(a)"
   ]
  },
  {
   "cell_type": "markdown",
   "metadata": {
    "collapsed": false
   },
   "source": [
    "[**Kembali ke Menu Awal**](#Pengurutan/Sorting-2)"
   ]
  }
 ],
 "metadata": {
  "kernelspec": {
   "display_name": "Python 3 (Ubuntu Linux)",
   "language": "python",
   "name": "python3"
  },
  "language_info": {
   "codemirror_mode": {
    "name": "ipython",
    "version": 3
   },
   "file_extension": ".py",
   "mimetype": "text/x-python",
   "name": "python",
   "nbconvert_exporter": "python",
   "pygments_lexer": "ipython3",
   "version": "3.6.7"
  }
 },
 "nbformat": 4,
 "nbformat_minor": 0
}