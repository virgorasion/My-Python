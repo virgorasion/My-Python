{
 "cells": [
  {
   "cell_type": "markdown",
   "metadata": {
    "collapsed": false
   },
   "source": [
    "# <font color=blue>Pengurutan/Sorting</font>\n",
    "\n",
    "\n",
    "Selection Sort\n",
    "***"
   ]
  },
  {
   "cell_type": "markdown",
   "metadata": {
    "collapsed": false
   },
   "source": [
    "Algoritma *sorting* yang kedua adalah *Selection Sort*. Penjelasan algoritma ini dibagi menjadi dua bagian yaitu :\n",
    "\n",
    "1. [Algoritma Selection Sort](#Algoritma-Selection-Sort)\n",
    "2. [Code](#Code)"
   ]
  },
  {
   "cell_type": "markdown",
   "metadata": {
    "collapsed": true
   },
   "source": [
    "## Algoritma Selection Sort\n",
    "\n",
    "\n",
    "Algoritma **selection sort** memiliki waktu komputasi yang lebih cepat dibandingkan dengan algoritma **bubble sort**.  Hal ini dikarenakan terjadi **reduksi waktu pada saat proses pertukaran data**.  Jika algoritma bubble sort, pada setiap iterasi,setiap dua data yang berdekatan akan dibandingkan, dan akan dilakukan pertukaran data jika syarat memenuhi. <br>\n",
    "Maka pada **algoritma selection sort tidak akan melakukan dua proses ini (perbandingan dan pertukaran) pada satu waktu**, akan tetapi, pada algoritma selection sort, akan dicari data yang memenuhi syarat terlebih dahulu (perbandingan data),  kemudian data yang terpilih ini ini akan diletakkan pada indeks data yang tepat.  Oleh karena itu  algoritma ini dinamakan **selection** (pemilihan data).\n",
    "\n",
    "\n",
    "\n",
    "Berikut tahapan algoritma selection sort (ascending order):\n",
    "1.\tAlgoritma ini dimulai dari indeks awal sampai dengan indeks akhir data\n",
    "2.\tCari data dengan nilai paling minimal (dari indeks awal sampai dengan indeks akhir) melalui proses perbandingan\n",
    "3.\tLetakkan data minimal ini di indeks awal\n",
    "4.\tUlangi lagi proses pencarian data paling minimal (dari indeks awal+1 sampai dengan indeks akhir, karena indeks awal sudah terisi data yang tepat).\n",
    "5.\tLetakkan data ini pada indeks awal+1\n",
    "6.\tUlangi lagi proses pencarian data paling minimal (dari indeks awal+2 sampai dengan akhir) dan letakkan data ini pada indeks awal+2, dst.\n",
    "\n",
    "Berikut ilustrasi algoritma **selection sort** ini. <br>\n",
    "Misalkan terdapat suatu data, yaitu [7, 2.5, 5, 10, 1].  Maka proses pengurutan secara ascending (dari nilai kecil sampai dengna nilai besar) dengan menggunakan algoritma Selection Sort adalah sebagai berikut :\n",
    "\n",
    "**Iterasi Pertama**.  Pada iterasi pertama ini, data yang memiliki nilai paling kecil, akan menempati posisi dengan indeks paling awal.  Untuk mencari data dengan nilai paling kecil ini, dilakukan perbandingan sebagai berikut:\n",
    "1. antara indeks ke-0 dengan ke-1, sehingga nilai terkecil saat ini adalah 2.5\n",
    "2. antara indeks ke-1 dengan ke-2, nilai terkecil tetaplah 2.5\n",
    "3. antara indeks ke-2 dengan ke-3, nilai terkecil tetaplah 2.5\n",
    "2. antara indeks ke-3 dengan ke-4, didapatkan nilai terkecil adalah 1.\n",
    "Pada saat pencarian nilai terkecil ini tidak dilakukan proses pertukaran posisi (berbeda dengan a;goritma bubble sort).  Setelah didapatkan nilai terkecil, maka nilai 1 ini akan ditukar dengan data pada posisi dengan indeks ke-0, sehingga setelah iterasi pertama berakhir, data 1, akan menempati indeks ke-0.  Ilustrasi iterasi pertama ini dapat dilihat pada Gambar 1. <br>\n",
    "\n",
    "\n",
    "![title](images/selectionSort_iterasi1.png) <br>\n",
    "**Gambar 1. Iterasi Pertama Algoritma Selection Sort**<br>\n",
    "\n",
    "**Iterasi Kedua**.  Pada iterasi kedua ini, data yang memiliki nilai paling kecil kedua, akan menempati posisi dengan indeks setelah data paling kecil, yaitu indeks ke-1.  Untuk mencari data dengan nilai paling kecil kedua ini, dilakukan perbandingan, hanya saja data pada indeks ke-0 tidak perlu dibandingkan lagi, karena data pada indeks ke-0 sudah berisi data yang tepat.  Perbandingan yang dilakukan untuk mencari nilai minimal kedua adalah sebagai berikut:\n",
    "1. antara indeks ke-1 dengan ke-2, nilai terkecil tetaplah 2.5\n",
    "2. antara indeks ke-2 dengan ke-3, nilai terkecil tetaplah 2.5\n",
    "3. antara indeks ke-3 dengan ke-4, didapatkan nilai terkecil adalah 2.5\n",
    "Setelah didapatkan nilai minimal, yaitu 2.5, maka nilai ini akan ditukar dengan data pada posisi dengan indeks ke-1, sehingga setelah iterasi kedua berakhir, data 2.5, akan menempati indeks ke-1.  Ilustrasi iterasi kedua ini dapat dilihat pada Gambar 2. <br>\n",
    "\n",
    "\n",
    "![title](images/selectionSort_iterasi2.png) <br>\n",
    "**Gambar 2. Iterasi Kedua Algoritma Selection Sort**<br>\n",
    "\n",
    "**Iterasi Ketiga**.  Iterasi ketiga bertujuan untuk menempatkan data minimal yang ketiga pada posisi yang tepat, yaitu indeks ke-2.  Untuk mencari data minimal ketiga ini, dilakukan perbandingan, hanya saja data pada indeks ke-0 dan ke-1 tidak perlu dibandingkan lagi, karena data pada indeks ke-0 dan ke-1, sudah berisi data yang tepat.<br>\n",
    "Perbandingan yang dilakukan untuk mencari nilai minimal kedua adalah sebagai berikut:\n",
    "1. antara indeks ke-2 dengan ke-3, nilai terkecil adalah 5\n",
    "2. antara indeks ke-3 dengan ke-4, didapatkan nilai terkecil adalah 5\n",
    "Setelah didapatkan nilai minimal, yaitu 5, maka nilai ini akan ditukar dengan data pada posisi dengan indeks ke-2, sehingga setelah iterasi kedua berakhir, data 5, akan menempati indeks ke-2.  Ilustrasi iterasi kedua ini dapat dilihat pada Gambar 3. <br>\n",
    "\n",
    "\n",
    "![title](images/selectionSort_iterasi3.png) <br>\n",
    "**Gambar 3. Iterasi Ketiga Algoritma Selection Sort**<br>\n",
    "\n",
    "Proses ini dilakukan secara terus menerus sampai proses pengecekan dilakukan pada data terakhir, sehingga akhir dari algoritma selection sort ini, data sudah dalam keadaan terurut, seperti yang terlihat pada Gambar 4. <br>\n",
    "![title](images/bubbleSortTerakhir.png) <br>\n",
    "**Gambar 3. Iterasi Terakhir Algoritma Selection Sort**<br>\n"
   ]
  },
  {
   "cell_type": "markdown",
   "metadata": {
    "collapsed": false
   },
   "source": [
    "[**Kembali ke Menu Awal**](#Pengurutan/Sorting)"
   ]
  },
  {
   "cell_type": "markdown",
   "metadata": {
    "collapsed": false
   },
   "source": [
    "## Code\n",
    "Berikut adalah code untuk algoritma selection sort, yang terdiri dari dua buah iterasi.  Iterasi pertama digunakan untuk menempatkan data atau menukar data, sehingga data dengan nilai minimal, akan menempati indeks-indeks awal.  Sedangkan iterasi kedua (iterasi dalam), digunakan untuk mencari nilai minimal."
   ]
  },
  {
   "cell_type": "code",
   "execution_count": 1,
   "metadata": {
    "collapsed": true
   },
   "outputs": [
   ],
   "source": [
    "def selectionSort(listData):\n",
    "    print('Algoritma Selection Sort konvensional')\n",
    "    print('Data Awal=',listData)\n",
    "    for outIter in range(len(listData)-1):       \n",
    "        minIndex=outIter\n",
    "        for i in range(outIter+1,len(listData)):\n",
    "            if listData[i]<listData[minIndex]:\n",
    "                minIndex=i\n",
    "        \n",
    "        temp=listData[outIter]\n",
    "        listData[outIter]=listData[minIndex]\n",
    "        listData[minIndex]=temp\n",
    "        print('Iterasi ke-',outIter+1,':',listData)\n",
    "    print('Data Urut=',listData)"
   ]
  },
  {
   "cell_type": "code",
   "execution_count": 2,
   "metadata": {
    "collapsed": false
   },
   "outputs": [
    {
     "name": "stdout",
     "output_type": "stream",
     "text": [
      "Algoritma Selection Sort konvensional\n",
      "Data Awal= [10, 2, 5, 8, 1, 20, 7, 12, 4]\n",
      "Iterasi ke- 1 : [1, 2, 5, 8, 10, 20, 7, 12, 4]\n",
      "Iterasi ke- 2 : [1, 2, 5, 8, 10, 20, 7, 12, 4]\n",
      "Iterasi ke- 3 : [1, 2, 4, 8, 10, 20, 7, 12, 5]\n",
      "Iterasi ke- 4 : [1, 2, 4, 5, 10, 20, 7, 12, 8]\n",
      "Iterasi ke- 5 : [1, 2, 4, 5, 7, 20, 10, 12, 8]\n",
      "Iterasi ke- 6 : [1, 2, 4, 5, 7, 8, 10, 12, 20]\n",
      "Iterasi ke- 7 : [1, 2, 4, 5, 7, 8, 10, 12, 20]\n",
      "Iterasi ke- 8 : [1, 2, 4, 5, 7, 8, 10, 12, 20]\n",
      "Data Urut= [1, 2, 4, 5, 7, 8, 10, 12, 20]\n"
     ]
    }
   ],
   "source": [
    "a=[10,2,5,8,1,20,7,12,4]\n",
    "selectionSort(a)"
   ]
  },
  {
   "cell_type": "markdown",
   "metadata": {
    "collapsed": false
   },
   "source": [
    "## Latihan - 2\n",
    "\n",
    "1. Buat data secara random dengan jumlah 500 data, lakukan sorting dengan algoritma bubble sort dan selection sort, bandingkan waktu komputasi antara dua buah algoritma tersebut\n",
    "2. Modifikasi code selection sort tersebut, agar iterasi dalam melakukan dua buah pencarian, yaitu nilai minimal dan maksimal, jika sudah ditemukan, maka letakkan nilai minimal pada indeks-indeks awal, dan nilai maksimal pada indeks-indeks akhir"
   ]
  },
  {
   "cell_type": "markdown",
   "metadata": {
    "collapsed": false
   },
   "source": [
    "[**Kembali ke Menu Awal**](#Pengurutan/Sorting)"
   ]
  }
 ],
 "metadata": {
  "kernelspec": {
   "display_name": "Python 3 (Ubuntu Linux)",
   "language": "python",
   "name": "python3"
  },
  "language_info": {
   "codemirror_mode": {
    "name": "ipython",
    "version": 3
   },
   "file_extension": ".py",
   "mimetype": "text/x-python",
   "name": "python",
   "nbconvert_exporter": "python",
   "pygments_lexer": "ipython3",
   "version": "3.6.7"
  }
 },
 "nbformat": 4,
 "nbformat_minor": 0
}