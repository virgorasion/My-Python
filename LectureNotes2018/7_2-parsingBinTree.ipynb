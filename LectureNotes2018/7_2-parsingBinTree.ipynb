{
 "cells": [
  {
   "cell_type": "markdown",
   "metadata": {
    "collapsed": false
   },
   "source": [
    "# <font color=blue>Parsing Binary Tree</font>\n",
    "\n",
    "\n",
    "Aplikasi Binary Tree\n",
    "***"
   ]
  },
  {
   "cell_type": "markdown",
   "metadata": {
    "collapsed": false
   },
   "source": [
    "Binary tree dapat digunakan untuk beberapa aplikasi seperti penyelesaian persamaan matematika. Misalkan terdapat persamaan $((7+3)*(5-2))$.  Penyelesaian persamaan matematika tergantung pada *operator precedence* dan keberadaan kurung.  Jika terdapat tanda kurung buka maupun tutup, maka persamaan di dalam kurung tersebut haruslah diselesaikan pertama kali walapun level operator precedence lebih rendah dibandingkan operator yang berada di luar kurung.\n",
    "\n",
    "Penyelesaian persamaan matematika ini dapat juga diselesaikan dengan menggunakan bantuan dari **binary tree**, seperti yang terdapat pada Gambar 1 berikut: <br>\n",
    "\n",
    "![title](images/mathBinTreeNew1.png) <br>\n",
    "**Gambar 1. Binary Tree untuk Persamaan $((7+3)*(5-2))$**\n"
   ]
  },
  {
   "cell_type": "markdown",
   "metadata": {
    "collapsed": false
   },
   "source": [
    "Pada Gambar 1 tersebut dapat artikan bahwa penjumlahan antara $7$ dan $3$ haruslah dikerjakan terlebih dahulu sebelum operasi perkalian.  Begitu juga pengurangan $5$ dan $2$ harus dikerjakan terlebih dahulu sebelum dilakukan operasi perkalian.\n",
    "Left subtree dan right subtree dapat diganti dengan hasil penjumlahan maupun perkalian seperti Gambar 2. <br>\n",
    "\n",
    "![title](images/mathBinTreeNew2.png)<br>\n",
    "**Gambar 2. Penyelesaian tahap awal Persamaan Matematika $((7+3)*(5-2))$**"
   ]
  },
  {
   "cell_type": "markdown",
   "metadata": {
    "collapsed": false
   },
   "source": [
    "Terdapat dua tahapan untuk menyelesaikan Persamaan Matematikan tersebut, dengan menggunakan Binary Tree, yaitu :\n",
    "1. [Pembentukan Parse Tree](#Pembuatan-Parse-Tree-untuk-Ekspressi-Matematika)\n",
    "2. [Evaluasi Persamaan Matematika](#Evaluasi-Persamaan-Matematika)"
   ]
  },
  {
   "cell_type": "markdown",
   "metadata": {
    "collapsed": false
   },
   "source": [
    "## Pembuatan Parse Tree untuk Ekspressi Matematika"
   ]
  },
  {
   "cell_type": "markdown",
   "metadata": {
    "collapsed": false
   },
   "source": [
    "Persamaan Matematika harus dipecah menjadi list token agar dapat dibuat menjadi parse tree.  Token-token untuk persamaan Matematika tersebut antara lain:\n",
    "- Kurung buka,  kurung buka ini menandakan ekspressi baru yang akan dioperasi, oleh karena itu perlu dibuat subtree baru untuk menyelesaikan ekspressi baru ini\n",
    "- kurung tutup, kurung tutup ini menandakan akhir dari ekspressi matematika\n",
    "- operand, operand ini yang akan jadi *leaf node* dan *children* dari operator\n",
    "- operator, operator merupakan *parent* dan punya *left* maupun *right child*"
   ]
  },
  {
   "cell_type": "markdown",
   "metadata": {
    "collapsed": false
   },
   "source": [
    "Berikut algoritma untuk membuat parse tree ekspressi matematika:\n",
    "1. Jika *current token* adalah kurung buka, '(' , tambahkan node baru sebagai *left child* dari *current Node* dan jadikan node baru ini sebagai *current node*\n",
    "2. jika *current token* adalah operator, set nilai key dari *current node* dengan operator tersebut.  Tambahkan node baru sebagai right child dari current node, jadikan right child ini sebagai *current node*\n",
    "3. jika *current token* adalah operand, maka set nilai key dari *current node* dengan operand tersebut dan jadikan parent dari node tersebut menjadi *current node*\n",
    "4. jika *current token* adalah kurung tutup, ')', maka kembali ke parent dari current node"
   ]
  },
  {
   "cell_type": "markdown",
   "metadata": {
    "collapsed": false
   },
   "source": [
    "Berikut contoh pembuatan parse tree untuk ekpressi matematika $(3+(4*5))$.  Tahapan pembuatan parse tree dapat dilihat pada Gambar 3 berikut: <br>\n",
    "![title](images/parseTree1.png)<br>\n",
    "**Gambar 3. Tahapan pembuatan binary tree untuk Persamaan $(3+(4*5))$** <br>\n"
   ]
  },
  {
   "cell_type": "markdown",
   "metadata": {
    "collapsed": false
   },
   "source": [
    "Binary tree class sebelumnya menyediakan method-method untuk menambah node baru baik sebelah kiri maupun kanan, dan menuju left child maupun right child.  Method-method ini sangat diperlukan untuk pembuatan parse tree.  Akan tetapi berdasarkan algoritma pembuatan parse tree diatas, **terdapat perintah untuk kembali menuju parent dari current node**.  Hal ini tidak dapat dilakukan oleh method yang terdapat pada binary tree class sebelumnya.  Diperlukan **struktur data stack**, untuk menyimpan parent dari current node.  Jika pointer ingin menuju left child dari current node, maka push current node tersebut ke dalam stack, dan ketika ingin kembali ke parent dari current node maka pop node yang terdapat pada stack."
   ]
  },
  {
   "cell_type": "markdown",
   "metadata": {
    "collapsed": false
   },
   "source": [
    "## Code\n",
    "\n",
    "Berikut code untuk parsing atau pembuatan binary tree untuk persamaan matematika."
   ]
  },
  {
   "cell_type": "code",
   "execution_count": 7,
   "metadata": {
    "collapsed": false
   },
   "outputs": [
   ],
   "source": [
    "def stack():\n",
    "    s=[]\n",
    "    return (s)\n",
    "\n",
    "def push(s,data):\n",
    "    s.append(data)\n",
    "\n",
    "def pop(s):\n",
    "    data=s.pop()\n",
    "    return(data)\n",
    "\n",
    "def peek(s):\n",
    "    return(s[len(s)-1])\n",
    "\n",
    "def isEmpty(s):\n",
    "    return (s==[])\n",
    "\n",
    "def size(s):\n",
    "    return(len(s))"
   ]
  },
  {
   "cell_type": "code",
   "execution_count": 8,
   "metadata": {
    "collapsed": false
   },
   "outputs": [
   ],
   "source": [
    "class BinaryTree:\n",
    "    def __init__(self, root):\n",
    "        self.key = root\n",
    "        self.leftChild = None\n",
    "        self.rightChild = None\n",
    "    def insertLeft(self, new_node):\n",
    "        if self.leftChild == None:           \n",
    "            self.leftChild = BinaryTree(new_node)         \n",
    "        else:\n",
    "            t = BinaryTree(new_node)\n",
    "            t.leftChild = self.leftChild\n",
    "            self.leftChild = t\n",
    "           \n",
    "    def insertRight(self, new_node):\n",
    "        if self.rightChild == None:\n",
    "            self.rightChild = BinaryTree(new_node)            \n",
    "        else:\n",
    "            t = BinaryTree(new_node)\n",
    "            t.rightChild = self.rightChild\n",
    "            self.rightChild = t\n",
    "\n",
    "    def getRightChild(self):\n",
    "        return self.rightChild\n",
    "    def getLeftChild(self):\n",
    "        return self.leftChild\n",
    "    def setRootVal(self, obj):\n",
    "        self.key = obj\n",
    "    def getRootVal(self):\n",
    "        return self.key"
   ]
  },
  {
   "cell_type": "code",
   "execution_count": 9,
   "metadata": {
    "collapsed": false
   },
   "outputs": [
   ],
   "source": [
    "def buildParseTree(mathExp):\n",
    "    tokenList = mathExp.split()\n",
    "    parentStack = stack()\n",
    "    expTree = BinaryTree(' ' )\n",
    "    push(parentStack,expTree)\n",
    "    print(tokenList)\n",
    "    currentTree = expTree\n",
    "    for i in tokenList:\n",
    "        \n",
    "        if i == '(' :\n",
    "            print('if 1', i)\n",
    "            currentTree.insertLeft(' ' )\n",
    "            push(parentStack,currentTree)\n",
    "            currentTree = currentTree.getLeftChild()\n",
    "        elif i not in [ '+' , '-' , '*' , '/' , ')' ]:\n",
    "            print('if 2', i)\n",
    "            currentTree.setRootVal(int(i))\n",
    "            \n",
    "            parent = pop(parentStack)\n",
    "            currentTree = parent\n",
    "        elif i in [ '+' , '-' , '*' , '/' ]:\n",
    "            print('if 3', i)\n",
    "            currentTree.setRootVal(i)\n",
    "            currentTree.insertRight(' ' )\n",
    "            push(parentStack,currentTree)\n",
    "            currentTree = currentTree.getRightChild()\n",
    "        elif i == ')' :\n",
    "            \n",
    "            currentTree = pop(parentStack)\n",
    "        else:\n",
    "            raise ValueError\n",
    "    return expTree\n",
    "\n"
   ]
  },
  {
   "cell_type": "code",
   "execution_count": 10,
   "metadata": {
    "collapsed": false
   },
   "outputs": [
    {
     "name": "stdout",
     "output_type": "stream",
     "text": [
      "['(', '3', '+', '(', '4', '*', '5', ')', ')']\n",
      "if 1 (\n",
      "if 2 3\n",
      "if 3 +\n",
      "if 1 (\n",
      "if 2 4\n",
      "if 3 *\n",
      "if 2 5\n"
     ]
    }
   ],
   "source": [
    "pt = buildParseTree(' ( 3 + ( 4 * 5 ) ) ')"
   ]
  },
  {
   "cell_type": "code",
   "execution_count": 11,
   "metadata": {
    "collapsed": false
   },
   "outputs": [
    {
     "name": "stdout",
     "output_type": "stream",
     "text": [
      "+\n",
      "3\n"
     ]
    }
   ],
   "source": [
    "print(pt.getRootVal())\n",
    "tmp=pt.getLeftChild()\n",
    "print(tmp.getRootVal())"
   ]
  },
  {
   "cell_type": "code",
   "execution_count": 12,
   "metadata": {
    "collapsed": false,
    "scrolled": true
   },
   "outputs": [
    {
     "name": "stdout",
     "output_type": "stream",
     "text": [
      "Tree\n"
     ]
    }
   ],
   "source": [
    "if pt.getLeftChild():\n",
    "    print('Tree')"
   ]
  },
  {
   "cell_type": "markdown",
   "metadata": {
    "collapsed": false
   },
   "source": [
    "[**Kembali ke Menu Awal**](#Parsing-Binary-Tree)"
   ]
  },
  {
   "cell_type": "markdown",
   "metadata": {
    "collapsed": false
   },
   "source": [
    "## Evaluasi Persamaan Matematika\n",
    "\n",
    "Misalkan terdapat persamaan $( ( 2 + 5 ) * 3 )$, maka binary tree dari persamaan matematika tersebut ditunjukkan oleh Gambar 4 berikut. <br>\n",
    "\n",
    "![title](images/mathParseTree.png)<br>\n",
    "**Gambar 4. Binary Tree untuk Persamaan  $( ( 2 + 5 ) * 3 )$** <br>\n",
    "\n",
    "Dari gambar tersebut dapat disimpulkan bahwa, untuk menyelesaikan persamaan matematika $( ( 2 + 5 ) * 3 )$, maka node '2' dan node '5' harus diselesaikan terlebih dahulu dengan operasi '+', sehingga binary tree tersebut dapat diganti menjadi Gambar 5 berikut.<br>\n",
    "\n",
    "![title](images/mathParseTree2.png)<br>\n",
    "**Gambar 5. Penyelesaian tahap awal untuk Persamaan $( ( 2 + 5 ) * 3 )$** <br>\n",
    "\n",
    "Oleh karena itu, untuk menyelesaikan persamaan matematika dengan menggunakan binary tree, diperlukan penyelesaian terlebih dahulu secara rekursif subtree dari binary tree tersebut.  Untuk membuat fungsi rekursif, base case dari fungsi rekursif tersebut harus ditentukan terlebih dahulu. \n",
    "\n",
    "Base case untuk penyelesaian persamaan matematika dengan binary tree secara rekursif adalah pada saat berada di *leaf node*.  *leaf node* ini tidak memiliki *child* lagi sehingga, rekursif berhenti pada saat berada di posisi *leaf node*, dan informasi yang berada di leaf node ini adalah informasi operand.  Oleh karena itu nilai balik fungsi rekursif ketika berada di posisi *leaf node* adalah informasi node itu sendiri (**key**).\n",
    "\n",
    "Rekursif dilakukan dengan cara mengoperasikan left child dan right child dengan operator yang sesuai.  Hasil dari operasi ini kemudian digunakan sebagai nilai balik untuk operasi binary tree level diatasnya.\n",
    "\n",
    "Untuk mengoperasikan dengan operasi aritmatika +,-,x,/ digunakanlah modul **operator**.  Persamaan $x+y$ dapat diselesaikan dengan memberi syntax **operator.add(x,y)**.  \n",
    "\n",
    "## Code\n",
    "Berikut fungsi rekursif untuk mengevaluasi persamaan matematika dengan menggunakan binary tree."
   ]
  },
  {
   "cell_type": "code",
   "execution_count": 13,
   "metadata": {
    "collapsed": false
   },
   "outputs": [
   ],
   "source": [
    "import operator\n",
    "def evaluate(parse_tree):\n",
    "    opers = { '+' :operator.add, '-' :operator.sub, '*' :operator.mul,'/' :operator.truediv}\n",
    "    left = parse_tree.getLeftChild()\n",
    "    right = parse_tree.getRightChild()\n",
    "    if left and right:\n",
    "        fn = opers[parse_tree.key]\n",
    "        return fn(evaluate(left),evaluate(right))\n",
    "    else:\n",
    "        return parse_tree.key"
   ]
  },
  {
   "cell_type": "code",
   "execution_count": 14,
   "metadata": {
    "collapsed": false,
    "scrolled": true
   },
   "outputs": [
    {
     "data": {
      "text/plain": [
       "23"
      ]
     },
     "execution_count": 14,
     "metadata": {
     },
     "output_type": "execute_result"
    }
   ],
   "source": [
    "evaluate(pt)"
   ]
  },
  {
   "cell_type": "markdown",
   "metadata": {
    "collapsed": false
   },
   "source": [
    "[**Kembali ke Menu Awal**](#Parsing-Binary-Tree)"
   ]
  }
 ],
 "metadata": {
  "kernelspec": {
   "display_name": "Python 3 (Ubuntu Linux)",
   "language": "python",
   "name": "python3"
  },
  "language_info": {
   "codemirror_mode": {
    "name": "ipython",
    "version": 3
   },
   "file_extension": ".py",
   "mimetype": "text/x-python",
   "name": "python",
   "nbconvert_exporter": "python",
   "pygments_lexer": "ipython3",
   "version": "3.6.6"
  }
 },
 "nbformat": 4,
 "nbformat_minor": 0
}