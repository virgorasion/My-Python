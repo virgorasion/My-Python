{
 "cells": [
  {
   "cell_type": "markdown",
   "metadata": {
    "collapsed": false
   },
   "source": [
    "# <font color=blue>Graph</font>\n",
    "\n",
    "\n",
    "\n",
    "**Konsep Graph, jenis-jenis Graph**\n",
    "***"
   ]
  },
  {
   "cell_type": "markdown",
   "metadata": {
    "collapsed": false
   },
   "source": [
    "*Graph* adalah jaringan yang terdiri dari *node* (atau vertex, $V$) yang terhubung dengan *edge* (atau *arc*, $E$). *Graph* dapat didefinisikan sebagai sepasang set dari $G=(V,E)$, dimana $V$ adalah *vertex*/node/titik, dan $E$ adalah *edge/arc* atau set *node* pasangannya. <br>\n",
    "Sebagai contoh, set *node* $V = \\{a, b, c, d\\}$ dan set pasangannya $E = \\{\\{a, b\\}, \\{b, c\\}, \\{c, d\\}, \\{d, a\\}\\}$ . <br>\n",
    "Gambar berikut adalah ilustrasi dari *Graph*.<br>\n",
    "\n",
    "![graph](images/graph.jpg)\n",
    "\n",
    "**Gambar 1. Graph**\n",
    "\n",
    "Berikut akan dijelaskan mengenai :\n",
    "1. [Istilah dalam Graph](#Istilah-dalam-Graph)\n",
    "2. [Jenis-Jenis Graph](#Jenis-Graph)"
   ]
  },
  {
   "cell_type": "markdown",
   "metadata": {
    "collapsed": false
   },
   "source": [
    "## Istilah dalam Graph"
   ]
  },
  {
   "cell_type": "markdown",
   "metadata": {
    "collapsed": false
   },
   "source": [
    "Beberapa istilah yang terdapat dalam *graph*, antara lain:\n",
    "- **Vertex (V)** adalah bagian paling dasar dari grafik atau yang disebut juga sebagai *node*/titik\n",
    "- **Edge (E)** adalah bagian dari *graph* yang menghubungkan 2 *vertex*/*node*/titik\n",
    "- **Weight (W)** adalah sebuah nilai dalam *graph* atau yang menunjukan biaya yang dibutuhkan untuk berpindah dari satu titik ke titik yang lain. Misalnya sebuah peta diinterpestasikan dalam *graph*, maka jarak satu kota ke kota lain disebut *Weight*.\n",
    "- **Path** adalah serangkaian *vertex* yang berbeda-beda yang berdekatan dihubungkan oleh *edge* dan berturut-turut dari *vertex* satu ke *vertex* berikutnya. *Path* dari $a$ ke $c$ adalah urutan *vertex* $(a,b,c)$ yang terdiri dari beberapa pasang *Edge* $\\{(a,b), (b,c)\\}$ atau urutan *vertex* $(a,d,c)$ yang terdiri dari beberapa pasang *Edge* $\\{(a,d), (b,c)\\}$  untuk contoh *graph* pada Gambar 1.\n",
    "\n",
    "Gambar 2 berikut menunjukan beberapa istilah dalam *graph*.\n",
    "\n",
    "![graph](images/ilustrasiGraph.jpg)<br>\n",
    "**Gambar 2. Istilah dalam *Graph***\n"
   ]
  },
  {
   "cell_type": "markdown",
   "metadata": {
    "collapsed": false
   },
   "source": [
    "[**Kembali ke Menu Awal**](#Graph)"
   ]
  },
  {
   "cell_type": "markdown",
   "metadata": {
    "collapsed": false
   },
   "source": [
    "## Jenis Graph"
   ]
  },
  {
   "cell_type": "markdown",
   "metadata": {
    "collapsed": false
   },
   "source": [
    "Bentuk dari *graph* dibedakan menjadi beberapa jenis, antara lain: *Undirected Graph*, *Directed Graph*, *Weigthed Graph*, *Unweigthed Graph*, *Cyle Graph*, *Conected Graph*, *Unconeted Graph*, dan *Complete Graph*. "
   ]
  },
  {
   "cell_type": "markdown",
   "metadata": {
    "collapsed": false
   },
   "source": [
    "### Undirected Graph\n",
    "\n",
    "Sebuah *graph* yang ujung – ujung dari *edge* tidak memiliki arah (atau tidak memiliki mata panah), dimana setiap ujung dari *edge* berlaku dua arah. <br\\>\n",
    "\n",
    "Misalkan:<br>\n",
    "$\\{a,b\\}$ Arah bisa dari $a$ ke $b$, atau $b$ ke $a$ <br>\n",
    "$a-b$ terdiri dari $\\{a,b\\}$ atau $\\{b,a\\}$\n",
    "\n",
    "![graph](images/undirectedGraph.jpg)<br>\n",
    "**Gambar 3. *Undirected Graph***<br>\n",
    "Maka notasi *graph* dari Gambar 3 adalah<br>\n",
    "$G = \\{V, E\\}$ <br>\n",
    "$V = \\{a,b,c,d\\}$ <br>\n",
    "$E = \\{ \\{a,b\\},\\{a,d\\},\\{b,c\\}, \\{d,c\\}\\}$ <br>\n"
   ]
  },
  {
   "cell_type": "markdown",
   "metadata": {
    "collapsed": false
   },
   "source": [
    "### Directed Graph (Digraph)\n",
    "\n",
    "Sebuah *graph* yang ujung – ujung dari *edge* memiliki arah, dimana setiap ujung dari *edge* dalam *Digraph* memiliki anak panah yang mengarah ke *vertex* tertentu. <br>\n",
    "\n",
    "Misalkan<br>\n",
    "$\\{a,b\\}$ Arah  dari $a$ ke $b$ <br>\n",
    "$a→b$ terdiri dari $\\{a,b\\}$\n",
    "\n",
    "![graph](images/directedGraph.jpg) <br>\n",
    "**Gambar 4. *Directed Graph***<br>\n",
    "Maka notasi *graph* dari Gambar 4 adalah <br>\n",
    "$G = \\{V, E\\}$<br>\n",
    "$V = \\{a,b,c,d\\}$<br>\n",
    "$E = \\{ \\{a,b\\},\\{a,d\\},\\{b,c\\}, \\{d,c\\}\\}$<br>"
   ]
  },
  {
   "cell_type": "markdown",
   "metadata": {
    "collapsed": false
   },
   "source": [
    "### Weighted Graph dan Unweighted Graph\n",
    "\n",
    "*Weigthed Graph* Sebuah graph dimana setiap edge memiliki nilai. Nilai tersebut adalah representasi dari bobot/biaya/weight dari edge tersebut. Bobot ini boleh lebih dari satu, semisal jarak antar kota, jumlah kendaraan yang melintasi kota tersebut, dll.\n",
    "\n",
    "![graph](images/weightedGraph.jpg)<br>\n",
    "**Gambar 5. *Weighted Graph***\n",
    "\n",
    "Maka notasi graph dari Gambar 5 adalah <br>\n",
    "$G = \\{V, E\\}$ <br>\n",
    "$V = \\{a,b,c,d\\}$<br>\n",
    "$E = \\{ \\{a,b,4\\},\\{a,d,5\\},\\{b,c,3\\}, \\{d,c,6\\}\\}$<br>\n",
    "<br>\n",
    "\n",
    "Jumlah bobot dalam *weighted graph* adalah sejumlah nilai untuk semua *edge* dalam suatu *path*, seperti *path* dari $a$ ke $c$ maka jumlah bobotnya adalah 7.<br>\n",
    "Gambar 4 juga disebut *unweighted graph* maka jumlah bobotnya dihitung dari jumlahnya *edge*. Jika *path* dari a ke c maka bobotnya adalah 2."
   ]
  },
  {
   "cell_type": "markdown",
   "metadata": {
    "collapsed": false
   },
   "source": [
    "### Cycle Graph\n",
    "\n",
    "Sebuah *directed graph* dimana titik awal sama dengan titik tujuan. Atau sebuah *path* yang kembali kepada titik awal, misal path $(a,b,d,a)$<br>\n",
    "![graph](images/cycleGraph.jpg)<br>\n",
    "**Gambar 6.  *Cycle Graph***"
   ]
  },
  {
   "cell_type": "markdown",
   "metadata": {
    "collapsed": false
   },
   "source": [
    "### Connected Graph dan Disconnected Graph\n",
    "\n",
    "*Connected Graph* adalah sebuah *graph* dimana setiap *vertex* terhubung satu dengan lainnya, dalam *graph* tersebut tidak ada *vertex* yang tidak terhubung. Sedangkan *disconnected graph* jika salah satu *vertex* tidak terhubung dengan *vertex* lainnya, atau dapat dikatakan tidak ada jalur menuju *vertex* tersebut. <br>\n",
    "Gambar 7a adalah *Connected Graph* dan gambar 7b adalah *disconnected Graph*.<br>\n",
    "![graph](images/connectedGraph.jpg)<br>\n",
    "**Gambar 7.  (a)*Connected Graph*  (b)*Disconnected Graph***"
   ]
  },
  {
   "cell_type": "markdown",
   "metadata": {
    "collapsed": false
   },
   "source": [
    "### Complete Graph\n",
    "\n",
    "*Completed Graph* adalah sebuah *graph* dimana semua *vertex* terhubung dengan lainnya, tidak ada edge yang terputus. <br>\n",
    "Gambar 3 dan 4 adalah contoh *Complete Graph*\n",
    "\n",
    "<br>\n"
   ]
  },
  {
   "cell_type": "markdown",
   "metadata": {
    "collapsed": false
   },
   "source": [
    "[**Kembali ke Menu Awal**](#Graph)"
   ]
  },
  {
   "cell_type": "code",
   "execution_count": 0,
   "metadata": {
    "collapsed": false
   },
   "outputs": [
   ],
   "source": [
   ]
  }
 ],
 "metadata": {
  "kernelspec": {
   "display_name": "Python 3 (Ubuntu Linux)",
   "language": "python",
   "name": "python3"
  },
  "language_info": {
   "codemirror_mode": {
    "name": "ipython",
    "version": 3
   },
   "file_extension": ".py",
   "mimetype": "text/x-python",
   "name": "python",
   "nbconvert_exporter": "python",
   "pygments_lexer": "ipython3",
   "version": "3.6.7"
  }
 },
 "nbformat": 4,
 "nbformat_minor": 0
}