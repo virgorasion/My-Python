{
 "cells": [
  {
   "cell_type": "markdown",
   "metadata": {
    "collapsed": false
   },
   "source": [
    "#  <font color=blue>Representasi Graph</font>\n",
    "\n",
    "\n",
    "\n",
    "\n",
    "**Adjacency List, Adjacency Matrix**\n",
    "\n",
    "***"
   ]
  },
  {
   "cell_type": "markdown",
   "metadata": {
    "collapsed": false
   },
   "source": [
    "Terdapat dua cara untuk merepresentasikan suatu graph, yaitu : \n",
    "1. Adjacency List\n",
    "2. Adjacency Matrix\n",
    "\n",
    "Representasi *graph* dan dan implementasi masing-masing representasi tersebut, adalah sebagai berikut\n",
    "\n",
    "1. [Adjacency List](#Adjacency-List)\n",
    "    + [List](#Representasi-dengan-List)\n",
    "    + [Dictionary](#Representasi-dengan-Dictionary)\n",
    "    + [Linked List](#Representasi-dengan-Linked-List)\n",
    "2. [Adjacency Matrix](#Adjacency-Matrix)\n"
   ]
  },
  {
   "cell_type": "markdown",
   "metadata": {
    "collapsed": false
   },
   "source": [
    "## Adjacency List\n",
    "\n",
    "Representasi graph adjacency list di dalam python, dapat dilakukan dengan menggunakan dua cara :\n",
    "1. list atau dictionary\n",
    "2. linked list\n",
    "\n",
    "Indeks dari *list*/*dictionary*/*linked list* merepresentasikan sebuah *vertex* atau *node* asal, dan setiap elemen dalam *list*/*dictionary*/*linked list* tersebut merepresentasikan *vertex* lain yang terhubung dari *vertex* asal.<br>\n",
    "Dengan representasi *adjacency list* dapat memudahkan untuk menemukan semua tautan *vertex* yang terhubung secara langsung dengan *vertex* asal.\n"
   ]
  },
  {
   "cell_type": "markdown",
   "metadata": {
    "collapsed": false
   },
   "source": [
    "### Representasi dengan List\n",
    "\n",
    "Contoh *graph* ditunjukkan pada Gambar 1.<br>\n",
    "![graph](images/representasiList.jpg)<br>\n",
    "**Gambar 1. *Graph***\n",
    "<br><br>\n",
    "Untuk setiap *vertex* ($V$) akan menyimpan *list* yang berisi tetangga dari $V$. <br>\n",
    "$A:[b,d]$ artinya *vertex* $a$ mempunyai tetangga $b$ dan $d$.\n",
    "\n",
    "Setiap *vertex* pada Gambar 1 tersebut terkoneksi dengan beberapa *vertex*, sebagai berikut :<br>\n",
    "$a: [b, d]$<br>\n",
    "$b: [a, d]$<br>\n",
    "$c: [d]$<br>\n",
    "$d: [a, b, c]$<br>\n",
    "\n",
    "### Code\n",
    "berikut adalah implementasi representasi *graph* tersebut "
   ]
  },
  {
   "cell_type": "code",
   "execution_count": 1,
   "metadata": {
    "collapsed": false
   },
   "outputs": [
    {
     "name": "stdout",
     "output_type": "stream",
     "text": [
      "Semua tetangga dari vertex a:  ['b', 'd']\n",
      "Semua tetangga dari vertex d:  ['a', 'b', 'c']\n",
      "\n",
      "Menampilkan semua vertex dan tetangganya masingmasing\n",
      "a : ['b', 'd']\n",
      "b : ['a', 'd']\n",
      "c : ['d']\n",
      "d : ['a', 'b', 'c']\n"
     ]
    }
   ],
   "source": [
    "# list of lists\n",
    "adjLists = [ ['b','d'], ['a','d'], ['d'], ['a','b','c'] ]\n",
    "node= ['a','b','c','d']\n",
    "# testing\n",
    "print(\"Semua tetangga dari vertex a: \", adjLists[0])\n",
    "print(\"Semua tetangga dari vertex d: \", adjLists[3])\n",
    "print(\"\\nMenampilkan semua vertex dan tetangganya masingmasing\")\n",
    "n = len(adjLists)\n",
    "for n in range(0,n):\n",
    "    print(node[n], \":\", adjLists[n])"
   ]
  },
  {
   "cell_type": "markdown",
   "metadata": {
    "collapsed": false
   },
   "source": [
    "[**Kembali ke Menu Awal**](#Representasi-Graph)"
   ]
  },
  {
   "cell_type": "markdown",
   "metadata": {
    "collapsed": false
   },
   "source": [
    "### Representasi dengan Dictionary\n",
    "\n",
    "Alternatif lain untuk mengimplementasikan *adjacency list* menggunakan *dictionary*, yang terdiri dari pasangan $(key, record) = (node, adjList)$.\n",
    "\n",
    "### Code\n",
    "Berikut implementasi *adjacency list* dengan *dictionary*"
   ]
  },
  {
   "cell_type": "code",
   "execution_count": 1,
   "metadata": {
    "collapsed": false,
    "scrolled": true
   },
   "outputs": [
    {
     "name": "stdout",
     "output_type": "stream",
     "text": [
      "Semua tetangga dari vertex indeks ke a:  ['b', 'd']\n",
      "Semua tetangga dari vertex indeks ke d:  ['a', 'b', 'c']\n",
      "\n",
      "Menampilkan semua vertex dan tetangganya masing-masing\n",
      "a : ['b', 'd']\n",
      "b : ['a', 'd']\n",
      "c : ['d']\n",
      "d : ['a', 'b', 'c']\n"
     ]
    }
   ],
   "source": [
    "adjLists_dict = {}\n",
    "# insert (vertex, list) pairs into dictionary\n",
    "adjLists_dict = {'a': ['b', 'd'],\n",
    " 'b': ['a', 'd'],\n",
    " 'c': ['d'],\n",
    " 'd': ['a','b','c'],\n",
    " }\n",
    "# testing\n",
    "print(\"Semua tetangga dari vertex indeks ke a: \",\n",
    "adjLists_dict['a'])\n",
    "print(\"Semua tetangga dari vertex indeks ke d: \",\n",
    "adjLists_dict['d'])\n",
    "print(\"\\nMenampilkan semua vertex dan tetangganya masing-masing\")\n",
    "for node in adjLists_dict:\n",
    "      print(node, \":\", adjLists_dict[node])"
   ]
  },
  {
   "cell_type": "markdown",
   "metadata": {
    "collapsed": false
   },
   "source": [
    "## Latihan - 1\n",
    "Dari graph berikut buatlah, struktur datanya menggunakan dictionary. <br>\n",
    "![title](images/soalGraf1.png)"
   ]
  },
  {
   "cell_type": "markdown",
   "metadata": {
    "collapsed": false
   },
   "source": [
    "[**Kembali ke Menu Awal**](#Representasi-Graph)"
   ]
  },
  {
   "cell_type": "markdown",
   "metadata": {
    "collapsed": false
   },
   "source": [
    "### Representasi dengan Linked List\n",
    "\n",
    "Contoh graph dan ilustrasi representasi dengan linked list dapat dilihat pada Gambar 2.<br>\n",
    "\n",
    "![graph](images/representasiLinkedList.jpg)<br>\n",
    "**Gambar 2. *Graph* dan bentuk *Linked list***\n",
    "\n",
    "### Code\n",
    "Berikut adalah implementasi representasi *graph* dengan menggunakan *linked list* :"
   ]
  },
  {
   "cell_type": "code",
   "execution_count": 6,
   "metadata": {
    "collapsed": false,
    "scrolled": true
   },
   "outputs": [
    {
     "name": "stdout",
     "output_type": "stream",
     "text": [
      "Adjacency list dari vertex 0 \n",
      " head -> 3 \n",
      "\n",
      " -> 1 \n",
      "\n",
      "Adjacency list dari vertex 1 \n",
      " head -> 3 \n",
      "\n",
      " -> 0 \n",
      "\n",
      "Adjacency list dari vertex 2 \n",
      " head -> 3 \n",
      "\n",
      "Adjacency list dari vertex 3 \n",
      " head -> 2 \n",
      "\n",
      " -> 1 \n",
      "\n",
      " -> 0 \n",
      "\n"
     ]
    }
   ],
   "source": [
    "# Class untuk node dalam graph\n",
    "class AdjNode:\n",
    "    def __init__(self, data): #constructor\n",
    "        self.vertex = data\n",
    "        self.next = None\n",
    "        \n",
    "# Class Graph, ukuran array adalah jumlah dari vertex\n",
    "class Graph:\n",
    "    def __init__(self, vertices): #constructor\n",
    "        self.V = vertices\n",
    "        self.graph = [None] * self.V\n",
    "    \n",
    "    def add_edge(self, src, dest): # Fungsi untuk menambah edge\n",
    "    # Add node ke source node\n",
    "        node = AdjNode(dest)\n",
    "        node.next = self.graph[src]\n",
    "        self.graph[src] = node\n",
    "    # add source node ke destination\n",
    "        node = AdjNode(src)\n",
    "        node.next = self.graph[dest]\n",
    "        self.graph[dest] = node\n",
    "    \n",
    "    def print_graph(self): # Fungsi untuk print graph\n",
    "        for i in range(self.V):\n",
    "            print(\"Adjacency list dari vertex {} \\n head\".format(i), end=\"\")\n",
    "            temp = self.graph[i]\n",
    "            while temp:\n",
    "                print(\" -> {}\".format(temp.vertex), end=\"\")\n",
    "                temp = temp.next\n",
    "                print(\" \\n\")\n",
    "\n",
    "# Driver program to the above graph class\n",
    "V = 4\n",
    "graph = Graph(V)\n",
    "graph.add_edge(0, 1)\n",
    "graph.add_edge(0, 3)\n",
    "graph.add_edge(1, 3)\n",
    "graph.add_edge(2, 3)\n",
    "graph.print_graph()"
   ]
  },
  {
   "cell_type": "markdown",
   "metadata": {
    "collapsed": false
   },
   "source": [
    "[**Kembali ke Menu Awal**](#Representasi-Graph)"
   ]
  },
  {
   "cell_type": "markdown",
   "metadata": {
    "collapsed": false
   },
   "source": [
    "## Adjacency Matrix\n",
    "\n",
    "Cara lain untuk merepresentasikan *graph* $G = \\{V, E\\}$ sebagai matriks boolean. Ukuran matriks adalah ordo $V \\times V$ dimana $V$ adalah jumlah *vertex* dalam *graph*.<br>\n",
    "Baris direpresentasikan sebagai titik awal dan kolom sebagai titik tujuan. <br>\n",
    "Untuk *Unweighted Graph* maka Nilai $A(i,j)$ adalah $1$ atau $0$ tergantung ada tidaknya garis (*edge*) yang menghubungkan dari titik $i$ ke titik $j$. Bernilai $1$ jika ada *edge*, dan $0$ jika tidak ada *edge* antar titik tersebut. <br>\n",
    "*Weighted Graph*, maka nilai matrik diisi dengan bobot dari *edge* $A(i,j) = nilaiBobot$."
   ]
  },
  {
   "cell_type": "markdown",
   "metadata": {
    "collapsed": false
   },
   "source": [
    "### Adjacency Matrix untuk Undirected Graph\n",
    "\n",
    "\n",
    "Contoh *graph* dan representasi *adjacency matrix* untuk *undirected graph*, dapat dilihat pada Gambar 3. <br>\n",
    "![graph](images/matrixUndirected.jpg) <br>\n",
    "**Gambar 3. *Undirected Graph* dan representasi *Adjacency Matrix***\n",
    "\n",
    "\n",
    "\n",
    "### Adjacency Matrix untuk Weighted Graph\n",
    "\n",
    "Contoh *graph* dan representasi *adjacency matrix* untuk *weighted graph*, dapat dilihat pada Gambar 4. <br>\n",
    "\n",
    "![graph](images/matrixUndirected.jpg)<br>\n",
    "**Gambar 4. *Weighted Graph* dan representasi *Adjacency Matrix***\n",
    "\n",
    "### Adjacency Matrix untuk Directed Graph\n",
    "\n",
    "\n",
    "Contoh *graph* dan representasi *adjacency matrix* untuk *directed graph*, dapat dilihat pada Gambar 5. <br>\n",
    "![graph](images/matrixUndirected.jpg) <br>\n",
    "**Gambar 5. *Directed Graph* dan representasi *Adjacency Matrix*** <br>"
   ]
  },
  {
   "cell_type": "markdown",
   "metadata": {
    "collapsed": false
   },
   "source": [
    "### Code\n",
    "\n",
    "Terdapat contoh *undirected graph* seperti yang ditunjukkan pada Gambar 6. <br>\n",
    "![graph](images/contohUndirected.jpg)<br>\n",
    "**Gambar 6. *Undirected Graph***<br>\n",
    "Bentuk graph dibuatkan edgenya, yaitu $Edge(0, 1)$; $Edge(0, 3)$; $Edge(1, 3)$; dan $Edge(2, 3)$;\n",
    "<br>"
   ]
  },
  {
   "cell_type": "code",
   "execution_count": 10,
   "metadata": {
    "collapsed": false,
    "scrolled": true
   },
   "outputs": [
    {
     "name": "stdout",
     "output_type": "stream",
     "text": [
      "   0    1    0    1 \n",
      "   1    0    0    1 \n",
      "   0    0    0    1 \n",
      "   1    1    1    0 \n"
     ]
    }
   ],
   "source": [
    "class Graph(object):\n",
    "    def __init__(self, size):\n",
    "        self.adjMatrix = []\n",
    "        for i in range(size):\n",
    "            self.adjMatrix.append([0 for i in range(size)])\n",
    "            self.size = size\n",
    "    def addEdge(self, v1, v2):\n",
    "        if v1 == v2:\n",
    "            print(\"Same vertex %d and %d\" % (v1, v2))\n",
    "        self.adjMatrix[v1][v2] = 1\n",
    "        self.adjMatrix[v2][v1] = 1\n",
    "    def removeEdge(self, v1, v2):\n",
    "        if self.adjMatrix[v1][v2] == 0:\n",
    "            print(\"No edge between %d and %d\" % (v1, v2))\n",
    "            return\n",
    "        self.adjMatrix[v1][v2] = 0\n",
    "        self.adjMatrix[v2][v1] = 0\n",
    "\n",
    "    def containsEdge(self, v1, v2):\n",
    "        return True if self.adjMatrix[v1][v2] > 0 else False\n",
    "    def __len__(self):\n",
    "        return self.size\n",
    "    def toString(self):\n",
    "        for row in self.adjMatrix:\n",
    "            for val in row:\n",
    "                print('{:4}'.format(val), end = ' ')\n",
    "            print()\n",
    "def main():\n",
    "    g = Graph(4)\n",
    "    g.addEdge(0, 1)\n",
    "    g.addEdge(0, 3)\n",
    "    g.addEdge(1, 3)\n",
    "    g.addEdge(2, 3)\n",
    "    g.toString()\n",
    "\n",
    "main()"
   ]
  },
  {
   "cell_type": "markdown",
   "metadata": {
    "collapsed": false
   },
   "source": [
    "[**Kembali ke Menu Awal**](#Representasi-Graph)"
   ]
  }
 ],
 "metadata": {
  "kernelspec": {
   "display_name": "Python 3 (Ubuntu Linux)",
   "language": "python",
   "name": "python3"
  },
  "language_info": {
   "codemirror_mode": {
    "name": "ipython",
    "version": 3
   },
   "file_extension": ".py",
   "mimetype": "text/x-python",
   "name": "python",
   "nbconvert_exporter": "python",
   "pygments_lexer": "ipython3",
   "version": "3.6.7"
  }
 },
 "nbformat": 4,
 "nbformat_minor": 0
}