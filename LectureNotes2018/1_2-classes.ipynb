{
 "cells": [
  {
   "cell_type": "markdown",
   "metadata": {
    "collapsed": false
   },
   "source": [
    "# <font color=blue>Pemrograman Berorientasi Obyek</font>\n",
    "\n",
    "\n",
    "Tipe Data *Class*\n",
    "***"
   ]
  },
  {
   "cell_type": "markdown",
   "metadata": {
    "collapsed": true
   },
   "source": [
    "Python merupakan bahasa pemrograman yang berbasis Object.  Object adalah suatu variabel dengan tipe data *class* yang tidak hanya berisi **nilai atau *state* atau *property***, tetapi object juga memiliki **method atau fungsi-fungsi** yang melekat pada object tersebut dan dapat juga merubah nilai object tersebut.  \n",
    "<br>\n",
    "\n",
    "Berikut beberapa hal yang harus diketahui untuk Pengenalan Pemrograman Berorientasi Obyek (PBO):\n",
    "1. [String dan List](#String-dan-List)\n",
    "2. [Istilah dalam PBO](#Istilah-dalam-Pemrograman-Berorientasi-Obyek)\n",
    "3. [Constructor](#Constructor)\n",
    "4. [Method](#Method)\n",
    "5. [Override Method](#Override-Method)"
   ]
  },
  {
   "cell_type": "markdown",
   "metadata": {
    "collapsed": false
   },
   "source": [
    "## String dan List\n",
    "\n",
    "Contoh tipe data *class* yang sudah dikenal, dan  digunakan sebelumnya, adalah tipe data *lists* ataupun *string*. <br>\n",
    "Suatu variabel yang berbentuk *lists* ataupun *string*, memiliki dua buah elemen yang terkandung di dalam variabel tersebut, yaitu nilai atau yang disebut dengan *state*/*property*, serta *method* atau fungsi, yang dapat digunakan untuk mengolah nilai pada variabel tersebut. <br>\n",
    "Method atau fungsi yang melekat pada suatu variabel dapat diakses dengan menggunakan syntax \n",
    "```\n",
    "namaObyek.NamaMethod()\n",
    "```\n",
    "\n",
    "\n",
    "## Code\n",
    "\n",
    "Berikut adalah contoh tipe data string dan lists, yang memiliki nilai sekaligus method"
   ]
  },
  {
   "cell_type": "code",
   "execution_count": 0,
   "metadata": {
    "collapsed": false
   },
   "outputs": [
   ],
   "source": [
    "# String\n",
    "\n",
    "dataStr='Struktur Data' \n",
    "print(dataStr)\n",
    "dataStr=dataStr.upper()\n",
    "print(dataStr)"
   ]
  },
  {
   "cell_type": "markdown",
   "metadata": {
    "collapsed": false
   },
   "source": [
    "Pada contoh code tersebut, terdapat variabel $dataStr$ yang berjenis *string*, dimana property dari $dataStr$ adalah 'Struktur Data'.  Contoh method yang digunakan adalah method $upper()$, yang berfungsi untuk merubah semua karakter pada $dataStr$ menjadi huruf kapital.  Beberapa contoh method lain yang dapat digunakan adalah $capitalize()$, $lower()$, $find()$, dll. "
   ]
  },
  {
   "cell_type": "code",
   "execution_count": 0,
   "metadata": {
    "collapsed": false
   },
   "outputs": [
   ],
   "source": [
    "# Lists\n",
    "\n",
    "dataLs=[4,10,21]\n",
    "print(dataLs)\n",
    "data.append(45)\n",
    "print(dataLs)"
   ]
  },
  {
   "cell_type": "markdown",
   "metadata": {
    "collapsed": false
   },
   "source": [
    "Pada contoh code diatas, terdapat variabel $dataLs$ yang berbentuk *lists*.  Variabel ini memiliki tiga buah nilai, yaitu 4, 10, dan 21.  Contoh method yang digunakan adalah $append()$, yaitu menambah data pada variabel berbentuk *lists*. Contoh method method lain yang dimiliki tipe data lists yang bisa dimanfaatkan, misalkan $pop()$, $insert()$, $clear()$, $reverse()$, dsb."
   ]
  },
  {
   "cell_type": "markdown",
   "metadata": {
    "collapsed": false
   },
   "source": [
    "[**Kembali ke Menu Awal**](#Pemrograman-Berorientasi-Obyek)"
   ]
  },
  {
   "cell_type": "markdown",
   "metadata": {
    "collapsed": false
   },
   "source": [
    "## Istilah dalam Pemrograman Berorientasi Obyek\n",
    "Kelebihan dari bahasa pemrogaraman berbasis object, adalah bahasa tersebut menyediakan beberapa fitur agar *programmer* dapat membuat *class* sendiri yang sesuai dengan kebutuhan.  Beberapa istilah dasar yang terdapat pada pemrograman berbasis object ini antara lain :\n",
    "- *class*, tipe data yang tidak hanya berisi data tetapi juga method\n",
    "- *object*, suatu variabel dengan tipe data *class*\n",
    "- *state, property*, bagian data dari suatu class yang berisi nilai, dapat berupa string, integer, float\n",
    "- *method*, fungsi yang melekat pada class\n",
    "- *constructor*, fungsi yang dijalankan oleh python ketika pertama kali suatu objek dibuat.  Method constructor ini dibuat dengan cara mendefinisikan fungsi _ _init_ _  (dua *underscore*)\n",
    "- *self*, merupakan suatu argumen atau parameter spesial agar nilai balik dari method dikembalikan ke objek itu sendiri.  Argumen ini tidak perlu dipanggil (walaupun sudah didefinisikan)pada saat pemanggilan method\n",
    "- *instance*, suatu objek yang telah dibuat\n",
    "- *override*, mendefinisikan kembali fungsi-fungsi umum yang sudah ada, agar sesuai dengan kebutuhan *programmer*\n"
   ]
  },
  {
   "cell_type": "markdown",
   "metadata": {
    "collapsed": false
   },
   "source": [
    "[**Kembali ke Menu Awal**](#Pemrograman-Berorientasi-Obyek)"
   ]
  },
  {
   "cell_type": "markdown",
   "metadata": {
    "collapsed": false
   },
   "source": [
    "## Constructor\n",
    "\n",
    "Penjelasan masing-masing fitur penting pada PBO, dilakukan langsung dengan pemberian contoh.  Contoh class yang akan dibuat adalah bilangan kompleks.  <br>\n",
    "Seperti yang telah diketahui, bilangan kompleks terdiri dari bilangan real dan imajiner sebagai berikut $a=x+yi$, dimana $a$ merupakan bilangan kompleks yang tersusun atas bilangan real $x$, dan bilangan imajiner $y$, dan $i=\\surd{-1}$.  Karena bilangan kompleks terdiri dari dua nilai yaitu real dan imajiner, maka bilangan kompleks ini memiliki operasi yang berbeda dibandingkan dengan bilangan lain, misalkan operasi penjumlahan, perkalian, pembagian, pengurangan, dll.  Oleh karena itu, sangat tepat jika bilangan kompleks ini direpresentasikan dalam bentuk tipe data *class*.\n",
    "\n",
    "Syntax untuk membuat suatu class, adalah sebagai berikut :<br>\n",
    "> class namaClass:\n",
    "> > def \\__init\\__() : #constructor<br>\n",
    "> > def namaMethod () : #Method<br>\n",
    "> > ...\n",
    "\n",
    "Sedangkan untuk membuat suatu obyek dengan tipe data class tertentu (proses pembuatan *instance*) adalah :<br>\n",
    "```\n",
    "namaObyek=namaClass()\n",
    "```\n",
    "\n",
    "**Constructor** merupakan method yang otomatis dijalankan ketika suatu obyek dibuat.  Syntax untuk pembuatan *constructor* ini adalah :<br>\n",
    "```\n",
    "def __init__()\n",
    "```\n",
    "\n",
    "## Code\n",
    "Berikut adalah contoh pembuatan tipe data ini dimulai dari mendefinisikan *class* dan membuat constructor dari class tersebut.  Class yang akan dibuat adalah class bilangan kompleks, dimana setiap bilangan kompleks memiliki dua buah nilai, yaitu bagian real, dan bagian imajiner."
   ]
  },
  {
   "cell_type": "code",
   "execution_count": 0,
   "metadata": {
    "collapsed": false
   },
   "outputs": [
   ],
   "source": [
    "class BilanganKompleks:\n",
    "    def __init__(self,a,b):\n",
    "        self.real=a\n",
    "        self.im=b"
   ]
  },
  {
   "cell_type": "code",
   "execution_count": 0,
   "metadata": {
    "collapsed": true
   },
   "outputs": [
   ],
   "source": [
    "data=BilanganKompleks(4,6)"
   ]
  },
  {
   "cell_type": "code",
   "execution_count": 0,
   "metadata": {
    "collapsed": false
   },
   "outputs": [
   ],
   "source": [
    "# untuk pengecekan tipe data dari variabel num\n",
    "type(data)"
   ]
  },
  {
   "cell_type": "markdown",
   "metadata": {
    "collapsed": false
   },
   "source": [
    "Dari syntax-syntax tersebut, maka terdapat class dengan nama $BilanganKompleks$ sehingga terdapat tipe data baru yaitu *BilanganKompleks*.  <br>\n",
    "Ketika suatu variabel dibuat, maka variabel tersebut akan memiliki dua buah nilai yang disimpan dalam variabel didalam class yaitu *real* dan *im*, yang merupakan representasi dari bagian real dan imajiner dari suatu bilangan kompleks.  <br>\n",
    "\n",
    "**Constructor** ini tidak perlu dipanggil secara eksplisit, akan tetapi otomatis akan dijalankan ketika *instance* (atau sebuah variabel dengan tipe data class) dibuat.  Pada code diatas, perintah ```data=BilanganKompleks(4,6)``` merupakan contoh instansiasi dari class bilangan kompleks, sehingga terbentuk obyek dengan nama $data$, yang memiliki nilai $real=4$, dan nilai $im=6$, yaitu $data=4+6i$.  <br>\n",
    "Argumen atau parameter *self* tidak perlu dipanggil pada saat pemanggilan method atau constructor.  Ilustrasi obyek *data* dapat dilihat pada Gambar 1 berikut.<br>\n",
    "![title](images/instance.png)<br>\n",
    "**Gambar 1. Instansiasi obyek data**"
   ]
  },
  {
   "cell_type": "markdown",
   "metadata": {
    "collapsed": true
   },
   "source": [
    "Pada contoh code sebelumnya, dilakukan syntax ```type(data)``` yaitu untuk mengetahui tipe data dari variabel data.<br>\n",
    "Misalkan isi dari data tersebut ingin ditampilkan, maka tidak bisa dilakukan dengan cara menulis syntax *print* seperti biasa,  Jika tetap perintahkan print untuk menampilkan data tersebut, maka yang ditampilkan di layar hanyalah alamat tempat data tersebut disimpan, seperti contoh code  berikut.\n",
    "\n",
    "## Code"
   ]
  },
  {
   "cell_type": "code",
   "execution_count": 0,
   "metadata": {
    "collapsed": false
   },
   "outputs": [
   ],
   "source": [
    "class BilanganKompleks:\n",
    "    def __init__(self,a,b):\n",
    "        self.real=a\n",
    "        self.im=b\n",
    "        \n",
    "data=BilanganKompleks(4,6)\n",
    "print(data)"
   ]
  },
  {
   "cell_type": "markdown",
   "metadata": {
    "collapsed": false
   },
   "source": [
    "Oleh karena itu, untuk menampilkan property atau nilai yang dimiliki oleh suatu obyek, tidak dapat dilakukan dengan syntax ```print()``` seperti biasa.<br>\n",
    "\n",
    "Terdapat dua cara agar objek yang sudah dibuat dapat ditampilkan di layar sesuai dengan yang diinginkan, yaitu:\n",
    " - Membuat method baru untuk menampilkan data\n",
    " - *override* method standar dari sebuah class"
   ]
  },
  {
   "cell_type": "markdown",
   "metadata": {
    "collapsed": false
   },
   "source": [
    "[**Kembali ke Menu Awal**](#Pemrograman-Berorientasi-Obyek)"
   ]
  },
  {
   "cell_type": "markdown",
   "metadata": {
    "collapsed": false
   },
   "source": [
    "## Method\n",
    "\n",
    "Method merupakan fungsi-fungsi yang terdapat di dalam suatu class.\n",
    "Contoh method yang akan dibuat adalah method yang berfungsi untuk menampilkan *property* atau *state* yang terdapat di dalam suatu obyek. <br>\n",
    "Syntax pembuatan method adalah :<br>\n",
    "```\n",
    "def namaMethod():\n",
    "```\n",
    "\n",
    "Sedangkan untuk memanggil method suatu class adalah : <br>\n",
    "```\n",
    "namaObyek.namaMethod()\n",
    "```\n"
   ]
  },
  {
   "cell_type": "markdown",
   "metadata": {
    "collapsed": false
   },
   "source": [
    "## Code\n",
    "\n",
    "Berikut adalah contoh pembuatan method ```display()``` yang berfungsi untuk menampilkan *property* yang terdapat pada class Bilangan Kompleks."
   ]
  },
  {
   "cell_type": "code",
   "execution_count": 0,
   "metadata": {
    "collapsed": true
   },
   "outputs": [
   ],
   "source": [
    "class BilanganKompleks:\n",
    "    def __init__(self,a,b): # constructor\n",
    "        self.real=a\n",
    "        self.im=b\n",
    "    def display(self): # method untuk menampilkan state\n",
    "        print (self.real,'+',self.im,'i')"
   ]
  },
  {
   "cell_type": "code",
   "execution_count": 0,
   "metadata": {
    "collapsed": false
   },
   "outputs": [
   ],
   "source": [
    "data1=BilanganKompleks(4,6)\n",
    "data1.display()\n",
    "data2=BilanganKompleks(2,3)\n",
    "data2.display()"
   ]
  },
  {
   "cell_type": "markdown",
   "metadata": {
    "collapsed": false
   },
   "source": [
    "Pada contoh code diatas, terdapat method tambahan pada class $BilanganKompleks$, yaitu method ```display()```, yang berfungsi untuk menampilkan *state* atau *property* obyek dari class $BilanganKompleks$. <br>\n",
    "Di dalam method tersebut, digunakan syntax print yang berfungsi untuk menampilkan suatu data.  Perintah ```self.real``` adalah perintah untuk mengakses *state* atau *property* $real$, yang dimiliki oleh class $BilanganKompleks$, begitu juga dengan perintah ```self.im```, digunakan untuk mengakses *property* $im$. Karena property $real$ dan $im$ bertipe data integer, maka syntax ```print()``` dapat dilakukan pada dua *property* tersebut<br>\n",
    "\n",
    "[**Kembali ke Menu Awal**](#Pemrograman-Berorientasi-Obyek)"
   ]
  },
  {
   "cell_type": "markdown",
   "metadata": {
    "collapsed": false
   },
   "source": [
    "## Override Method\n",
    "\n",
    "**Override Method** merupakan penambahan fungsi-fungsi pada syntax-syntax yang sudah ada.  Seperti yang dijelaskan sebelumnya, untuk menampilkan *property* yang terdapat pada suatu obyek, tidak dapat dilakukan dengan menggunakan perintah ```print()```.  <br>\n",
    "Cara pertama yang sudah dijelaskan adalah membuat method baru di dalam class, yang berfungsi untuk menampilkan *property* suatu class. <br>\n",
    "Cara kedua adalah dengan cara override method fungsi yang sudah tersedia oleh bahasa pemrograman.  Syntax yang akan di*override* adalah syntax ```print()```. <br>\n",
    "Yang perlu dilakukan agar suatu object dapat dipanggil dengan perintah *print* adalah object tersebut harus dirubah menjadi string.  Untuk merubah suatu variabel menjadi string, maka suatu class dilengkapi dengan method ```__str__```.  Hanya saja method ini tidak bisa berfungsi secara sempurna sesuai dengan apa yang diinginkan oleh programmer, yaitu agar syntax ```print``` dapat digunakan langsung untuk menampilkan *property* yang terdapat pada suatu class. \n",
    "\n",
    "## Code\n",
    "\n",
    "Berikut contoh override method ```__str__``` pada class BilanganKompleks"
   ]
  },
  {
   "cell_type": "code",
   "execution_count": 0,
   "metadata": {
    "collapsed": true
   },
   "outputs": [
   ],
   "source": [
    "class BilanganKompleks:\n",
    "    def __init__(self,a,b):\n",
    "        self.real=a\n",
    "        self.im=b\n",
    "    def display(self):\n",
    "        print (self.real,\"+\",self.im,\"i\")\n",
    "    def __str__(self):\n",
    "        return str(self.real)+\" + \"+str(self.im)+\" i \""
   ]
  },
  {
   "cell_type": "code",
   "execution_count": 0,
   "metadata": {
    "collapsed": false
   },
   "outputs": [
   ],
   "source": [
    "data1=BilanganKompleks(4,6)\n",
    "data2=BilanganKompleks(2,5)\n"
   ]
  },
  {
   "cell_type": "code",
   "execution_count": 18,
   "metadata": {
    "collapsed": false
   },
   "outputs": [
    {
     "name": "stdout",
     "output_type": "stream",
     "text": [
      "Override Method\n",
      "4+6i\n",
      "2+5i\n",
      "Method dalam Class\n",
      "4 + 6 i\n",
      "2 + 5 i\n"
     ]
    }
   ],
   "source": [
    "print('Override Method')\n",
    "print(data1)\n",
    "print(data2)\n",
    "print('Method dalam Class')\n",
    "data1.display()\n",
    "data2.display()"
   ]
  },
  {
   "cell_type": "markdown",
   "metadata": {
    "collapsed": false
   },
   "source": [
    "Penjumlahan dua buah bilangan kompleks berbeda dengan penjumlahan bilangan yang lain, karena bilangan kompleks ini terdiri dari dua bagian yaitu real dan imajiner.  Untuk menjumlahkan bilangan kompleks, maka bagian real harus dijumlahkan pada bagian real juga dari bilangan lain, dan bagian imajiner harus ditambahkan dengan bagian imajiner, seperti persamaan berikut:\n",
    "\\begin{eqnarray}\n",
    "x1 &=&x_{1}+y_{1}i\\\\\n",
    "x2 &=&x_{2}+y_{2}i\\\\\n",
    "x1+x2 & =&(x_{1}+y_{1}i)+(x_{2}+y_{2}i)\\\\\n",
    "& =&(x_{1}+x_{2})+((y_{1}+y_{2})i)\n",
    "\\end{eqnarray}\n",
    "\n",
    "Seperti halnya fungsi untuk menampilkan *property* yang terdapat pada suatu class, maka untuk melakukan operasi penjumlahan ini juga dapat dilakukan dengan dua buah cara, yaitu :\n",
    "- Membuat metode di dalam class untuk operasi penjumlahan\n",
    "- Override method\n",
    "<br>\n",
    "\n",
    "## Code\n",
    "Contoh code berikut adalah pembuatan method baru di dalam class, yang berfungsi untuk menjumlahkan dua buah bilangan kompleks."
   ]
  },
  {
   "cell_type": "code",
   "execution_count": 25,
   "metadata": {
    "collapsed": false
   },
   "outputs": [
   ],
   "source": [
    "class BilanganKompleks:\n",
    "    def __init__(self,a,b):\n",
    "        self.real=a\n",
    "        self.im=b\n",
    "    def display(self):\n",
    "        print (self.real,'+',self.im,'i')\n",
    "    def __str__(self):\n",
    "        return str(self.real) + \" + \" + str(self.im) + \" i \"\n",
    "    def addKompleks(self,obj):\n",
    "        a=self.real+obj.real\n",
    "        b=self.im+obj.im\n",
    "        return BilanganKompleks(a,b)"
   ]
  },
  {
   "cell_type": "code",
   "execution_count": 26,
   "metadata": {
    "collapsed": true
   },
   "outputs": [
   ],
   "source": [
    "data1=BilanganKompleks(4,6)\n",
    "data2=BilanganKompleks(2,5)"
   ]
  },
  {
   "cell_type": "code",
   "execution_count": 27,
   "metadata": {
    "collapsed": false,
    "scrolled": true
   },
   "outputs": [
    {
     "name": "stdout",
     "output_type": "stream",
     "text": [
      "4 + 6 i\n",
      "2 + 5 i\n",
      "6 + 11 i \n"
     ]
    }
   ],
   "source": [
    "jumlah=data1.addKompleks(data2)\n",
    "data1.display()\n",
    "data2.display()\n",
    "print(jumlah)"
   ]
  },
  {
   "cell_type": "markdown",
   "metadata": {
    "collapsed": false
   },
   "source": [
    "Jika ingin melakukan operasi penjumlahan dengan menggunakan operator '+', maka tidak dapat langsung dilakukan perintah sebagai berikut :<br>\n",
    "```\n",
    "data1=BilanganKompleks(4,6)\n",
    "data2=BilanganKompleks(2,5)\n",
    "jumlah=data1+data2\n",
    "```\n",
    "Operasi penjumlahan dengan operator '+' hanya dapat dilakukan dengan *override* fungsi ```__add__``` yang sudah tersedia.\n",
    "\n",
    "## Code\n",
    "\n",
    "Berikut adalah contoh override method ```__add__```, agar operasi penjumlahan dua buah bilangan kompleks dapat dilakukan dengan menggunakan operator '+'."
   ]
  },
  {
   "cell_type": "code",
   "execution_count": 29,
   "metadata": {
    "collapsed": true
   },
   "outputs": [
   ],
   "source": [
    "class BilanganKompleks:\n",
    "    def __init__(self,a,b): \n",
    "        self.real=a\n",
    "        self.im=b\n",
    "    def display(self):\n",
    "        print (self.real,'+',self.im,'i')\n",
    "    def __str__(self):\n",
    "        return str(self.real) + \" + \" + str(self.im) + \" i \"\n",
    "    def addKompleks(self,obj):\n",
    "        a=self.real+obj.real\n",
    "        b=self.im+obj.im\n",
    "        return BilanganKompleks(a,b)\n",
    "    def __add__(self,obj):\n",
    "        a=self.real+obj.real\n",
    "        b=self.im+obj.im\n",
    "        return BilanganKompleks(a,b)"
   ]
  },
  {
   "cell_type": "code",
   "execution_count": 32,
   "metadata": {
    "collapsed": false
   },
   "outputs": [
    {
     "name": "stdout",
     "output_type": "stream",
     "text": [
      "5 + 10 i \n",
      "2 + 5 i \n",
      "7 + 15 i \n"
     ]
    }
   ],
   "source": [
    "data1=BilanganKompleks(4,6)\n",
    "data1=BilanganKompleks(5,10)\n",
    "jumlah=data1+data2\n",
    "print(data1)\n",
    "print(data2)\n",
    "print(jumlah)"
   ]
  },
  {
   "cell_type": "markdown",
   "metadata": {
    "collapsed": false
   },
   "source": [
    "Perkalian dua bilangan kompleks juga berbeda dengan perkalian bilangan biasa, karena keistimewaan bilangan kompleks ini.  Perkalian dua buah bilangan kompleks dapat dilakukan sebagai berikut :\n",
    "\\begin{eqnarray}\n",
    "x1 &=&x_{1}+y_{1}i\\\\\n",
    "x2 &=&x_{2}+y_{2}i\\\\\n",
    "x1 \\times x2 & =& (x_{1}+y_{1}i) \\times (x_{2}+y_{2}i)\\\\\n",
    "& =&(x_{1} \\times x_{2} - y_{1} \\times y_{2} ) + ( (x_{1} \\times y_{2})+ (y_{1} \\times x_{2})i)\n",
    "\\end{eqnarray}"
   ]
  },
  {
   "cell_type": "markdown",
   "metadata": {
    "collapsed": false
   },
   "source": [
    "## Code\n",
    "\n",
    "Berikut overriding method untuk perkalian dua buah bilangan kompleks:"
   ]
  },
  {
   "cell_type": "code",
   "execution_count": 33,
   "metadata": {
    "collapsed": true
   },
   "outputs": [
   ],
   "source": [
    "class BilanganKompleks:\n",
    "    def __init__(self,a,b): \n",
    "        self.real=a\n",
    "        self.im=b\n",
    "    def display(self):\n",
    "        print (self.real,'+',self.im,'i')\n",
    "    def __str__(self):\n",
    "        return str(self.real) + \" + \" + str(self.im) + \" i \"\n",
    "    def addKompleks(self,obj):\n",
    "        a=self.real+obj.real\n",
    "        b=self.im+obj.im\n",
    "        return BilanganKompleks(a,b)\n",
    "    def __add__(self,obj):\n",
    "        a=self.real+obj.real\n",
    "        b=self.im+obj.im\n",
    "        return BilanganKompleks(a,b)\n",
    "    def __mul__(self,data):\n",
    "        temp1=(self.real*data.real)-(self.im*data.im)\n",
    "        temp2=(self.real*data.im)+(data.real*self.im)\n",
    "        return BilanganKompleks(temp1,temp2)\n"
   ]
  },
  {
   "cell_type": "code",
   "execution_count": 34,
   "metadata": {
    "collapsed": false
   },
   "outputs": [
    {
     "name": "stdout",
     "output_type": "stream",
     "text": [
      "4 + 6 i \n",
      "5 + 10 i \n",
      "-40 + 70 i \n"
     ]
    }
   ],
   "source": [
    "a=BilanganKompleks(4,6)\n",
    "b=BilanganKompleks(5,10)\n",
    "c=a * b\n",
    "print(a)\n",
    "print(b)\n",
    "print(c)"
   ]
  },
  {
   "cell_type": "markdown",
   "metadata": {
    "collapsed": false
   },
   "source": [
    "## Latihan 4"
   ]
  },
  {
   "cell_type": "markdown",
   "metadata": {
    "collapsed": false
   },
   "source": [
    "Override method ```__sub__``` agar dapat dilakukan operasi pengurangan dua buah bilangan kompleks."
   ]
  },
  {
   "cell_type": "markdown",
   "metadata": {
    "collapsed": false
   },
   "source": [
    "[**Kembali ke Menu Awal**](#Pemrograman-Berorientasi-Obyek)"
   ]
  }
 ],
 "metadata": {
  "kernelspec": {
   "display_name": "Python 3 (system-wide)",
   "language": "python",
   "metadata": {
    "cocalc": {
     "description": "Python 3 programming language",
     "priority": 100,
     "url": "https://www.python.org/"
    }
   },
   "name": "python3"
  },
  "language_info": {
   "codemirror_mode": {
    "name": "ipython",
    "version": 3
   },
   "file_extension": ".py",
   "mimetype": "text/x-python",
   "name": "python",
   "nbconvert_exporter": "python",
   "pygments_lexer": "ipython3",
   "version": "3.6.8"
  }
 },
 "nbformat": 4,
 "nbformat_minor": 0
}