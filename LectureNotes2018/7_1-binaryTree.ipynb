{
 "cells": [
  {
   "cell_type": "markdown",
   "metadata": {
    "collapsed": false
   },
   "source": [
    "# <font color=blue>Tree dan Binary Tree</font>\n",
    "\n",
    "\n",
    "Konsep dasar Tree dan Binary Tree\n",
    "***"
   ]
  },
  {
   "cell_type": "markdown",
   "metadata": {
    "collapsed": false
   },
   "source": [
    "*Tree* merupakan struktur data yang berbentuk non linear, berbeda dengan struktur data *stack*, *queue*, ataupun *deque*.\n",
    "Bentuk *Tree* di *computer science* hampir sama dengan *tree* yang terdapat pada ekosistem biologi, yaitu keduanya memiliki *root*, *leaves*, dan *branches*.  Hanya saja, jika pada ekosistem biologi, akar terletak di bagian paling bawah dan daun ataupun batang terletak diatasnya, maka *tree* pada computer science agak sedikit berbeda, yaitu, akar terletak pada bagian paling atas, sedangkan daun dan cabangnya berada di bawahnya.\n",
    "\n",
    "Deskripsi mengenai Tree ini akan dibagi menjadi dua bagian, yaitu:\n",
    "1. [Tree](#Tree)\n",
    "2. [Binary Tree](#Binary-Tree)\n",
    "\n",
    "\n"
   ]
  },
  {
   "cell_type": "markdown",
   "metadata": {
    "collapsed": false
   },
   "source": [
    "## Tree"
   ]
  },
  {
   "cell_type": "markdown",
   "metadata": {
    "collapsed": false
   },
   "source": [
    "Pada *computer science*, pencarian solusi dimulai dari root, bergerak ke bawah mengikuti cabangnya atau *edge*, sampai dengan *leaves* atau daun.  Informasi yang terdapat pada daun inilah yang merupakan solusi yang dicari. \n",
    "Contoh *tree* dapat dapat dilihat pada Gambar 1 berikut: <br>\n",
    "\n",
    "![title](images/treeDirectory.png)<br>\n",
    "**Gambar 1. Bentuk Tree**<br>\n",
    "Pada Gambar 1 tersebut, *tree* yang menggambarkan directory pada suatu computer.  Jika ingin menuju folder 'struktur data', maka harus mengikuti path sebagai berikut : computer, D:, Mata Kuliah, dan terakhir Struktur Data."
   ]
  },
  {
   "cell_type": "markdown",
   "metadata": {
    "collapsed": false
   },
   "source": [
    "Beberapa istilah pada *Tree* yang harus diketahui adalah sebagai berikut :\n",
    "- **Node**, merupakan bagian dari tree yang menyimpan informasi atau juga disebut sebagai *key*\n",
    "- **Edge**, yang menghubungkan antara node yang satu dengan yang lain.  Hanya ada satu edge yang masuk ke dalam node, dan satu atau lebih edge yang keluar dari suatu node\n",
    "- **Root**, node yang terletak di paling atas, tidak ada edge yang masuk ke dalam node root ini, tapi root mempunyai satu atau lebih dari satu edge yang keluar.\n",
    "- **path**, merupakan urutan node dari root sampai tujuan, misalkan computer --> D: --> Mata Kuliah --> Struktur Data\n",
    "- **children**, merupakan node-node yang memiliki edge yang masuk dari node yang sama.  Misalkan program files, users, dan windows merupakan children, krn memiliki edge masuk yang sama-sama berasal dari node C:\n",
    "- **Parent**, node yang memiliki edge yang keluar dari node tersebut, misalkan node C: adalah parent dari program files, users, dan windows\n",
    "- **Siblings**, adalah node-node yang berasal dari parent yang sama\n",
    "- **subtree**, kumpulan dari node dan edge yang terdiri dari parent dan semua node setelah parent\n",
    "- **leaf node**, node yang tidak memiliki edge yang keluar, node yang tidak memiliki children\n",
    "- **level**, tingkatan dari node. Root merupakan level ke-0, semakin kebawah maka level dari node tersebut semakin besar, misalkan struktur data berada di level ke-3\n",
    "- **height**, merupakan tinggi tree, nilai dari height ini adalah level maksimum dari tree\n"
   ]
  },
  {
   "cell_type": "markdown",
   "metadata": {
    "collapsed": false
   },
   "source": [
    "Suatu *tree* juga dapat dilihat sebagai suatu struktur data yang memiliki dua buah komponen, yaitu *root* dan *subtree*, dimana sebuah tree dapat terdiri dari sebuah root dan nol atau lebih dari satu subtree.  <br>\n",
    "*Subtree* sendiri juga merupakan sebuah tree.   Root dari subtree dihubungkan dengan edge ke root dari tree.  Hal ini dapat dipandang sebagai definisi rekursif.  Definisi ini dapat dilihat pada Gambar 2, sebagai berikut : <br>\n",
    "\n",
    "![title](images/recursiveTree.png) <br>\n",
    "**Gambar 2. Tree dan Subtree**"
   ]
  },
  {
   "cell_type": "markdown",
   "metadata": {
    "collapsed": false
   },
   "source": [
    "[**Kembali ke Menu Awal**](#Tree-dan-Binary-Tree)"
   ]
  },
  {
   "cell_type": "markdown",
   "metadata": {
    "collapsed": false
   },
   "source": [
    "## Binary Tree\n",
    "\n",
    "**Binary tree** merupakan *tree* dimana setiap *parent* hanya memiliki dua buah atau satu *node children* saja.<br>\n",
    "\n",
    "Karena didalam binary tree terdiri node dimana setiap node memiliki informasi mengenai nilai node dan edge (method untuk menambahkan node baru pada tree), maka *tree* ataupun *binary tree* ini akan lebih mudah diimplementasikan dengan menggunakan tipe data class.<br>  \n",
    "Representasi binary tree dapat dilihat pada Gambar 3 berikut.<br>\n",
    "![title](images/classTree.png)<br>\n",
    "\n",
    "\n",
    "**Gambar 3. Representasi Binary Tree**<br>\n",
    "\n",
    "## Code\n",
    "\n",
    "Berikut implementasi class *binary Tree*, dimana pada class ini terdapat tiga buah *property* atau *state*, yaitu *key*, *leftChild*, dan *rightChild*.  *Key* digunakan untuk informasi nilai yang terdapat pada *node*, *lefchild* dan *rightchild* digunakan sebagai pointer untuk menunjukkan *child* sebelah kiri dan kanan dari *node*."
   ]
  },
  {
   "cell_type": "code",
   "execution_count": 1,
   "metadata": {
    "collapsed": true
   },
   "outputs": [
   ],
   "source": [
    "class BinaryTree:\n",
    "    def __init__(self, root):\n",
    "        self.key = root\n",
    "        self.leftChild = None\n",
    "        self.rightChild = None"
   ]
  },
  {
   "cell_type": "code",
   "execution_count": 2,
   "metadata": {
    "collapsed": false
   },
   "outputs": [
    {
     "name": "stdout",
     "output_type": "stream",
     "text": [
      "None\n"
     ]
    }
   ],
   "source": [
    "myTree=BinaryTree(10)\n",
    "print(myTree.leftChild)"
   ]
  },
  {
   "cell_type": "markdown",
   "metadata": {
    "collapsed": false
   },
   "source": [
    "## Code\n",
    "\n",
    "Pada class yang sudah dibuat tersebut, terdapat suatu *constructor*, yaitu node akan dibuat setiap sebuah object didefinisikan dengan menggunakan tipe data class BinaryTree ini.  <br>\n",
    "Class BinaryTree ini harus memiliki dua method utama yaitu, **insertLeft** dan **insertRight**.  Pada method insertLeft ini, sebuah subtree akan dibuat, dan dilekatkan terhadap tree utama dari edge root yang sebelah kiri, begitu juga insertRight."
   ]
  },
  {
   "cell_type": "code",
   "execution_count": 3,
   "metadata": {
    "collapsed": true
   },
   "outputs": [
   ],
   "source": [
    "class BinaryTree:\n",
    "    def __init__(self, root):\n",
    "        self.key = root\n",
    "        self.leftChild = None\n",
    "        self.rightChild = None\n",
    "    def insertLeft(self, new_node):\n",
    "        if self.leftChild == None:\n",
    "            self.leftChild = BinaryTree(new_node)\n",
    "        else:\n",
    "            t = BinaryTree(new_node)\n",
    "            t.leftChild = self.leftChild\n",
    "            self.leftChild = t\n",
    "    def insertRight(self, new_node):\n",
    "        if self.rightChild == None:\n",
    "            self.rightChild = BinaryTree(new_node)            \n",
    "        else:\n",
    "            t = BinaryTree(new_node)\n",
    "            t.rightChild = self.rightChild\n",
    "            self.rightChild = t\n",
    "           "
   ]
  },
  {
   "cell_type": "markdown",
   "metadata": {
    "collapsed": false
   },
   "source": [
    "Pada method *insertLeft* tersebut perlu dilakukan pemeriksaan terlebih dahulu, apakah child kiri dari node yang akan disisipi subtree baru masih kosong, jika iya maka subtree tersebut dimasukkan pada leftChild. Ilustrasi *insertLeft* pada suatu binary tree yang pointer leftchild masih kosong, dapat dilihat pada Gambar 3. <br>  Misalkan tree 't' akan disisipkan pada tree 'a', dimana leftchild dari tree a, masih kosong, sehingga dapat langsung diperintahkan :\n",
    "```\n",
    "self.leftChild=BinaryTree(new_node)\n",
    "```\n",
    "![title](images/insertLeftBinary.png) <br>\n",
    "**Gambar 3. InsertLeft pada tree dimana leftchild tree masih kosong** <br>\n",
    "\n",
    "Jika penyisipan dilakukan pada suatu binary tree, dimana leftchild tree tersebut tidak kosong. Misalkan terdapat tree 'a', dimana tree 'a' tersebut, memiliki leftchild, yaitu 'b'.  Jika ingin dilakukan penyisipan tree baru, yaitu 't', maka tahapan yang harus dilakukan adalah :\n",
    "```\n",
    "1. t.leftChild = self.leftChild\n",
    "2. self.leftChild = t\n",
    "```\n",
    "Ilustrasi penyisipan ini dapat dilihat pada Gambar 4.<br>\n",
    "![title](images/insertLeftBinary2.png) <br>\n",
    "**Gambar 4. InsertLeft pada tree dimana tree tersebut memiliki leftchild** <br>\n",
    "\n",
    "Perintah pada baris pertama digunakan agar node yang terletak pada left child tetap ada dan tidak hilang.  Jika perintah tersebut dibalik menjadi :\n",
    "```\n",
    "1. self.leftChild = t\n",
    "2. t.leftChild = self.leftChild\n",
    "```\n",
    "Maka node yang merupakan leftchild dari node utama akan hilang, karena tidak ada pointer yang menunjuk ke leftchild tersebut.  Ilustrasi ini dapat dilihat pada Gambar 5.\n",
    "![title](images/insertLeftBinary3.png) <br>\n",
    "**Gambar 5. Kesalahan syntax pada method insertLeft** <br>\n",
    "\n",
    "Penyisipan melalui right child juga melalui tahapan yang sama."
   ]
  },
  {
   "cell_type": "markdown",
   "metadata": {
    "collapsed": false
   },
   "source": [
    "## Code\n",
    "\n",
    "Berikut tambahan method pada class BinaryTree, untuk mendapatkan informasi mengenai left child, right child, dan root dari suatu binary tree."
   ]
  },
  {
   "cell_type": "code",
   "execution_count": 1,
   "metadata": {
    "collapsed": false
   },
   "outputs": [
   ],
   "source": [
    "class BinaryTree:\n",
    "    def __init__(self, root):\n",
    "        self.key = root\n",
    "        self.leftChild = None\n",
    "        self.rightChild = None\n",
    "    def insertLeft(self, new_node):\n",
    "        if self.leftChild == None:           \n",
    "            self.leftChild = BinaryTree(new_node)         \n",
    "        else:\n",
    "            t = BinaryTree(new_node)\n",
    "            t.leftChild = self.leftChild\n",
    "            self.leftChild = t\n",
    "           \n",
    "    def insertRight(self, new_node):\n",
    "        if self.rightChild == None:\n",
    "            self.rightChild = BinaryTree(new_node)            \n",
    "        else:\n",
    "            t = BinaryTree(new_node)\n",
    "            t.rightChild = self.rightChild\n",
    "            self.rightChild = t\n",
    "\n",
    "    def getRightChild(self):\n",
    "        return self.rightChild\n",
    "    def getLeftChild(self):\n",
    "        return self.leftChild\n",
    "    def setRootVal(self, obj):\n",
    "        self.key = obj\n",
    "    def getRootVal(self):\n",
    "        return self.key\n",
    "       "
   ]
  },
  {
   "cell_type": "markdown",
   "metadata": {
    "collapsed": false
   },
   "source": [
    "## Latihan\n",
    "\n",
    "Buatlah binarytree dari class tersebut diatas sesuai dengan gambar berikut :<br>![title](images/binaryTree1.png)\n"
   ]
  },
  {
   "cell_type": "markdown",
   "metadata": {
    "collapsed": false
   },
   "source": [
    "[**Kembali ke Menu Awal**](#Tree-dan-Binary-Tree)"
   ]
  }
 ],
 "metadata": {
  "kernelspec": {
   "display_name": "Python 3 (Ubuntu Linux)",
   "language": "python",
   "name": "python3"
  },
  "language_info": {
   "codemirror_mode": {
    "name": "ipython",
    "version": 3
   },
   "file_extension": ".py",
   "mimetype": "text/x-python",
   "name": "python",
   "nbconvert_exporter": "python",
   "pygments_lexer": "ipython3",
   "version": "3.6.7"
  }
 },
 "nbformat": 4,
 "nbformat_minor": 0
}