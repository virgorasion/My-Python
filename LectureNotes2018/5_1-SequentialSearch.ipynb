{
 "cells": [
  {
   "cell_type": "markdown",
   "metadata": {
    "collapsed": false
   },
   "source": [
    "# <font color=blue>Pencarian/*Searching*</font>\n",
    "\n",
    "\n",
    "Sequential Searching\n",
    "***"
   ]
  },
  {
   "cell_type": "markdown",
   "metadata": {
    "collapsed": false
   },
   "source": [
    "Pencarian data terkadang sangat diperlukan pada proses komputasi, sistem informasi, dan lain-lain.  Dengan pencarian data ini maka data yang diperlukan dapat diketahui posisinya terhadap kumpulan data yang lain, sehingga data ini dapat digunakan untuk proses berikutnya.  Misalkan pada data mahasiswa, diperlukan data lengkap tentang mahasiswa dengan Nomor induk XXXXXX, maka diperlukan proses pencarian data tersebut dengan *key* berupa nomor induk mahasiswa.  Data yang didapat ini dapat digunakan untuk keperluan yang lain, misalkan keperluan administratif.\n",
    "\n"
   ]
  },
  {
   "cell_type": "markdown",
   "metadata": {
    "collapsed": false
   },
   "source": [
    "Pada umumnya, proses pencarian data ini menghasilkan posisi data yang dicari terhadap keseluruhan data, akan tetapi untuk pencarian data yang sederhana, nilai True atau False saja yang dihasilkan, nilai ini menandakan apakah data berada di sekumpulan data ataukah tidak.\n",
    "Proses pencarian sederhana ini sudah disediakan oleh python dengan menggunakan syntax *in*, seperti contoh berikut:"
   ]
  },
  {
   "cell_type": "code",
   "execution_count": 0,
   "metadata": {
    "collapsed": false,
    "scrolled": true
   },
   "outputs": [
   ],
   "source": [
    "a=[12,5,9,8,1,10,26]\n",
    "\n",
    "11 in a"
   ]
  },
  {
   "cell_type": "code",
   "execution_count": 0,
   "metadata": {
    "collapsed": false
   },
   "outputs": [
   ],
   "source": [
    "12 in a"
   ]
  },
  {
   "cell_type": "code",
   "execution_count": 0,
   "metadata": {
    "collapsed": false
   },
   "outputs": [
   ],
   "source": [
    "15 in a"
   ]
  },
  {
   "cell_type": "markdown",
   "metadata": {
    "collapsed": false
   },
   "source": [
    "Algoritma searching yang pertama adalah sequential search. <br>"
   ]
  },
  {
   "cell_type": "markdown",
   "metadata": {
    "collapsed": false
   },
   "source": [
    "***Sequential Search*** merupakan teknik pencarian data dengan cara membandingkan data yang dicari dengan seluruh data yang terdapat pada kumpulan data secara satu persatu, mulai dari data pertama sampai dengan data terakhir.  Ilustrasi sequential search ini dapat dilihat pada Gambar 1 berikut. <br>\n",
    "![title](images/seqSearch1.png)<br>\n",
    "**Gambar 1. Sequential Search**"
   ]
  },
  {
   "cell_type": "markdown",
   "metadata": {
    "collapsed": false
   },
   "source": [
    "Terdapat dua konsep untuk sequential search berdasarkan kumpulan data yang akan dicari, yaitu\n",
    "1. [Unordered List Sequential Search](#Unordered-List-Sequential-Search)\n",
    "2. [Ordered List Sequential Search](#Ordered-List-Sequential-Search)"
   ]
  },
  {
   "cell_type": "markdown",
   "metadata": {
    "collapsed": false
   },
   "source": [
    "## Unordered List Sequential Search\n",
    "\n",
    "Pada *unordered list sequential search*, data berada pada keadaan acak, tidak terurut, sehingga pencarian harus dilakukan mulai dari indeks awal sampai indeks terakhir dari data, atau pencarian berhenti ketika data sudah ditemukan\n",
    "\n",
    "## Code\n",
    "\n",
    "Berikut implementasi algoritma *unordered list sequential search*."
   ]
  },
  {
   "cell_type": "code",
   "execution_count": 0,
   "metadata": {
    "collapsed": true
   },
   "outputs": [
   ],
   "source": [
    "def seqSearch(listData, data):\n",
    "    ind = 0\n",
    "    found = False\n",
    "    while ind < len(listData) and not found:\n",
    "        if listData[ind] == data:\n",
    "            found = True\n",
    "        else:\n",
    "            ind = ind+1\n",
    "    return found"
   ]
  },
  {
   "cell_type": "code",
   "execution_count": 0,
   "metadata": {
    "collapsed": true
   },
   "outputs": [
   ],
   "source": [
    "a=[12,5,9,8,1,10,26]"
   ]
  },
  {
   "cell_type": "code",
   "execution_count": 0,
   "metadata": {
    "collapsed": false,
    "scrolled": true
   },
   "outputs": [
   ],
   "source": [
    "seqSearch(a,1)"
   ]
  },
  {
   "cell_type": "markdown",
   "metadata": {
    "collapsed": false
   },
   "source": [
    "## Latihan - 1:\n",
    "1. Modifikasi program sequential tersebut agar mengembalikan 'Data tidak ada' jika data tidak ditemukan dan mengembalikan index data jika data ditemukan\n",
    "2. Modifikasi program sequential tersebut agar tetap meneruskan pencarian sampai data terakhir, dan kembalikan index data semua data yang ditemukan (asumsi, ada data yang sama)"
   ]
  },
  {
   "cell_type": "markdown",
   "metadata": {
    "collapsed": false
   },
   "source": [
    "[**Kembali ke Menu Awal**](#Pencarian/Searching)"
   ]
  },
  {
   "cell_type": "markdown",
   "metadata": {
    "collapsed": false
   },
   "source": [
    "## Ordered List Sequential Search\n",
    "\n",
    "Pada ordered list sequential search, data sudah dalam keadaan terurut, hal ini tentunya dapat mengurangi waktu komputasi pencarian.  Ilustrasi algoritma pencarian ini, dapat dilihat pada Gambar 2 berikut:<br>\n",
    "\n",
    "![undorderedlist](images/seqSearchOrdered.png) <br>\n",
    "\n",
    "**Gambar 2. Ordered List Sequential Search**<br>\n",
    "\n",
    "Misalkan data yang dicari adalah 10, pada index kedua dari data tersebut adalah 15, oleh karena itu dapat disimpulkan bahwa data 10 tidak terdapat pada list. karena indeks kedua sampai indeks terakhir memiliki nilai lebih besar dari 15.  Sehingga data yang sudah dalam keadaan terurut dapat mempercepat waktu komputasi.\n",
    "\n",
    "Berikut implementasi algoritma sequential search pada ordered list"
   ]
  },
  {
   "cell_type": "code",
   "execution_count": 0,
   "metadata": {
    "collapsed": true
   },
   "outputs": [
   ],
   "source": [
    "def orderedSeqSearch(listData, data):\n",
    "    ind = 0\n",
    "    found = False\n",
    "    stop = False\n",
    "    position=[]\n",
    "    while ind < len(listData) and not found and not stop:\n",
    "        if listData[ind] == data:\n",
    "            found = True\n",
    "            position.append(ind)\n",
    "        else:\n",
    "            if listData[ind] > data:\n",
    "                stop = True\n",
    "            else:\n",
    "                ind = ind+1\n",
    "    \n",
    "    if found:\n",
    "        return ind\n",
    "    else:\n",
    "        return ('Data tidak ada')"
   ]
  },
  {
   "cell_type": "code",
   "execution_count": 0,
   "metadata": {
    "collapsed": true
   },
   "outputs": [
   ],
   "source": [
    "a=[1,1,5,5,5,8,9,10,12,26]"
   ]
  },
  {
   "cell_type": "code",
   "execution_count": 0,
   "metadata": {
    "collapsed": false
   },
   "outputs": [
   ],
   "source": [
    "ind=orderedSeqSearch(a,5)\n",
    "print(ind)\n"
   ]
  },
  {
   "cell_type": "markdown",
   "metadata": {
    "collapsed": false
   },
   "source": [
    "[**Kembali ke Menu Awal**](#Pencarian/Searching)"
   ]
  }
 ],
 "metadata": {
  "kernelspec": {
   "display_name": "Python 3 (system-wide)",
   "language": "python",
   "metadata": {
    "cocalc": {
     "description": "Python 3 programming language",
     "priority": 100,
     "url": "https://www.python.org/"
    }
   },
   "name": "python3"
  },
  "language_info": {
   "codemirror_mode": {
    "name": "ipython",
    "version": 3
   },
   "file_extension": ".py",
   "mimetype": "text/x-python",
   "name": "python",
   "nbconvert_exporter": "python",
   "pygments_lexer": "ipython3",
   "version": "3.6.7"
  }
 },
 "nbformat": 4,
 "nbformat_minor": 4
}