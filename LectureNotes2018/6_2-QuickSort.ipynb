{
 "cells": [
  {
   "cell_type": "markdown",
   "metadata": {
    "collapsed": false
   },
   "source": [
    "# <font color=blue>Pengurutan/Sorting-2</font>\n",
    "\n",
    "\n",
    "Quick Sort\n",
    "***"
   ]
  },
  {
   "cell_type": "markdown",
   "metadata": {
    "collapsed": false
   },
   "source": [
    "Algoritma *sorting* berikutnya adalah *Quick Sort*.  Tahapan pengurutan algoritma ini sama halnya dengan algoritma *Merge Sort*, yaitu proses *divide* dan *combine*.  Hanya saja Jika pada algoritma merge sort, proses divide, dilakukan dengan cara membagi data menjadi dua buah bagian, dan proses pengurutan terjadi pada proses *merging*/*combine*.  Maka pada algoritma Quick Sort, terdapat perbedaan. <br>\n",
    "\n",
    "Algoritma ini dibagi menjadi dua tahap, yaitu :<br>\n",
    "1. [*Divide*](#Divide)\n",
    "1. [*Combine*](#Combine)"
   ]
  },
  {
   "cell_type": "markdown",
   "metadata": {
    "collapsed": false
   },
   "source": [
    "# Divide\n",
    "\n",
    "Berbeda dengan algoritma *merge sort* yang membagi data menjadi dua bagian, tanpa syarat apapun, maka pada algoritma *quick sort* ini, pembagian data menjadi dua buah bagian, harus memenuhi ketentuan bahwa, data yang berada di bagian sebelah kiri (bagian data pertama), haruslah data-data yang memiliki nilai lebih kecil dari nilai pivot (tidak harus urut).  Sedangkan, data-data yang berada disebelah kanan (bagian data kedua), adalah data-data yang memiliki nilai lebih besar dari nilai pivot, seperti yang terlihat pada Gambar 1. <br>\n",
    "\n",
    "![title](images/pivot.png) <br>\n",
    "**Gambar 1. Pembagian data berdasarkan nilai pivot** <br> \n",
    "\n",
    "Gambar 1 menunjukkan contoh data yang terbagi berdasarkan nilai pivot.  Misalkan nilai pivot=37, maka data yang terdapat pada sebelah kiri pivot, memiliki nilai lebih kecil dari pada pivot, yaitu [12, 10, 1, 25], sedangkan data-data yang berada di sebelah kanan pivot, memiliki nilai lebih besar dari pada pivot, yaitu [83, 45, 90, 54].  <br>\n",
    "\n",
    "Algoritma untuk membagi data atau partisi data menjadi dua bagian berdasarkan nilai pivot tersebut adalah sebagai berikut :<br>\n",
    "```\n",
    "partisi(A,p,q) # A=data ; p=indeks awal data yang akan dipartisi, q=indeks akhir data yang akan dipartisi\n",
    "1. x=A[p]     #pivot=x=a[p]   \n",
    "2. i=p\n",
    "3. for j in range(p+1, q+1) : \n",
    "4.    if A[j]<=x:\n",
    "5.        i=i+1\n",
    "6.        A[i],A[j]=A[j],A[i]\n",
    "7. A[p],A[i]=A[i],A[p]\n",
    "```\n",
    "Pada algoritma tersebut, nilai pivot merupakan data yang terdapat pada indeks awal dari data yang akan dipartisi, misalkan 0.  Baris pertama menunjukkan bawa data pivot disimpan dalam variabel $x$.  <br>\n",
    "Untuk mencari data-data yang bernilai kurang dari pivot, maka dilakukan penelusuran, mulai dari data setelah indeks pivot, sampai dengan data terakhir yang akan dipartisi.  Pada proses tersebut, pencarian direpresentasikan dengan variabel $j$, lihat baris ketiga. <br>\n",
    "Setelah didapatkan data yang memiliki nilai lebih kecil dari pivot, maka data tersebut ditukar dengan data yang terdapat pada data disebelah pivot, lihat baris kelima dan keenam. <br>\n",
    "Posisi data terakhir yang memiliki nilai lebih kecil dari data pivot, disimpan dalam variabel i, sehingga pada baris ketujuh, dilakukan pertukaran dengan data tersebut dengan data pivot (lihat baris ketujuh) <br>.\n",
    "\n",
    "Ilustrasi partisi ini dapat dilihat pada Gambar 2. <br>"
   ]
  },
  {
   "cell_type": "markdown",
   "metadata": {
    "collapsed": false
   },
   "source": [
    "![title](images/quickSort.png) <br>\n",
    "**Gambar 2. Ilustrasi Partisi pada Quicksort**\n",
    "\n"
   ]
  },
  {
   "cell_type": "markdown",
   "metadata": {
    "collapsed": false
   },
   "source": [
    "## Code\n",
    "\n",
    "Berikut fungsi untuk partisi data, dengan tiga parameter, yaitu A adalah data , p adalah indeks awal dari data yang akan dipartisi, dan q adalah indeks terakhir dari data yang akan dipartisi"
   ]
  },
  {
   "cell_type": "code",
   "execution_count": 4,
   "metadata": {
    "collapsed": false
   },
   "outputs": [
   ],
   "source": [
    "def partition (A,p,q):\n",
    "    x=A[p]     #pivot=x=a[p]   \n",
    "    i=p\n",
    "    for j in range(p+1, q+1) : \n",
    "        if A[j]<=x:\n",
    "            i=i+1\n",
    "            A[i],A[j]=A[j],A[i]\n",
    "        print(A)\n",
    "    A[p],A[i]=A[i],A[p]\n",
    "    return i\n",
    "    "
   ]
  },
  {
   "cell_type": "code",
   "execution_count": 5,
   "metadata": {
    "collapsed": false,
    "scrolled": true
   },
   "outputs": [
    {
     "name": "stdout",
     "output_type": "stream",
     "text": [
      "[37, 83, 10, 1, 45, 25, 12, 90, 54]\n",
      "[37, 10, 83, 1, 45, 25, 12, 90, 54]\n",
      "[37, 10, 1, 83, 45, 25, 12, 90, 54]\n",
      "[37, 10, 1, 83, 45, 25, 12, 90, 54]\n",
      "[37, 10, 1, 25, 45, 83, 12, 90, 54]\n",
      "[37, 10, 1, 25, 12, 83, 45, 90, 54]\n",
      "[37, 10, 1, 25, 12, 83, 45, 90, 54]\n",
      "[37, 10, 1, 25, 12, 83, 45, 90, 54]\n",
      "[12, 10, 1, 25, 37, 83, 45, 90, 54]\n"
     ]
    }
   ],
   "source": [
    "a=[37,83,10,1,45,25,12,90,54]\n",
    "partition(a,0,len(a)-1)\n",
    "print(a)"
   ]
  },
  {
   "cell_type": "markdown",
   "metadata": {
    "collapsed": false
   },
   "source": [
    "[**Kembali ke Menu Awal**](#Pengurutan/Sorting-2)"
   ]
  },
  {
   "cell_type": "markdown",
   "metadata": {
    "collapsed": false
   },
   "source": [
    "## Combine\n",
    "\n",
    "Tahap kedua pada algoritma quicsort adalah tahapan combine.  Pada tahapan ini, hanya memerintahkan partisi yang berulang kali.  Data yang sudah dipartisi, akan terdiri dari dua bagian data, yaitu bagian pertama dan kedua.  <br>\n",
    "Bagian pertama dilakukan partisi lagi, menjadi dua buah bagian, begitu juga bagian kedua, begitu seterusnya, sampai tidak ada data lagi yang akan dipartisi.  Sehingga hasil akhir adalah, data akan terurut.<br>\n",
    "\n",
    "Pada contoh Gambar 2 tersebut, nilai pivot berada pada indeks ke-4.  Nilai pivot di akhir proses partisi, menempati indeks yang sebenarnya, ketika data tersebut dalam keadaan terurut.  Sehingga proses partisi akan dilakukan pada data-data sebelum nilai pivot, dan data setelah nilai pivot.\n",
    "\n",
    "Proses *combine* yang dilakukan dengan cara memerintahkan partisi berulang, seperti yang terlihat pada Gambar 3. <br>\n",
    "\n",
    "![title](images/quickSort2.png) <br>\n",
    "**Gambar 3. Combine dengan cara partisi**\n",
    "\n",
    "Gambar 3 tersebut menunjukkan partisi kembali data-data sebelum nilai pivot = 37.  Proses partisi yang kedua ini menghasilkan nilai pivot baru yaitu 12, dimana data ini berada pada indeks ke-2.  Akhir dari kedua partisi yang telah dilakukan, dimana telah dihasilkan nilai pivot 37 dengan indeks ke-4, serta nilai pivot 12 dengan indeks ke-2, menunjukkan bahwa, ketika data terurut, nilai 37 dan nilai 12 memang menempati posisi indeks ke-4 dan ke-2, seperti yang ditunjukkan pada Gambar 4.\n",
    "\n",
    "![title](images/quickSort3.png) <br>\n",
    "**Gambar 4. Indeks akhir setelah data terurut**\n"
   ]
  },
  {
   "cell_type": "markdown",
   "metadata": {
    "collapsed": false
   },
   "source": [
    "## Code\n",
    "\n",
    "Berikut adalah fungsi combine untuk algoritma quicksort"
   ]
  },
  {
   "cell_type": "code",
   "execution_count": 6,
   "metadata": {
    "collapsed": false
   },
   "outputs": [
   ],
   "source": [
    "def Quicksort(A,p,q):\n",
    "    if p<q:\n",
    "        r=partition(A,p,q)\n",
    "        Quicksort(A, p, r-1)\n",
    "        Quicksort(A, r+1, q)\n"
   ]
  },
  {
   "cell_type": "code",
   "execution_count": 8,
   "metadata": {
    "collapsed": false
   },
   "outputs": [
    {
     "name": "stdout",
     "output_type": "stream",
     "text": [
      "[37, 83, 10, 1, 45, 25, 12, 90, 54]\n",
      "[37, 10, 83, 1, 45, 25, 12, 90, 54]\n",
      "[37, 10, 1, 83, 45, 25, 12, 90, 54]\n",
      "[37, 10, 1, 83, 45, 25, 12, 90, 54]\n",
      "[37, 10, 1, 25, 45, 83, 12, 90, 54]\n",
      "[37, 10, 1, 25, 12, 83, 45, 90, 54]\n",
      "[37, 10, 1, 25, 12, 83, 45, 90, 54]\n",
      "[37, 10, 1, 25, 12, 83, 45, 90, 54]\n",
      "[12, 10, 1, 25, 37, 83, 45, 90, 54]\n",
      "[12, 10, 1, 25, 37, 83, 45, 90, 54]\n",
      "[12, 10, 1, 25, 37, 83, 45, 90, 54]\n",
      "[1, 10, 12, 25, 37, 83, 45, 90, 54]\n",
      "[1, 10, 12, 25, 37, 83, 45, 90, 54]\n",
      "[1, 10, 12, 25, 37, 83, 45, 90, 54]\n",
      "[1, 10, 12, 25, 37, 83, 45, 54, 90]\n",
      "[1, 10, 12, 25, 37, 54, 45, 83, 90]\n"
     ]
    }
   ],
   "source": [
    "a=[37,83,10,1,45,25,12,90,54]\n",
    "Quicksort(a,0,len(a)-1)\n"
   ]
  },
  {
   "cell_type": "markdown",
   "metadata": {
    "collapsed": false
   },
   "source": [
    "[**Kembali ke Menu Awal**](#Pengurutan/Sorting-2)"
   ]
  }
 ],
 "metadata": {
  "kernelspec": {
   "display_name": "Python 3 (Ubuntu Linux)",
   "language": "python",
   "name": "python3"
  },
  "language_info": {
   "codemirror_mode": {
    "name": "ipython",
    "version": 3
   },
   "file_extension": ".py",
   "mimetype": "text/x-python",
   "name": "python",
   "nbconvert_exporter": "python",
   "pygments_lexer": "ipython3",
   "version": "3.6.7"
  }
 },
 "nbformat": 4,
 "nbformat_minor": 0
}