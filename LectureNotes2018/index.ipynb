{
 "cells": [
  {
   "cell_type": "markdown",
   "metadata": {
    "collapsed": false
   },
   "source": [
    "# <font color=blue>Struktur Data </font>\n",
    "*Indah Agustien Siradjuddin*\n",
    "***\n"
   ]
  },
  {
   "cell_type": "markdown",
   "metadata": {
    "collapsed": true
   },
   "source": [
    "## Materi Perkuliahan\n",
    "Berikut daftar isi materi Struktur Data selama satu Semester ini :\n",
    "\n",
    "### 1. Pengenalan\n",
    "  + [1.1-Review](1_1-review.ipynb)\n",
    "  + [1.2-Pemrograman berorientasi Objek](1_2-classes.ipynb)\n",
    "\n",
    "### 2. Struktur Data \n",
    "\n",
    "  + [2.1-Stacks](2_1-Stack.ipynb)\n",
    "  + [2.2-Queues](2_2-Queues.ipynb)\n",
    "  + [2.3-Deques](2_3-Deques.ipynb)\n",
    "  + [2.4-Linked List](2_4-LinkedList.ipynb)\n",
    "     \n",
    "  \n",
    "### 3. Pengurutan (*Sorting*)\n",
    "\n",
    "  + [3.1-Bubble Sort](3_1-BubbleSort.ipynb)\n",
    "  + [3.2-Selection Sort](3_2-selectionSort.ipynb)\n",
    "  + [3.3-Insertion Sort](3_3-InsertionSort.ipynb)\n",
    "\n",
    "### 4. Rekursif\n",
    "  + [Rekursif](4-Recursif.ipynb)\n",
    "\n",
    "### 5. Pencarian\n",
    "  + [5.1-Sequential Search](5_1-SequentialSearch.ipynb)\n",
    "  + [5.2-Binary Search](5_2-BinarySearch.ipynb)\n",
    "  + [5.3-Hashing](5_3-Hashing.ipynb)\n",
    "\n",
    "\n",
    "### 6. Pengurutan II (*Advanced Sorting*) \n",
    "  + [6.1-Merge Sort](6_1-MergeSort.ipynb)\n",
    "  + [6.2-Quick Sort](6_2-QuickSort.ipynb)\n",
    "  + [6.3-Counting Sort](6_3-CountingSort.ipynb)\n",
    "  \n",
    "### 7-Trees\n",
    "  + [7.1-Binary Tree](7_1-binaryTree.ipynb)\n",
    "  + [7.2-Parsing Binary Tree](7_2-parsingBinTree.ipynb)\n",
    "\n",
    "### 8-Graph\n",
    "  + [8.1-Graph](8_1-graph.ipynb)\n",
    "  + [8.2-Representasi Graph](8_2-representationGraph.ipynb)\n",
    "  + [8.3-Graph Traversal](8_3-GraphTraversal.ipynb)\n"
   ]
  }
 ],
 "metadata": {
  "kernelspec": {
   "display_name": "Python 3 (system-wide)",
   "language": "python",
   "metadata": {
    "cocalc": {
     "description": "Python 3 programming language",
     "priority": 100,
     "url": "https://www.python.org/"
    }
   },
   "name": "python3"
  },
  "language_info": {
   "codemirror_mode": {
    "name": "ipython",
    "version": 3
   },
   "file_extension": ".py",
   "mimetype": "text/x-python",
   "name": "python",
   "nbconvert_exporter": "python",
   "pygments_lexer": "ipython3",
   "version": "3.6.8"
  }
 },
 "nbformat": 4,
 "nbformat_minor": 0
}