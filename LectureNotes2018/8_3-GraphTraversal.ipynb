{
 "cells": [
  {
   "cell_type": "markdown",
   "metadata": {
    "collapsed": false
   },
   "source": [
    "# <font color=blue>Graph Traversal</font>\n",
    "\n",
    "\n",
    "***\n"
   ]
  },
  {
   "cell_type": "markdown",
   "metadata": {
    "collapsed": false
   },
   "source": [
    "*Graph Traversal* merupakan proses mengunjungi setiap *vertex*/*node* .  *Graph Traversal*  digunakan untuk mencari jalur dalam suatu *graph* dari titik asal ke titik tujuan, mencari jalur terpendek antara dua *node*/*vertex*, menemukan semua jalur yang bisa dilalui dari titik asal ke titik tujuan. <br>\n",
    "\n",
    "Berikut adalah contoh graph untuk proses *graph traversal*.<br>\n",
    "![graph](images/graph.jpg)<br>\n",
    "**Gambar 1. *Graph***<br>\n",
    "\n",
    "Struktur data *graph* tersebut dengan menggunakan dictionary adalah sebagai berikut: <br>\n",
    "graph = {'a': ['b', 'd'],'b’: ['a', 'd'], 'c': ['d'], 'd': ['a', 'b', 'c']}<br><br>\n",
    "\n",
    "Dictionary tersebut berisi semua node/simpul serta list tetangganya, dimana setiap key suatu simpul akan berkorespondensi dengan semua tetangganya yang terhubung dengan simpul key tersebut. Berikut ini adalah implementasi mencari jalur dari simpul asal ke simpul tujuan, jika ada jalur maka nilai yang dikembalikan adalah list path jika tidak ada jalur maka nilai yang dikembalikan none. Algoritma yang digunakan adalah *backtracking*, yaitu mencoba setiap kemungkinan secara bergantian sampai menemukan solusi.\n"
   ]
  },
  {
   "cell_type": "markdown",
   "metadata": {
    "collapsed": false
   },
   "source": [
    "## Code\n",
    "\n",
    "Berikut adalah implementasi *graph traversal*"
   ]
  },
  {
   "cell_type": "code",
   "execution_count": 6,
   "metadata": {
    "collapsed": false
   },
   "outputs": [
    {
     "name": "stdout",
     "output_type": "stream",
     "text": [
      "['a', 'b', 'd']\n"
     ]
    }
   ],
   "source": [
    "graph = {'a': ['b', 'd'],'b': ['a', 'd'], 'c': ['d'], 'd': ['a', 'b', 'c']}\n",
    "def find_path(graph, start, end, path=[]):\n",
    "    path = path + [start]\n",
    "    for node in graph[start]:\n",
    "        if not node in path:\n",
    "            newpath = find_path(graph, node, end, path)\n",
    "            if newpath:\n",
    "                return newpath\n",
    "    if start == end:\n",
    "        return path\n",
    "    if not start in graph:\n",
    "        return None\n",
    "    return None\n",
    "\n",
    "print(find_path(graph,'a','d'))"
   ]
  },
  {
   "cell_type": "markdown",
   "metadata": {
    "collapsed": false
   },
   "source": [
    "## Latihan - 2\n",
    "Buatlah program untuk mendapatkan path untuk jalur terpendek dan terpanjang dari sebuah graph. (jalur terpendek / terpanjang HARUS lebih dari 1 dan\n",
    "ditampilkan semua. Semisalkan ada graph seperti berikut ini <br>\n",
    "![graph](images/soalGraf2.png)<br>\n",
    "**Gambar 2. *Graph***<br>\n"
   ]
  }
 ],
 "metadata": {
  "kernelspec": {
   "display_name": "Python 3 (Ubuntu Linux)",
   "language": "python",
   "name": "python3"
  },
  "language_info": {
   "codemirror_mode": {
    "name": "ipython",
    "version": 3
   },
   "file_extension": ".py",
   "mimetype": "text/x-python",
   "name": "python",
   "nbconvert_exporter": "python",
   "pygments_lexer": "ipython3",
   "version": "3.6.7"
  }
 },
 "nbformat": 4,
 "nbformat_minor": 0
}