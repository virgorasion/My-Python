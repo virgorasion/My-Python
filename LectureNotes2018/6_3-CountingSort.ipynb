{
 "cells": [
  {
   "cell_type": "markdown",
   "metadata": {
    "collapsed": false
   },
   "source": [
    "# <font color=blue>Pengurutan/Sorting-2</font>\n",
    "\n",
    "\n",
    "Counting Sort\n",
    "***"
   ]
  },
  {
   "cell_type": "markdown",
   "metadata": {
    "collapsed": false
   },
   "source": [
    "Algoritma sorting yang ketiga adalah algoritma sorting yang memiliki waktu komputasi lebih rendah dibandingkan kedua algoritma sebelumnya (*merge sort* dan *quick sort*), yaitu *counting sort*. <br>\n",
    "\n",
    "Pada algoritma ini, masing-masing data yang akan diurutkan,  dihitung jumlahnya terlebih dahulu.  Sehingga ketika jumlah masing-masing data telah diketahui, maka data-data ini akan mudah ditempatkan ke dalam indeks masing-masing.\n",
    "\n",
    "Misalkan terdapat data [4, 3, 1, 2, 4, 2, 1, 1], maka akan dilakukan terlebih dahulu, perhitungan jumlah masing-masing data, yaitu : <br>\n",
    "data-'1' berjumlah tiga data, sehingga akan menempati posisi indeks ke-0 sampai dengan indeks ke-2 <br>\n",
    "data-'2' berjumlah dua buah data, sehingga akan menempati indeks ke-3 sampai dengan ke-4. <br>\n",
    "data-'3' berjumlah satu buah data, sehingga hanya akan menempati indeks ke-5, sedangkan <br>\n",
    "data-'4' berjumlah dua buah data, dan kedua data ini akan menempati indeks ke-6 dan ke-7. <br>\n",
    "\n"
   ]
  },
  {
   "cell_type": "markdown",
   "metadata": {
    "collapsed": false
   },
   "source": [
    "## Code\n",
    "\n",
    "Berikut adalah code untuk algoritma counting sort.  <br>\n",
    "Loop pertama untuk menyiapkan variabel yang berfungsi menyimpan jumlah komulatif dari masing-masing data, sehingga dengan nilai komulatif ini, maka masing-masing data dapat diletakkan pada indeks-indeks yang tepat berdasarkan nilai komulatif ini. <br>\n",
    "Loop kedua digunakan untuk menghitung jumlah elemen pada masing-masing data.  Misalkan pada contoh sebelumnya, data '1' berjumlah tiga buah elemen. <br>\n",
    "Dari loop kedua ini, dilakukan perhitungan komulatif dari masing-masing data. <br>\n",
    "Loop terakhir akan data akan ditempatkan sesuai dengan nilai komulatif tersebut.\n",
    "\n"
   ]
  },
  {
   "cell_type": "code",
   "execution_count": 1,
   "metadata": {
    "collapsed": true
   },
   "outputs": [
   ],
   "source": [
    "def countingSort(A,k):\n",
    "    C=[]\n",
    "    B=[]\n",
    "    for i in range(k+1):\n",
    "        C.append(0)\n",
    "    \n",
    "    for j in range(len(A)):\n",
    "        C[A[j]]=C[A[j]]+1\n",
    "        B.append(0)\n",
    "    \n",
    "    for i in range(1,k+1):\n",
    "        C[i]=C[i]+C[i-1]\n",
    "    for j in range(len(A)-1,-1,-1):\n",
    "        \n",
    "        B[C[A[j]]-1]=A[j]\n",
    "        C[A[j]]=C[A[j]]-1\n",
    "    return(B)"
   ]
  },
  {
   "cell_type": "code",
   "execution_count": 2,
   "metadata": {
    "collapsed": false
   },
   "outputs": [
    {
     "data": {
      "text/plain": [
       "[1, 2, 3, 4, 5, 17, 20, 20, 26, 31, 54, 55, 93, 93]"
      ]
     },
     "execution_count": 2,
     "metadata": {
     },
     "output_type": "execute_result"
    }
   ],
   "source": [
    "a_list = [54, 26, 93, 17, 1, 31, 2, 55, 20,93,20,3,4,5]\n",
    "countingSort(a_list,93)"
   ]
  },
  {
   "cell_type": "code",
   "execution_count": 0,
   "metadata": {
    "collapsed": true
   },
   "outputs": [
   ],
   "source": [
   ]
  }
 ],
 "metadata": {
  "kernelspec": {
   "display_name": "Python 3 (Ubuntu Linux)",
   "language": "python",
   "name": "python3"
  },
  "language_info": {
   "codemirror_mode": {
    "name": "ipython",
    "version": 3
   },
   "file_extension": ".py",
   "mimetype": "text/x-python",
   "name": "python",
   "nbconvert_exporter": "python",
   "pygments_lexer": "ipython3",
   "version": "3.6.7"
  }
 },
 "nbformat": 4,
 "nbformat_minor": 0
}