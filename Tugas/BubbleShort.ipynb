{
 "cells": [
  {
   "cell_type": "markdown",
   "metadata": {},
   "source": [
    "# Jawaban Praktikum Struktur Data kelas B\n",
    "# Modul 4 : Sorting - Bubble Sort\n",
    "\n",
    "# Nama: M Nur Fauzan W\n",
    "# NIM: 190411100064"
   ]
  },
  {
   "cell_type": "markdown",
   "metadata": {},
   "source": [
    "# 1\n",
    "\n",
    "Buatlah fungsi sorting dengan menggunakan algoritma bubble sort yang memiliki tiga buah parameter, dimana parameter pertama adalah list data yang akan diurutkan, sedangkan dua parameter berikutnya adalah jenis sorting, yaitu :\n",
    "- parameter_1='asc'/'desc', dan parameter_2='1'/ '2'\n",
    "- 'asc'/'desc' menyatakan data akan diurutkan secara ascending atau descending\n",
    "- '1' / '2' menyatakan pergerakan data.  \n",
    "- Jika data akan diurutkan secara ascending/descending dan pergerakan '1', maka setiap iterasi luar bertujuan menempatkan data terbesar pada posisi terakhir/pertama \n",
    "- Jika data akan diurutkan secara ascending/descending dan pergerakan '2', maka setiap iterasi luar bertujuan menempatkan data terkecil pada posisi pertama/terakhir, seperti contoh berikut"
   ]
  },
  {
   "cell_type": "code",
   "execution_count": 13,
   "metadata": {},
   "outputs": [],
   "source": [
    "# Jawaban Nomer 1\n",
    "def BubbleShort(data, decision=2, short=\"asc\"):\n",
    "    for i,j in enumerate(range(len(data),0,-1)):\n",
    "        # print(\"Iterasi Ke-{0} \\tJumlah Iterasi : {1}\".format(i+1,j-1))\n",
    "        if decision == 1:\n",
    "            for i,x in enumerate(range(len(data)-1,len(data)-j,-1)):\n",
    "                if short == \"asc\":\n",
    "                    if data[x] < data[x-1]:\n",
    "                        data[x], data[x-1] = data[x-1], data[x]\n",
    "                elif short == \"desc\":\n",
    "                    if data[x] > data[x-1]:\n",
    "                        data[x], data[x-1] = data[x-1], data[x]\n",
    "                # print(\"{0} = {1}\".format(i+1,data))\n",
    "        elif decision == 2:\n",
    "            for i in range(j-1):\n",
    "                if short == \"asc\":\n",
    "                    if data[i] < data[i+1]:\n",
    "                        data[i], data[i+1] = data[i+1], data[i]\n",
    "                elif short == \"desc\":\n",
    "                    if data[i] > data[i+1]:\n",
    "                        data[i], data[i+1] = data[i+1], data[i]\n",
    "                        # print(\"{0} = {1}\".format(i+1,data))\n",
    "                urut = urut and False\n",
    "    # print(\"Data Terurut =\",data)\n",
    "\n",
    "data = [10,2,1,13,15,22,11,45]\n",
    "BubbleShort(data,decision=1)"
   ]
  },
  {
   "cell_type": "markdown",
   "metadata": {},
   "source": [
    "# 2\n",
    "Buatlah modifikasi bubble sort, untuk mengurangi waktu iterasi, sedimikian hingga, iterasi luar akan berhenti jika iterasi dalam sudah tidak ada lagi data yang mengalami proses *swapping*, seperti contoh berikut\n",
    "\n"
   ]
  },
  {
   "cell_type": "code",
   "execution_count": 35,
   "metadata": {},
   "outputs": [],
   "source": [
    "#Jawaban Nomer 2\n",
    "def ModifiedBubbleShort(data, decision=2, short=\"asc\"):\n",
    "    for i,j in enumerate(range(len(data),0,-1)):\n",
    "        # print(\"Iterasi Ke-{0} \\tJumlah Iterasi : {1}\".format(i+1,j-1))\n",
    "        if decision == 1:\n",
    "            urut = True\n",
    "            for i,x in enumerate(range(len(data)-1,len(data)-j,-1)):\n",
    "                if short == \"asc\":\n",
    "                    if data[x] < data[x-1]:\n",
    "                        data[x], data[x-1] = data[x-1], data[x]\n",
    "                        urut = urut and False\n",
    "                    else:\n",
    "                        urut = urut and True\n",
    "                elif short == \"desc\":\n",
    "                    if data[x] > data[x-1]:\n",
    "                        data[x], data[x-1] = data[x-1], data[x]\n",
    "                        urut = urut and False\n",
    "                    else:\n",
    "                        urut = urut and True\n",
    "                # print(\"{0} = {1}\".format(i+1,data))\n",
    "            if urut:\n",
    "                break\n",
    "        elif decision == 2:\n",
    "            for i in range(j-1):\n",
    "                if short == \"asc\":\n",
    "                    if data[i] < data[i+1]:\n",
    "                        data[i], data[i+1] = data[i+1], data[i]\n",
    "                        urut = urut and False\n",
    "                    else:\n",
    "                        urut = urut and True\n",
    "                elif short == \"desc\":\n",
    "                    if data[i] > data[i+1]:\n",
    "                        data[i], data[i+1] = data[i+1], data[i]\n",
    "                        urut = urut and False\n",
    "                    else:\n",
    "                        urut = urut and True\n",
    "                # print(\"{0} = {1}\".format(i+1,data))\n",
    "            if urut:\n",
    "                break\n",
    "    # print(\"Data Terurut =\",data)\n",
    "\n",
    "data = [10,2,1,13,15,22,11,45]\n",
    "ModifiedBubbleShort(data,decision=1)"
   ]
  },
  {
   "cell_type": "markdown",
   "metadata": {},
   "source": [
    "# 3\n",
    "\n",
    "Bangkitkan lebih dari 1000 bilangan acak (gunakan modul random), dan catat waktu komputasi yang dibutuhkan untuk mengurutkan data tersebut dengan menggunakan algoritma bubble sort, dan modified bubble sort (hilangkan display data tiap iterasi)"
   ]
  },
  {
   "cell_type": "code",
   "execution_count": 59,
   "metadata": {
    "tags": [
     "outputPrepend",
     "outputPrepend",
     "outputPrepend",
     "outputPrepend",
     "outputPrepend",
     "outputPrepend",
     "outputPrepend",
     "outputPrepend",
     "outputPrepend",
     "outputPrepend",
     "outputPrepend",
     "outputPrepend",
     "outputPrepend",
     "outputPrepend",
     "outputPrepend",
     "outputPrepend",
     "outputPrepend",
     "outputPrepend",
     "outputPrepend",
     "outputPrepend",
     "outputPrepend",
     "outputPrepend",
     "outputPrepend",
     "outputPrepend",
     "outputPrepend",
     "outputPrepend",
     "outputPrepend",
     "outputPrepend",
     "outputPrepend",
     "outputPrepend",
     "outputPrepend",
     "outputPrepend",
     "outputPrepend",
     "outputPrepend",
     "outputPrepend",
     "outputPrepend",
     "outputPrepend",
     "outputPrepend",
     "outputPrepend",
     "outputPrepend",
     "outputPrepend",
     "outputPrepend"
    ]
   },
   "outputs": [
    {
     "output_type": "stream",
     "name": "stdout",
     "text": "==================================================\n Time Execution BubbleShort 7.922 Seconds \n==================================================\n==================================================\n Time Execution ModifiedBubbleShort 0.002 seconds \n==================================================\n"
    }
   ],
   "source": [
    "# Jawaban Nomer 3\n",
    "import random as rand\n",
    "import time \n",
    "\n",
    "data = []\n",
    "for i in range(5000):\n",
    "    data.append(rand.randint(1,9999))\n",
    "\n",
    "start_time = time.time()\n",
    "BubbleShort(data,decision=1)\n",
    "print(\"{0}\\n Time Execution BubbleShort {1} Seconds \\n{0}\".format(\"=\"*50,round(time.time() - start_time,3)))\n",
    "start_time = time.time()\n",
    "ModifiedBubbleShort(data,decision=1)\n",
    "print(\"{0}\\n Time Execution ModifiedBubbleShort {1} seconds \\n{0}\".format(\"=\"*50,round(time.time() - start_time,3)))\n"
   ]
  }
 ],
 "metadata": {
  "language_info": {
   "codemirror_mode": {
    "name": "ipython",
    "version": 3
   },
   "file_extension": ".py",
   "mimetype": "text/x-python",
   "name": "python",
   "nbconvert_exporter": "python",
   "pygments_lexer": "ipython3",
   "version": "3.7.3-final"
  },
  "orig_nbformat": 2,
  "kernelspec": {
   "name": "python37332bit891ed9498f1e46d8943d8a133074ebe5",
   "display_name": "Python 3.7.3 32-bit"
  }
 },
 "nbformat": 4,
 "nbformat_minor": 2
}