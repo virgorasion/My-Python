{
 "cells": [
  {
   "cell_type": "markdown",
   "metadata": {},
   "source": [
    "# Pengenalan Class - Object"
   ]
  },
  {
   "cell_type": "markdown",
   "metadata": {},
   "source": [
    "nama class : Robot\n",
    "instance variable/attribute/property/state : warna dan tinggi\n",
    "method : \n",
    "- settingAttribute()\n",
    "- selfIntroducint()"
   ]
  },
  {
   "cell_type": "code",
   "execution_count": 9,
   "metadata": {},
   "outputs": [],
   "source": [
    "class Robot:\n",
    "    def settingAttribute(self):# method, self\n",
    "        temp=100\n",
    "        self.warna='Red'\n",
    "        self.tinggi=160\n",
    "    def Introducing(self):\n",
    "        print('warna=',self.warna, 'tinggi=',self.tinggi)\n",
    "        \n"
   ]
  },
  {
   "cell_type": "code",
   "execution_count": 10,
   "metadata": {},
   "outputs": [],
   "source": [
    "#instansiasi\n",
    "r1=Robot() # r1 --> object\n",
    "r2=Robot() # r2 --> object"
   ]
  },
  {
   "cell_type": "code",
   "execution_count": 12,
   "metadata": {},
   "outputs": [
    {
     "name": "stdout",
     "output_type": "stream",
     "text": [
      "warna= Red tinggi= 160\n"
     ]
    }
   ],
   "source": [
    "r1.settingAttribute()\n",
    "r1.Introducing()"
   ]
  },
  {
   "cell_type": "code",
   "execution_count": 14,
   "metadata": {},
   "outputs": [],
   "source": [
    "class Robot:\n",
    "    def settingAttribute(self,w,t):# method, self\n",
    "        temp=100\n",
    "        self.warna=w\n",
    "        self.tinggi=t\n",
    "    def introducing(self):\n",
    "        print('warna=',self.warna, 'tinggi=',self.tinggi)\n",
    "        "
   ]
  },
  {
   "cell_type": "code",
   "execution_count": 17,
   "metadata": {
    "scrolled": true
   },
   "outputs": [
    {
     "name": "stdout",
     "output_type": "stream",
     "text": [
      "warna= green tinggi= 100\n",
      "warna= yellow tinggi= 150\n"
     ]
    }
   ],
   "source": [
    "r1=Robot() # r1 --> object\n",
    "r2=Robot() # r2 --> object\n",
    "r1.settingAttribute('green',100)\n",
    "r1.introducing()\n",
    "r2.settingAttribute('yellow',150)\n",
    "r2.introducing()"
   ]
  },
  {
   "cell_type": "markdown",
   "metadata": {},
   "source": [
    "# Constructor\n",
    "\n",
    "dieksekusi pada saat instansiasi"
   ]
  },
  {
   "cell_type": "code",
   "execution_count": 18,
   "metadata": {},
   "outputs": [],
   "source": [
    "class Robot:\n",
    "    def __init__(self,w,t):# constructor\n",
    "        temp=100\n",
    "        self.warna=w\n",
    "        self.tinggi=t\n",
    "    def introducing(self):\n",
    "        print('warna=',self.warna, 'tinggi=',self.tinggi)\n",
    "    "
   ]
  },
  {
   "cell_type": "code",
   "execution_count": 19,
   "metadata": {},
   "outputs": [
    {
     "name": "stdout",
     "output_type": "stream",
     "text": [
      "warna= red tinggi= 170\n"
     ]
    }
   ],
   "source": [
    "#object, instance\n",
    "\n",
    "r1=Robot('red',170)\n",
    "r1.introducing()"
   ]
  },
  {
   "cell_type": "code",
   "execution_count": 22,
   "metadata": {},
   "outputs": [],
   "source": [
    "class Kompleks:\n",
    "    def __init__(self,re=0,im=0):\n",
    "        self.real=re\n",
    "        self.imajiner=im\n",
    "    def display(self):\n",
    "        print(self.real,'+',self.imajiner,'i')\n",
    "    def addKompleks(self,bil): #bil-->object\n",
    "        tempR=self.real+bil.real\n",
    "        tempI=self.imajiner+bil.imajiner\n",
    "        \n",
    "        return Kompleks(tempR,tempI)\n",
    "    def multKompleks()\n",
    "        "
   ]
  },
  {
   "cell_type": "code",
   "execution_count": 24,
   "metadata": {},
   "outputs": [
    {
     "name": "stdout",
     "output_type": "stream",
     "text": [
      "5 + 3 i\n",
      "2 + 6 i\n",
      "7 + 9 i\n"
     ]
    }
   ],
   "source": [
    "k1=Kompleks(5,3)\n",
    "k2=Kompleks(2,6)\n",
    "k3=k1.addKompleks(k2)\n",
    "k1.display()\n",
    "k2.display()\n",
    "k3.display()"
   ]
  },
  {
   "cell_type": "markdown",
   "metadata": {},
   "source": [
    "$a=5+6i$\n",
    "\n",
    "5--> bagian Real\n",
    "6 -->bagian imajiner (i) --$\\sqrt{-1}$\n",
    "\n",
    "\n",
    "class... BilanganKompleks:\n",
    "- constructor\n",
    "- method display()\n",
    "- attribute : bagianReal, dan bagianImajiner"
   ]
  },
  {
   "cell_type": "code",
   "execution_count": null,
   "metadata": {},
   "outputs": [],
   "source": []
  }
 ],
 "metadata": {
  "kernelspec": {
   "display_name": "Python 3",
   "language": "python",
   "name": "python3"
  },
  "language_info": {
   "codemirror_mode": {
    "name": "ipython",
    "version": 3
   },
   "file_extension": ".py",
   "mimetype": "text/x-python",
   "name": "python",
   "nbconvert_exporter": "python",
   "pygments_lexer": "ipython3",
   "version": "3.7.3"
  }
 },
 "nbformat": 4,
 "nbformat_minor": 2
}
